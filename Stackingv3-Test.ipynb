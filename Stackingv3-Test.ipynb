{
 "cells": [
  {
   "cell_type": "code",
   "execution_count": 1,
   "id": "1f5b4af1",
   "metadata": {},
   "outputs": [],
   "source": [
    "import matplotlib.pyplot as plt\n",
    "import seaborn as sns\n",
    "import gc\n",
    "import pandas as pd\n",
    "import lightgbm as lgb\n",
    "import numpy as np\n",
    "from sklearn.metrics import roc_auc_score, precision_recall_curve, roc_curve, average_precision_score, auc\n",
    "from sklearn.model_selection import KFold\n",
    "from lightgbm import LGBMClassifier\n",
    "import matplotlib.pyplot as plt\n",
    "import seaborn as sns\n",
    "import gc\n",
    "from sklearn.model_selection import StratifiedKFold\n",
    "import category_encoders\n",
    "from catboost import Pool\n",
    "from catboost.utils import get_roc_curve\n",
    "from sklearn.metrics import auc\n",
    "from sklearn.ensemble import RandomForestClassifier\n",
    "from sklearn.model_selection import StratifiedKFold, KFold\n",
    "from sklearn.metrics import roc_auc_score\n",
    "import lightgbm as lgb\n",
    "import catboost"
   ]
  },
  {
   "cell_type": "code",
   "execution_count": 2,
   "id": "a7268f7f",
   "metadata": {},
   "outputs": [],
   "source": [
    "train_data = pd.read_csv('./train_dataset/train_public.csv')\n",
    "test_public = pd.read_csv('./test_public.csv')\n",
    "train_internet = pd.read_csv('./train_dataset/train_internet.csv', encoding='gb2312')"
   ]
  },
  {
   "cell_type": "code",
   "execution_count": 5,
   "id": "46c06de7",
   "metadata": {},
   "outputs": [],
   "source": [
    "sub=pd.read_csv(\"./submit/test_new_final.csv\")\n",
    "sub=sub.rename(columns={'id': 'loan_id'})\n",
    "sub.loc[sub['isDefault']<0.4,'isDefault'] = 0\n",
    "nw_sub=sub[(sub['isDefault']==0)]\n",
    "nw_test_data=test_public.merge(nw_sub,on='loan_id',how='inner')\n",
    "nw_train_data = pd.concat([train_data,nw_test_data]).reset_index(drop=True)\n",
    "nw_train_data.to_csv(\"./train_dataset/nw_train_public_final.csv\",index=0)"
   ]
  },
  {
   "cell_type": "code",
   "execution_count": 6,
   "id": "a1481459",
   "metadata": {},
   "outputs": [],
   "source": [
    "train_data = pd.read_csv('./train_dataset/nw_train_public_final.csv')"
   ]
  },
  {
   "cell_type": "code",
   "execution_count": 7,
   "id": "509e3c8a",
   "metadata": {},
   "outputs": [],
   "source": [
    "X_train = train_data.copy()\n",
    "X_test = test_public.copy()\n",
    "X_internet = train_internet.copy()"
   ]
  },
  {
   "cell_type": "code",
   "execution_count": 8,
   "id": "77c9ce14",
   "metadata": {},
   "outputs": [
    {
     "data": {
      "text/plain": [
       "(19127, 39)"
      ]
     },
     "execution_count": 8,
     "metadata": {},
     "output_type": "execute_result"
    }
   ],
   "source": [
    "X_train = X_train.drop(['isDefault'], axis = 1)\n",
    "X_train.shape\n",
    "\n",
    "X_train['is_train'] = 1\n",
    "X_test['is_train'] = 0\n",
    "\n",
    "X_traintest = X_traintest = pd.concat([X_train, X_test], axis = 0)\n",
    "X_traintest.shape"
   ]
  },
  {
   "cell_type": "code",
   "execution_count": 9,
   "id": "3d3ace89",
   "metadata": {},
   "outputs": [],
   "source": [
    "def time_format(x):\n",
    "    #print(x)\n",
    "    if x>= pd.to_datetime('2021-01-01'):\n",
    "        t = '20' + str(x)[8:10] + '-' + str(x)[5:7] + '-01'\n",
    "        #print('t=', t)\n",
    "        return pd.to_datetime(t)\n",
    "    return x"
   ]
  },
  {
   "cell_type": "code",
   "execution_count": 10,
   "id": "f9f5559a",
   "metadata": {},
   "outputs": [
    {
     "data": {
      "text/plain": [
       "{}"
      ]
     },
     "execution_count": 10,
     "metadata": {},
     "output_type": "execute_result"
    }
   ],
   "source": [
    "have_null_fea_dict = (X_traintest.isnull().sum()/len(X_traintest)).to_dict() \n",
    "fea_null_moreThanThreshold = {} \n",
    "for key,value in have_null_fea_dict.items(): \n",
    "    if value > 0.4: \n",
    "        fea_null_moreThanThreshold[key] = value\n",
    "fea_null_moreThanThreshold"
   ]
  },
  {
   "cell_type": "code",
   "execution_count": 11,
   "id": "8a259e94",
   "metadata": {},
   "outputs": [],
   "source": [
    "unimport_fea = ['employer_type', 'industry', 'region', 'early_return', 'policy_code', 'pub_dero_bankrup', 'f1', 'del_in_18month', 'initial_list_status']\n",
    "for cat in unimport_fea:\n",
    "    X_internet = X_internet.drop(cat, axis=1)\n",
    "    X_traintest = X_traintest.drop(cat, axis=1)"
   ]
  },
  {
   "cell_type": "code",
   "execution_count": 12,
   "id": "6fe16d8f",
   "metadata": {},
   "outputs": [],
   "source": [
    "work_year_dict = {\n",
    "    '< 1 year': 0,\n",
    "    '1 year': 1,\n",
    "    '2 years': 2,\n",
    "    '3 years': 3,\n",
    "    '4 years': 4,\n",
    "    '5 years': 5,\n",
    "    '6 years': 6,\n",
    "    '7 years': 7,\n",
    "    '8 years': 8,\n",
    "    '9 years': 9,\n",
    "    '10+ years': 10,\n",
    "}\n",
    "\n",
    "\n",
    "X_traintest['work_year'] = X_traintest['work_year'].map(work_year_dict)\n",
    "X_internet['work_year'] = X_internet['work_year'].map(work_year_dict)"
   ]
  },
  {
   "cell_type": "code",
   "execution_count": 13,
   "id": "5d55c0c6",
   "metadata": {},
   "outputs": [],
   "source": [
    "class_dict = {\n",
    "    'A': 1,\n",
    "    'B': 2,\n",
    "    'C': 3,\n",
    "    'D': 4,\n",
    "    'E': 5,\n",
    "    'F': 6,\n",
    "    'G': 7,\n",
    "}\n",
    "\n",
    "\n",
    "X_traintest['class'] = X_traintest['class'].map(class_dict)\n",
    "X_internet['class'] = X_internet['class'].map(class_dict)"
   ]
  },
  {
   "cell_type": "markdown",
   "id": "e010a574",
   "metadata": {},
   "source": [
    "## Date "
   ]
  },
  {
   "cell_type": "code",
   "execution_count": 14,
   "id": "47ab1991",
   "metadata": {},
   "outputs": [],
   "source": [
    "X_traintest['earlies_credit_mon'] = pd.to_datetime(X_traintest['earlies_credit_mon'])\n",
    "X_internet['earlies_credit_mon'] = pd.to_datetime(X_internet['earlies_credit_mon'])"
   ]
  },
  {
   "cell_type": "code",
   "execution_count": 15,
   "id": "65042da0",
   "metadata": {},
   "outputs": [],
   "source": [
    "X_traintest['earlies_credit_mon'] = X_traintest['earlies_credit_mon'].apply(time_format)\n",
    "X_internet['earlies_credit_mon'] = X_internet['earlies_credit_mon'].apply(time_format)"
   ]
  },
  {
   "cell_type": "code",
   "execution_count": 16,
   "id": "7eb3f8aa",
   "metadata": {},
   "outputs": [],
   "source": [
    "X_traintest['earlies_credit_mon_delta'] = (X_traintest['earlies_credit_mon'] - X_traintest['earlies_credit_mon'].min())  / np.timedelta64(1,'D')\n",
    "X_internet['earlies_credit_mon_delta'] = (X_internet['earlies_credit_mon'] - X_internet['earlies_credit_mon'].min())  / np.timedelta64(1,'D')"
   ]
  },
  {
   "cell_type": "code",
   "execution_count": 17,
   "id": "5583d27b",
   "metadata": {},
   "outputs": [],
   "source": [
    "X_traintest['issue_date'] = pd.to_datetime(X_traintest['issue_date'])\n",
    "X_internet['issue_date'] = pd.to_datetime(X_internet['issue_date'])"
   ]
  },
  {
   "cell_type": "code",
   "execution_count": 18,
   "id": "63ab9f06",
   "metadata": {},
   "outputs": [],
   "source": [
    "X_traintest['issue_date'] = X_traintest['issue_date'].apply(time_format)\n",
    "X_internet['issue_date'] = X_internet['issue_date'].apply(time_format)"
   ]
  },
  {
   "cell_type": "code",
   "execution_count": 19,
   "id": "4b5d6b8c",
   "metadata": {},
   "outputs": [],
   "source": [
    "X_traintest['issue_date_delta'] = (X_traintest['issue_date'] - X_traintest['issue_date'].min())  / np.timedelta64(1,'D')\n",
    "X_internet['issue_date_delta'] = (X_internet['issue_date'] - X_internet['issue_date'].min())  / np.timedelta64(1,'D')"
   ]
  },
  {
   "cell_type": "code",
   "execution_count": 20,
   "id": "9642733c",
   "metadata": {},
   "outputs": [],
   "source": [
    "col_to_drop = ['issue_date', 'earlies_credit_mon']\n",
    "X_traintest = X_traintest.drop(col_to_drop, axis=1)\n",
    "X_internet = X_internet.drop(col_to_drop, axis=1)"
   ]
  },
  {
   "cell_type": "markdown",
   "id": "2037c0f2",
   "metadata": {},
   "source": [
    "## 交叉特征 "
   ]
  },
  {
   "cell_type": "code",
   "execution_count": 21,
   "id": "a70c6444",
   "metadata": {},
   "outputs": [],
   "source": [
    "X_traintest['pro'] = X_traintest['interest'].mul(X_traintest['year_of_loan'])\n",
    "X_traintest['loan_year'] = X_traintest['total_loan']/X_traintest['year_of_loan']\n",
    "X_traintest['early_ratio'] = X_traintest['early_return_amount']/X_traintest['total_loan']\n",
    "X_traintest['recircle_ratio'] = X_traintest['recircle_b']/X_traintest['total_loan']\n",
    "X_traintest['recircle_amt'] = X_traintest['recircle_b'].mul(X_traintest['total_loan'])"
   ]
  },
  {
   "cell_type": "code",
   "execution_count": 22,
   "id": "8ec09339",
   "metadata": {},
   "outputs": [],
   "source": [
    "X_internet['pro'] = X_internet['interest'].mul(X_internet['year_of_loan'])\n",
    "X_internet['loan_year'] = X_internet['total_loan']/X_internet['year_of_loan']\n",
    "X_internet['early_ratio'] = X_internet['early_return_amount']/X_internet['total_loan']\n",
    "X_internet['recircle_ratio'] = X_internet['recircle_b']/X_internet['total_loan']\n",
    "X_internet['recircle_amt'] = X_internet['recircle_b'].mul(X_internet['total_loan'])"
   ]
  },
  {
   "cell_type": "markdown",
   "id": "e99d133c",
   "metadata": {},
   "source": [
    "## 特征补充 "
   ]
  },
  {
   "cell_type": "code",
   "execution_count": 23,
   "id": "30708716",
   "metadata": {},
   "outputs": [],
   "source": [
    "numerical_fea = list(X_traintest.select_dtypes(exclude=['object']).columns) \n",
    "category_fea = list(filter(lambda x: x not in numerical_fea,list(X_traintest.columns)))"
   ]
  },
  {
   "cell_type": "code",
   "execution_count": 24,
   "id": "a3c676cb",
   "metadata": {},
   "outputs": [],
   "source": [
    "all_fea = X_traintest.columns\n",
    "X_train = X_traintest[X_traintest.is_train == 1][all_fea]\n",
    "y_train = train_data['isDefault']\n",
    "\n",
    "X_test = X_traintest[X_traintest.is_train == 0][all_fea]"
   ]
  },
  {
   "cell_type": "code",
   "execution_count": 25,
   "id": "b55b26cd",
   "metadata": {},
   "outputs": [],
   "source": [
    "X_train[category_fea] = X_train[category_fea].astype(str)\n",
    "X_test[category_fea] = X_test[category_fea].astype(str)\n",
    "\n",
    "X_train[numerical_fea] = X_train[numerical_fea].astype(float)\n",
    "X_test[numerical_fea] = X_test[numerical_fea].astype(float)"
   ]
  },
  {
   "cell_type": "code",
   "execution_count": 26,
   "id": "a154d116",
   "metadata": {},
   "outputs": [
    {
     "name": "stdout",
     "output_type": "stream",
     "text": [
      "Learning rate set to 0.031916\n",
      "0:\tlearn: 0.6481321\ttotal: 153ms\tremaining: 2m 32s\n",
      "400:\tlearn: 0.1917811\ttotal: 2.24s\tremaining: 3.34s\n",
      "800:\tlearn: 0.1540189\ttotal: 4.19s\tremaining: 1.04s\n",
      "999:\tlearn: 0.1386211\ttotal: 5.16s\tremaining: 0us\n"
     ]
    },
    {
     "data": {
      "text/plain": [
       "<catboost.core.CatBoostClassifier at 0x1eafb9bdf48>"
      ]
     },
     "execution_count": 26,
     "metadata": {},
     "output_type": "execute_result"
    }
   ],
   "source": [
    "model = catboost.CatBoostClassifier(cat_features = category_fea, random_state = 2080)\n",
    "model.fit(X_train, y_train, verbose=400)"
   ]
  },
  {
   "cell_type": "code",
   "execution_count": 27,
   "id": "b91e74f2",
   "metadata": {},
   "outputs": [],
   "source": [
    "feature_importances = model.get_feature_importance(prettified=True,\n",
    "                                                   thread_count=-1,\n",
    "                                                   verbose=False)"
   ]
  },
  {
   "cell_type": "code",
   "execution_count": 28,
   "id": "9e44012a",
   "metadata": {},
   "outputs": [
    {
     "data": {
      "text/plain": [
       "{'app_type', 'is_train', 'known_dero', 'known_outstanding_loan'}"
      ]
     },
     "execution_count": 28,
     "metadata": {},
     "output_type": "execute_result"
    }
   ],
   "source": [
    "tr_cols = set(X_traintest.columns)\n",
    "same_col = list(tr_cols.intersection(set(X_internet.columns)))\n",
    "\n",
    "tr_cols.difference(set(same_col))"
   ]
  },
  {
   "cell_type": "code",
   "execution_count": 29,
   "id": "66c13977",
   "metadata": {},
   "outputs": [],
   "source": [
    "for i in range(feature_importances['Feature Id'].size):\n",
    "    if (feature_importances['Feature Id'][i] in same_col):\n",
    "        if feature_importances['Importances'][i]>1:\n",
    "            X_traintest[feature_importances['Feature Id'][i]+'_cnt'] = category_encoders.count.CountEncoder().fit_transform(X_traintest[feature_importances['Feature Id'][i]])\n",
    "            X_internet[feature_importances['Feature Id'][i]+'_cnt'] = category_encoders.count.CountEncoder().fit_transform(X_internet[feature_importances['Feature Id'][i]])\n"
   ]
  },
  {
   "cell_type": "markdown",
   "id": "af5f3a4a",
   "metadata": {},
   "source": [
    "## 训练、测试数据 "
   ]
  },
  {
   "cell_type": "code",
   "execution_count": 30,
   "id": "48381a3e",
   "metadata": {},
   "outputs": [],
   "source": [
    "all_fea = X_traintest.columns\n",
    "X_train = X_traintest[X_traintest.is_train == 1][all_fea]\n",
    "X_train = pd.concat([X_train, train_data['isDefault']], axis=1)\n",
    "y_train = train_data['isDefault']\n",
    "\n",
    "X_test = X_traintest[X_traintest.is_train == 0][all_fea]\n",
    "\n",
    "X_train = X_train.drop('is_train', axis=1)\n",
    "X_test = X_test.drop('is_train', axis=1)"
   ]
  },
  {
   "cell_type": "code",
   "execution_count": 31,
   "id": "fc35a426",
   "metadata": {},
   "outputs": [],
   "source": [
    "tr_cols = set(X_train.columns)\n",
    "same_col = list(tr_cols.intersection(set(X_internet.columns)))\n",
    "train_inteSame = X_internet[same_col].copy()\n",
    "\n",
    "Inte_add_cos = list(tr_cols.difference(set(same_col)))\n",
    "for col in Inte_add_cos:\n",
    "    train_inteSame[col] = np.nan"
   ]
  },
  {
   "cell_type": "markdown",
   "id": "2bbf5ccc",
   "metadata": {},
   "source": [
    "## Stacking "
   ]
  },
  {
   "cell_type": "code",
   "execution_count": 32,
   "id": "826b2e64",
   "metadata": {},
   "outputs": [],
   "source": [
    "clf1 = lgb.LGBMClassifier(objective='binary',\n",
    "                         boosting_type='gbdt',\n",
    "                         tree_learner='serial',\n",
    "                         num_leaves=32,\n",
    "                         max_depth=7,\n",
    "                         learning_rate=0.05,\n",
    "                         n_estimators=10000,\n",
    "                         subsample=0.8,\n",
    "                         feature_fraction=0.6,\n",
    "                         reg_alpha=0.5,\n",
    "                         reg_lambda=0.5,\n",
    "                         random_state=2021,\n",
    "                         is_unbalance=True,\n",
    "                         metric='auc',\n",
    "                         verbose=-1)\n",
    "\n",
    "\n",
    "clf2 = catboost.CatBoostClassifier(metric_period=400,\n",
    "                                   cat_features = category_fea,\n",
    "                                   random_state = 2080,\n",
    "                                   eval_metric='AUC')"
   ]
  },
  {
   "cell_type": "code",
   "execution_count": 33,
   "id": "ebdb0359",
   "metadata": {},
   "outputs": [],
   "source": [
    "def train_model(data_, test_, y_, folds_, clf):\n",
    "    oof_preds = np.zeros(data_.shape[0])\n",
    "    sub_preds = np.zeros(test_.shape[0])\n",
    "    feature_importance_df = pd.DataFrame()\n",
    "    feats = [f for f in data_.columns if f not in ['loan_id', 'user_id', 'isDefault'] ]\n",
    "    for n_fold, (trn_idx, val_idx) in enumerate(folds_.split(data_)):\n",
    "        trn_x, trn_y = data_[feats].iloc[trn_idx], y_.iloc[trn_idx]\n",
    "        val_x, val_y = data_[feats].iloc[val_idx], y_.iloc[val_idx]\n",
    "        \n",
    "        clf.fit(trn_x, trn_y, \n",
    "                eval_set= [(trn_x, trn_y), (val_x, val_y)], \n",
    "                verbose=400, early_stopping_rounds=50  #30\n",
    "               )\n",
    "\n",
    "        oof_preds[val_idx] = clf.predict_proba(val_x)[:, 1]\n",
    "        sub_preds += clf.predict_proba(test_[feats])[:, 1] / folds_.n_splits\n",
    "        \n",
    "        fold_importance_df = pd.DataFrame()\n",
    "        fold_importance_df[\"feature\"] = feats\n",
    "        fold_importance_df[\"importance\"] = clf.feature_importances_\n",
    "        fold_importance_df[\"fold\"] = n_fold + 1\n",
    "        feature_importance_df = pd.concat([feature_importance_df, fold_importance_df], axis=0)\n",
    "        \n",
    "        print('Fold %2d AUC : %.6f' % (n_fold + 1, roc_auc_score(val_y, oof_preds[val_idx])))\n",
    "\n",
    "        gc.collect()\n",
    "        \n",
    "    print('Full AUC score %.6f' % roc_auc_score(y_, oof_preds)) \n",
    "    \n",
    "    test_['isDefault'] = sub_preds\n",
    "\n",
    "    return oof_preds, test_[['loan_id', 'isDefault']], feature_importance_df"
   ]
  },
  {
   "cell_type": "code",
   "execution_count": 34,
   "id": "1ec95118",
   "metadata": {},
   "outputs": [],
   "source": [
    "folds = KFold(n_splits=5, shuffle=True, random_state=546789)"
   ]
  },
  {
   "cell_type": "code",
   "execution_count": 35,
   "id": "a39a858c",
   "metadata": {},
   "outputs": [
    {
     "name": "stdout",
     "output_type": "stream",
     "text": [
      "[LightGBM] [Warning] feature_fraction is set=0.6, colsample_bytree=1.0 will be ignored. Current value: feature_fraction=0.6\n",
      "Training until validation scores don't improve for 50 rounds\n",
      "Early stopping, best iteration is:\n",
      "[80]\ttraining's auc: 0.954082\tvalid_1's auc: 0.906008\n",
      "Fold  1 AUC : 0.906008\n",
      "[LightGBM] [Warning] feature_fraction is set=0.6, colsample_bytree=1.0 will be ignored. Current value: feature_fraction=0.6\n",
      "Training until validation scores don't improve for 50 rounds\n",
      "Early stopping, best iteration is:\n",
      "[24]\ttraining's auc: 0.923355\tvalid_1's auc: 0.892901\n",
      "Fold  2 AUC : 0.892901\n",
      "[LightGBM] [Warning] feature_fraction is set=0.6, colsample_bytree=1.0 will be ignored. Current value: feature_fraction=0.6\n",
      "Training until validation scores don't improve for 50 rounds\n",
      "Early stopping, best iteration is:\n",
      "[57]\ttraining's auc: 0.938621\tvalid_1's auc: 0.895941\n",
      "Fold  3 AUC : 0.895941\n",
      "[LightGBM] [Warning] feature_fraction is set=0.6, colsample_bytree=1.0 will be ignored. Current value: feature_fraction=0.6\n",
      "Training until validation scores don't improve for 50 rounds\n",
      "Early stopping, best iteration is:\n",
      "[65]\ttraining's auc: 0.946045\tvalid_1's auc: 0.877536\n",
      "Fold  4 AUC : 0.877536\n",
      "[LightGBM] [Warning] feature_fraction is set=0.6, colsample_bytree=1.0 will be ignored. Current value: feature_fraction=0.6\n",
      "Training until validation scores don't improve for 50 rounds\n",
      "Early stopping, best iteration is:\n",
      "[74]\ttraining's auc: 0.950539\tvalid_1's auc: 0.892379\n",
      "Fold  5 AUC : 0.892379\n",
      "Full AUC score 0.885782\n",
      "Learning rate set to 0.05768\n",
      "0:\ttest: 0.8535519\ttest1: 0.8680784\tbest: 0.8680784 (0)\ttotal: 14.4ms\tremaining: 14.4s\n"
     ]
    },
    {
     "name": "stderr",
     "output_type": "stream",
     "text": [
      "Warning: Overfitting detector is active, thus evaluation metric is calculated on every iteration. 'metric_period' is ignored for evaluation metric.\n"
     ]
    },
    {
     "name": "stdout",
     "output_type": "stream",
     "text": [
      "Stopped by overfitting detector  (50 iterations wait)\n",
      "\n",
      "bestTest = 0.9063510136\n",
      "bestIteration = 156\n",
      "\n",
      "Shrink model to first 157 iterations.\n",
      "Fold  1 AUC : 0.906351\n",
      "Learning rate set to 0.05768\n",
      "0:\ttest: 0.8559185\ttest1: 0.8555908\tbest: 0.8555908 (0)\ttotal: 8.36ms\tremaining: 8.35s\n"
     ]
    },
    {
     "name": "stderr",
     "output_type": "stream",
     "text": [
      "Warning: Overfitting detector is active, thus evaluation metric is calculated on every iteration. 'metric_period' is ignored for evaluation metric.\n"
     ]
    },
    {
     "name": "stdout",
     "output_type": "stream",
     "text": [
      "Stopped by overfitting detector  (50 iterations wait)\n",
      "\n",
      "bestTest = 0.8920388499\n",
      "bestIteration = 58\n",
      "\n",
      "Shrink model to first 59 iterations.\n",
      "Fold  2 AUC : 0.892039\n",
      "Learning rate set to 0.057682\n",
      "0:\ttest: 0.8537773\ttest1: 0.8592563\tbest: 0.8592563 (0)\ttotal: 7.24ms\tremaining: 7.23s\n"
     ]
    },
    {
     "name": "stderr",
     "output_type": "stream",
     "text": [
      "Warning: Overfitting detector is active, thus evaluation metric is calculated on every iteration. 'metric_period' is ignored for evaluation metric.\n"
     ]
    },
    {
     "name": "stdout",
     "output_type": "stream",
     "text": [
      "Stopped by overfitting detector  (50 iterations wait)\n",
      "\n",
      "bestTest = 0.8964252234\n",
      "bestIteration = 84\n",
      "\n",
      "Shrink model to first 85 iterations.\n",
      "Fold  3 AUC : 0.896425\n",
      "Learning rate set to 0.057682\n",
      "0:\ttest: 0.8608528\ttest1: 0.8301308\tbest: 0.8301308 (0)\ttotal: 6.68ms\tremaining: 6.67s\n"
     ]
    },
    {
     "name": "stderr",
     "output_type": "stream",
     "text": [
      "Warning: Overfitting detector is active, thus evaluation metric is calculated on every iteration. 'metric_period' is ignored for evaluation metric.\n"
     ]
    },
    {
     "name": "stdout",
     "output_type": "stream",
     "text": [
      "Stopped by overfitting detector  (50 iterations wait)\n",
      "\n",
      "bestTest = 0.8743212214\n",
      "bestIteration = 56\n",
      "\n",
      "Shrink model to first 57 iterations.\n",
      "Fold  4 AUC : 0.874321\n",
      "Learning rate set to 0.057682\n",
      "0:\ttest: 0.8579420\ttest1: 0.8556160\tbest: 0.8556160 (0)\ttotal: 19.4ms\tremaining: 19.3s\n"
     ]
    },
    {
     "name": "stderr",
     "output_type": "stream",
     "text": [
      "Warning: Overfitting detector is active, thus evaluation metric is calculated on every iteration. 'metric_period' is ignored for evaluation metric.\n"
     ]
    },
    {
     "name": "stdout",
     "output_type": "stream",
     "text": [
      "Stopped by overfitting detector  (50 iterations wait)\n",
      "\n",
      "bestTest = 0.9004116825\n",
      "bestIteration = 104\n",
      "\n",
      "Shrink model to first 105 iterations.\n",
      "Fold  5 AUC : 0.900412\n",
      "Full AUC score 0.893727\n"
     ]
    }
   ],
   "source": [
    "oof_preds1, IntePre1, importances1 = train_model(X_train, train_inteSame, y_train, folds, clf1)\n",
    "oof_preds2, IntePre2, importances2 = train_model(X_train, train_inteSame, y_train, folds, clf2)"
   ]
  },
  {
   "cell_type": "code",
   "execution_count": 36,
   "id": "97c76f19",
   "metadata": {},
   "outputs": [
    {
     "name": "stderr",
     "output_type": "stream",
     "text": [
      "E:\\anaconda3\\envs\\pytorch\\lib\\site-packages\\ipykernel_launcher.py:1: SettingWithCopyWarning: \n",
      "A value is trying to be set on a copy of a slice from a DataFrame.\n",
      "Try using .loc[row_indexer,col_indexer] = value instead\n",
      "\n",
      "See the caveats in the documentation: https://pandas.pydata.org/pandas-docs/stable/user_guide/indexing.html#returning-a-view-versus-a-copy\n",
      "  \"\"\"Entry point for launching an IPython kernel.\n"
     ]
    },
    {
     "data": {
      "text/plain": [
       "0.7304149890409081"
      ]
     },
     "execution_count": 36,
     "metadata": {},
     "output_type": "execute_result"
    }
   ],
   "source": [
    "IntePre1['isDef'] = train_internet['is_default']\n",
    "from sklearn.metrics import roc_auc_score\n",
    "roc_auc_score(IntePre1['isDef'],IntePre1.isDefault)"
   ]
  },
  {
   "cell_type": "code",
   "execution_count": 37,
   "id": "f5d90d05",
   "metadata": {},
   "outputs": [
    {
     "name": "stderr",
     "output_type": "stream",
     "text": [
      "E:\\anaconda3\\envs\\pytorch\\lib\\site-packages\\ipykernel_launcher.py:1: SettingWithCopyWarning: \n",
      "A value is trying to be set on a copy of a slice from a DataFrame.\n",
      "Try using .loc[row_indexer,col_indexer] = value instead\n",
      "\n",
      "See the caveats in the documentation: https://pandas.pydata.org/pandas-docs/stable/user_guide/indexing.html#returning-a-view-versus-a-copy\n",
      "  \"\"\"Entry point for launching an IPython kernel.\n"
     ]
    },
    {
     "data": {
      "text/plain": [
       "0.7365772431310529"
      ]
     },
     "execution_count": 37,
     "metadata": {},
     "output_type": "execute_result"
    }
   ],
   "source": [
    "IntePre2['isDef'] = train_internet['is_default']\n",
    "from sklearn.metrics import roc_auc_score\n",
    "roc_auc_score(IntePre2['isDef'],IntePre2.isDefault)"
   ]
  },
  {
   "cell_type": "code",
   "execution_count": 38,
   "id": "e49e81fd",
   "metadata": {},
   "outputs": [],
   "source": [
    "IntePre = IntePre1.copy()\n",
    "IntePre['isDefault'] = (IntePre['isDefault']+IntePre['isDefault'])/2"
   ]
  },
  {
   "cell_type": "code",
   "execution_count": 39,
   "id": "95f1ae92",
   "metadata": {},
   "outputs": [],
   "source": [
    "InteId = IntePre.loc[IntePre.isDefault<0.05, 'loan_id'].tolist()\n",
    "\n",
    "X_train['dataSourse'] = 1\n",
    "X_test['dataSourse'] = 1\n",
    "train_inteSame['dataSourse'] = 0\n",
    "train_inteSame['isDefault'] = X_internet['is_default']\n",
    "use_te = train_inteSame[train_inteSame.loan_id.isin( InteId )].copy()\n",
    "data = pd.concat([ X_train,X_test,use_te]).reset_index(drop=True)"
   ]
  },
  {
   "cell_type": "code",
   "execution_count": 40,
   "id": "83b3148c",
   "metadata": {},
   "outputs": [
    {
     "name": "stdout",
     "output_type": "stream",
     "text": [
      "[LightGBM] [Warning] feature_fraction is set=0.6, colsample_bytree=1.0 will be ignored. Current value: feature_fraction=0.6\n",
      "Training until validation scores don't improve for 50 rounds\n",
      "Early stopping, best iteration is:\n",
      "[55]\ttraining's auc: 0.985193\tvalid_1's auc: 0.975625\n",
      "Fold  1 AUC : 0.975625\n",
      "[LightGBM] [Warning] feature_fraction is set=0.6, colsample_bytree=1.0 will be ignored. Current value: feature_fraction=0.6\n",
      "Training until validation scores don't improve for 50 rounds\n",
      "Early stopping, best iteration is:\n",
      "[59]\ttraining's auc: 0.985405\tvalid_1's auc: 0.976566\n",
      "Fold  2 AUC : 0.976566\n",
      "[LightGBM] [Warning] feature_fraction is set=0.6, colsample_bytree=1.0 will be ignored. Current value: feature_fraction=0.6\n",
      "Training until validation scores don't improve for 50 rounds\n",
      "Early stopping, best iteration is:\n",
      "[114]\ttraining's auc: 0.991802\tvalid_1's auc: 0.976702\n",
      "Fold  3 AUC : 0.976702\n",
      "[LightGBM] [Warning] feature_fraction is set=0.6, colsample_bytree=1.0 will be ignored. Current value: feature_fraction=0.6\n",
      "Training until validation scores don't improve for 50 rounds\n",
      "Early stopping, best iteration is:\n",
      "[9]\ttraining's auc: 0.980774\tvalid_1's auc: 0.975167\n",
      "Fold  4 AUC : 0.975167\n",
      "[LightGBM] [Warning] feature_fraction is set=0.6, colsample_bytree=1.0 will be ignored. Current value: feature_fraction=0.6\n",
      "Training until validation scores don't improve for 50 rounds\n",
      "Early stopping, best iteration is:\n",
      "[38]\ttraining's auc: 0.983344\tvalid_1's auc: 0.979164\n",
      "Fold  5 AUC : 0.979164\n",
      "Full AUC score 0.971484\n"
     ]
    },
    {
     "name": "stderr",
     "output_type": "stream",
     "text": [
      "E:\\anaconda3\\envs\\pytorch\\lib\\site-packages\\ipykernel_launcher.py:30: SettingWithCopyWarning: \n",
      "A value is trying to be set on a copy of a slice from a DataFrame.\n",
      "Try using .loc[row_indexer,col_indexer] = value instead\n",
      "\n",
      "See the caveats in the documentation: https://pandas.pydata.org/pandas-docs/stable/user_guide/indexing.html#returning-a-view-versus-a-copy\n",
      "Warning: Overfitting detector is active, thus evaluation metric is calculated on every iteration. 'metric_period' is ignored for evaluation metric.\n"
     ]
    },
    {
     "name": "stdout",
     "output_type": "stream",
     "text": [
      "Learning rate set to 0.082449\n",
      "0:\ttest: 0.9567406\ttest1: 0.9483195\tbest: 0.9483195 (0)\ttotal: 13.6ms\tremaining: 13.6s\n",
      "Stopped by overfitting detector  (50 iterations wait)\n",
      "\n",
      "bestTest = 0.9773487533\n",
      "bestIteration = 78\n",
      "\n",
      "Shrink model to first 79 iterations.\n",
      "Fold  1 AUC : 0.977349\n",
      "Learning rate set to 0.082449\n"
     ]
    },
    {
     "name": "stderr",
     "output_type": "stream",
     "text": [
      "Warning: Overfitting detector is active, thus evaluation metric is calculated on every iteration. 'metric_period' is ignored for evaluation metric.\n"
     ]
    },
    {
     "name": "stdout",
     "output_type": "stream",
     "text": [
      "0:\ttest: 0.9538324\ttest1: 0.9588343\tbest: 0.9588343 (0)\ttotal: 16.6ms\tremaining: 16.6s\n",
      "Stopped by overfitting detector  (50 iterations wait)\n",
      "\n",
      "bestTest = 0.9768374268\n",
      "bestIteration = 111\n",
      "\n",
      "Shrink model to first 112 iterations.\n",
      "Fold  2 AUC : 0.976837\n",
      "Learning rate set to 0.08245\n"
     ]
    },
    {
     "name": "stderr",
     "output_type": "stream",
     "text": [
      "Warning: Overfitting detector is active, thus evaluation metric is calculated on every iteration. 'metric_period' is ignored for evaluation metric.\n"
     ]
    },
    {
     "name": "stdout",
     "output_type": "stream",
     "text": [
      "0:\ttest: 0.9540114\ttest1: 0.9558501\tbest: 0.9558501 (0)\ttotal: 18.4ms\tremaining: 18.4s\n",
      "Stopped by overfitting detector  (50 iterations wait)\n",
      "\n",
      "bestTest = 0.9774294287\n",
      "bestIteration = 172\n",
      "\n",
      "Shrink model to first 173 iterations.\n",
      "Fold  3 AUC : 0.977429\n",
      "Learning rate set to 0.08245\n"
     ]
    },
    {
     "name": "stderr",
     "output_type": "stream",
     "text": [
      "Warning: Overfitting detector is active, thus evaluation metric is calculated on every iteration. 'metric_period' is ignored for evaluation metric.\n"
     ]
    },
    {
     "name": "stdout",
     "output_type": "stream",
     "text": [
      "0:\ttest: 0.9585329\ttest1: 0.9424137\tbest: 0.9424137 (0)\ttotal: 25.2ms\tremaining: 25.1s\n",
      "Stopped by overfitting detector  (50 iterations wait)\n",
      "\n",
      "bestTest = 0.9768266097\n",
      "bestIteration = 64\n",
      "\n",
      "Shrink model to first 65 iterations.\n",
      "Fold  4 AUC : 0.976827\n",
      "Learning rate set to 0.08245\n"
     ]
    },
    {
     "name": "stderr",
     "output_type": "stream",
     "text": [
      "Warning: Overfitting detector is active, thus evaluation metric is calculated on every iteration. 'metric_period' is ignored for evaluation metric.\n"
     ]
    },
    {
     "name": "stdout",
     "output_type": "stream",
     "text": [
      "0:\ttest: 0.9539399\ttest1: 0.9574617\tbest: 0.9574617 (0)\ttotal: 27.8ms\tremaining: 27.8s\n",
      "Stopped by overfitting detector  (50 iterations wait)\n",
      "\n",
      "bestTest = 0.9800240482\n",
      "bestIteration = 233\n",
      "\n",
      "Shrink model to first 234 iterations.\n",
      "Fold  5 AUC : 0.980024\n",
      "Full AUC score 0.977619\n"
     ]
    },
    {
     "name": "stderr",
     "output_type": "stream",
     "text": [
      "E:\\anaconda3\\envs\\pytorch\\lib\\site-packages\\ipykernel_launcher.py:30: SettingWithCopyWarning: \n",
      "A value is trying to be set on a copy of a slice from a DataFrame.\n",
      "Try using .loc[row_indexer,col_indexer] = value instead\n",
      "\n",
      "See the caveats in the documentation: https://pandas.pydata.org/pandas-docs/stable/user_guide/indexing.html#returning-a-view-versus-a-copy\n"
     ]
    }
   ],
   "source": [
    "train = data[data['isDefault'].notna()]\n",
    "test  = data[data['isDefault'].isna()]\n",
    "\n",
    "\n",
    "\n",
    "\n",
    "y = train['isDefault']\n",
    "folds = KFold(n_splits=5, shuffle=True, random_state=1997)\n",
    "oof_preds1, test_preds1, importances1 = train_model(train, test, y, folds, clf1)\n",
    "oof_preds2, test_preds2, importances2 = train_model(train, test, y, folds, clf2)\n"
   ]
  },
  {
   "cell_type": "code",
   "execution_count": 41,
   "id": "dd52fa04",
   "metadata": {},
   "outputs": [],
   "source": [
    "oof_preds1 = oof_preds1.reshape(-1, 1)\n",
    "oof_preds2 = oof_preds2.reshape(-1, 1)\n"
   ]
  },
  {
   "cell_type": "code",
   "execution_count": 42,
   "id": "becb9912",
   "metadata": {},
   "outputs": [],
   "source": [
    "final_train = np.concatenate(( oof_preds1, oof_preds2), axis=1)\n",
    "final_test = np.concatenate(( test_preds1[['isDefault']], test_preds2[['isDefault']]), axis=1)"
   ]
  },
  {
   "cell_type": "code",
   "execution_count": 43,
   "id": "db84f2f5",
   "metadata": {},
   "outputs": [
    {
     "data": {
      "text/plain": [
       "array([[0.06012732, 0.00389082],\n",
       "       [0.2753913 , 0.04177594],\n",
       "       [0.01213595, 0.00152955],\n",
       "       ...,\n",
       "       [0.01450803, 0.00213257],\n",
       "       [0.01798984, 0.01066009],\n",
       "       [0.00976051, 0.00089641]])"
      ]
     },
     "execution_count": 43,
     "metadata": {},
     "output_type": "execute_result"
    }
   ],
   "source": [
    "final_test"
   ]
  },
  {
   "cell_type": "code",
   "execution_count": 44,
   "id": "2bbb83be",
   "metadata": {},
   "outputs": [],
   "source": [
    "final_modoel = catboost.CatBoostClassifier(metric_period=400,\n",
    "                                        random_state = 1998)"
   ]
  },
  {
   "cell_type": "code",
   "execution_count": 45,
   "id": "f791beb6",
   "metadata": {},
   "outputs": [
    {
     "name": "stdout",
     "output_type": "stream",
     "text": [
      "Learning rate set to 0.059187\n",
      "0:\tlearn: 0.4982480\ttotal: 6.64ms\tremaining: 6.63s\n",
      "400:\tlearn: 0.0523231\ttotal: 2.49s\tremaining: 3.72s\n",
      "800:\tlearn: 0.0500229\ttotal: 4.79s\tremaining: 1.19s\n",
      "999:\tlearn: 0.0491874\ttotal: 5.91s\tremaining: 0us\n"
     ]
    },
    {
     "data": {
      "text/plain": [
       "<catboost.core.CatBoostClassifier at 0x1ea8efd3208>"
      ]
     },
     "execution_count": 45,
     "metadata": {},
     "output_type": "execute_result"
    }
   ],
   "source": [
    "final_modoel.fit(final_train, y)"
   ]
  },
  {
   "cell_type": "code",
   "execution_count": 46,
   "id": "3931e659",
   "metadata": {},
   "outputs": [],
   "source": [
    "predictions = final_modoel.predict_proba(final_test)[:,1]"
   ]
  },
  {
   "cell_type": "code",
   "execution_count": 47,
   "id": "5bbd0023",
   "metadata": {},
   "outputs": [
    {
     "data": {
      "text/plain": [
       "array([0.00337647, 0.021529  , 0.00011629, ..., 0.00019886, 0.00399987,\n",
       "       0.00011591])"
      ]
     },
     "execution_count": 47,
     "metadata": {},
     "output_type": "execute_result"
    }
   ],
   "source": [
    "predictions"
   ]
  },
  {
   "cell_type": "code",
   "execution_count": 48,
   "id": "7d0371ce",
   "metadata": {},
   "outputs": [],
   "source": [
    "submission = pd.read_csv('./submit_example.csv')\n",
    "submission['isDefault'] = predictions\n",
    "submission.to_csv('./submit/submint_final.csv', index=False)"
   ]
  },
  {
   "cell_type": "code",
   "execution_count": null,
   "id": "c5459ebc",
   "metadata": {},
   "outputs": [],
   "source": []
  }
 ],
 "metadata": {
  "kernelspec": {
   "display_name": "Python 3 (ipykernel)",
   "language": "python",
   "name": "python3"
  },
  "language_info": {
   "codemirror_mode": {
    "name": "ipython",
    "version": 3
   },
   "file_extension": ".py",
   "mimetype": "text/x-python",
   "name": "python",
   "nbconvert_exporter": "python",
   "pygments_lexer": "ipython3",
   "version": "3.7.10"
  }
 },
 "nbformat": 4,
 "nbformat_minor": 5
}
