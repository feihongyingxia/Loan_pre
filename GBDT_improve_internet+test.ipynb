{
 "cells": [
  {
   "cell_type": "code",
   "execution_count": 1,
   "id": "4b126c9b",
   "metadata": {},
   "outputs": [],
   "source": [
    "import matplotlib.pyplot as plt\n",
    "import seaborn as sns\n",
    "import gc\n",
    "import pandas as pd\n",
    "import lightgbm as lgb\n",
    "import numpy as np\n",
    "from sklearn.metrics import roc_auc_score, precision_recall_curve, roc_curve, average_precision_score, auc\n",
    "from sklearn.model_selection import KFold\n",
    "from lightgbm import LGBMClassifier\n",
    "import matplotlib.pyplot as plt\n",
    "import seaborn as sns\n",
    "import gc\n",
    "from sklearn.model_selection import StratifiedKFold\n",
    "import category_encoders\n",
    "from catboost import Pool\n",
    "from catboost.utils import get_roc_curve\n",
    "from sklearn.metrics import auc\n"
   ]
  },
  {
   "cell_type": "code",
   "execution_count": 2,
   "id": "6a7d52e6",
   "metadata": {},
   "outputs": [],
   "source": [
    "train_data = pd.read_csv('./train_dataset/train_public.csv')\n",
    "test_public = pd.read_csv('./test_public.csv')\n",
    "train_internet = pd.read_csv('./train_dataset/train_internet.csv', encoding='gb2312')\n",
    "\n",
    "sub=pd.read_csv(\"./submit/test_new.csv\")\n",
    "sub=sub.rename(columns={'id': 'loan_id'})\n",
    "sub.loc[sub['isDefault']<0.5,'isDefault'] = 0\n",
    "nw_sub=sub[(sub['isDefault']==0)]\n",
    "nw_test_data=test_public.merge(nw_sub,on='loan_id',how='inner')\n",
    "nw_train_data = pd.concat([train_data,nw_test_data]).reset_index(drop=True)\n",
    "nw_train_data.to_csv(\"./train_dataset/nw_train_public2.csv\",index=0)"
   ]
  },
  {
   "cell_type": "code",
   "execution_count": 1,
   "id": "a089db48",
   "metadata": {},
   "outputs": [
    {
     "ename": "NameError",
     "evalue": "name 'pd' is not defined",
     "output_type": "error",
     "traceback": [
      "\u001b[1;31m---------------------------------------------------------------------------\u001b[0m",
      "\u001b[1;31mNameError\u001b[0m                                 Traceback (most recent call last)",
      "\u001b[1;32m~\\AppData\\Local\\Temp/ipykernel_6028/3026106863.py\u001b[0m in \u001b[0;36m<module>\u001b[1;34m\u001b[0m\n\u001b[1;32m----> 1\u001b[1;33m \u001b[0mtrain_data\u001b[0m \u001b[1;33m=\u001b[0m \u001b[0mpd\u001b[0m\u001b[1;33m.\u001b[0m\u001b[0mread_csv\u001b[0m\u001b[1;33m(\u001b[0m\u001b[1;34m'./train_dataset/nw_train_public2.csv'\u001b[0m\u001b[1;33m)\u001b[0m\u001b[1;33m\u001b[0m\u001b[1;33m\u001b[0m\u001b[0m\n\u001b[0m",
      "\u001b[1;31mNameError\u001b[0m: name 'pd' is not defined"
     ]
    }
   ],
   "source": [
    "train_data = pd.read_csv('./train_dataset/nw_train_public2.csv')"
   ]
  },
  {
   "cell_type": "code",
   "execution_count": 2,
   "id": "edaf81c6",
   "metadata": {},
   "outputs": [
    {
     "ename": "NameError",
     "evalue": "name 'train_data' is not defined",
     "output_type": "error",
     "traceback": [
      "\u001b[1;31m---------------------------------------------------------------------------\u001b[0m",
      "\u001b[1;31mNameError\u001b[0m                                 Traceback (most recent call last)",
      "\u001b[1;32m~\\AppData\\Local\\Temp/ipykernel_6028/403633505.py\u001b[0m in \u001b[0;36m<module>\u001b[1;34m\u001b[0m\n\u001b[1;32m----> 1\u001b[1;33m \u001b[0mX_train\u001b[0m \u001b[1;33m=\u001b[0m \u001b[0mtrain_data\u001b[0m\u001b[1;33m.\u001b[0m\u001b[0mcopy\u001b[0m\u001b[1;33m(\u001b[0m\u001b[1;33m)\u001b[0m\u001b[1;33m\u001b[0m\u001b[1;33m\u001b[0m\u001b[0m\n\u001b[0m\u001b[0;32m      2\u001b[0m \u001b[0mX_test\u001b[0m \u001b[1;33m=\u001b[0m \u001b[0mtest_public\u001b[0m\u001b[1;33m.\u001b[0m\u001b[0mcopy\u001b[0m\u001b[1;33m(\u001b[0m\u001b[1;33m)\u001b[0m\u001b[1;33m\u001b[0m\u001b[1;33m\u001b[0m\u001b[0m\n\u001b[0;32m      3\u001b[0m \u001b[0mX_train\u001b[0m \u001b[1;33m=\u001b[0m \u001b[0mX_train\u001b[0m\u001b[1;33m.\u001b[0m\u001b[0mdrop\u001b[0m\u001b[1;33m(\u001b[0m\u001b[1;33m[\u001b[0m\u001b[1;34m'isDefault'\u001b[0m\u001b[1;33m]\u001b[0m\u001b[1;33m,\u001b[0m \u001b[0maxis\u001b[0m \u001b[1;33m=\u001b[0m \u001b[1;36m1\u001b[0m\u001b[1;33m)\u001b[0m\u001b[1;33m\u001b[0m\u001b[1;33m\u001b[0m\u001b[0m\n\u001b[0;32m      4\u001b[0m \u001b[0mX_train\u001b[0m\u001b[1;33m.\u001b[0m\u001b[0mshape\u001b[0m\u001b[1;33m\u001b[0m\u001b[1;33m\u001b[0m\u001b[0m\n\u001b[0;32m      5\u001b[0m \u001b[0mX_train\u001b[0m\u001b[1;33m[\u001b[0m\u001b[1;34m'is_train'\u001b[0m\u001b[1;33m]\u001b[0m \u001b[1;33m=\u001b[0m \u001b[1;36m1\u001b[0m\u001b[1;33m\u001b[0m\u001b[1;33m\u001b[0m\u001b[0m\n",
      "\u001b[1;31mNameError\u001b[0m: name 'train_data' is not defined"
     ]
    }
   ],
   "source": [
    "X_train = train_data.copy()\n",
    "X_test = test_public.copy()\n",
    "X_train = X_train.drop(['isDefault'], axis = 1)\n",
    "X_train.shape\n",
    "X_train['is_train'] = 1\n",
    "X_test['is_train'] = 0\n",
    "\n",
    "X_traintest = X_traintest = pd.concat([X_train, X_test], axis = 0)\n",
    "X_traintest.shape\n",
    "X_internet = train_internet.copy()"
   ]
  },
  {
   "cell_type": "markdown",
   "id": "2b084ce6",
   "metadata": {},
   "source": [
    "### 数据探索 "
   ]
  },
  {
   "cell_type": "code",
   "execution_count": 5,
   "id": "b75e9e8d",
   "metadata": {},
   "outputs": [],
   "source": [
    "unimport_fea = ['employer_type', 'industry', 'region', 'early_return', 'policy_code', 'pub_dero_bankrup', 'f1', 'del_in_18month', 'initial_list_status']\n",
    "for cat in unimport_fea:\n",
    "    X_internet = X_internet.drop(cat, axis=1)"
   ]
  },
  {
   "cell_type": "code",
   "execution_count": 6,
   "id": "4ace2470",
   "metadata": {},
   "outputs": [],
   "source": [
    "unimport_fea = ['employer_type', 'industry', 'region', 'early_return', 'policy_code', 'pub_dero_bankrup', 'f1', 'del_in_18month', 'initial_list_status']\n",
    "for cat in unimport_fea:\n",
    "    X_traintest = X_traintest.drop(cat, axis=1)"
   ]
  },
  {
   "cell_type": "markdown",
   "id": "d0a9a63f",
   "metadata": {},
   "source": [
    "### 特征工程 "
   ]
  },
  {
   "cell_type": "markdown",
   "id": "a573ece8",
   "metadata": {},
   "source": [
    "#### work_year, class "
   ]
  },
  {
   "cell_type": "code",
   "execution_count": 7,
   "id": "a7381b48",
   "metadata": {},
   "outputs": [],
   "source": [
    "work_year_dict = {\n",
    "    '< 1 year': 0,\n",
    "    '1 year': 1,\n",
    "    '2 years': 2,\n",
    "    '3 years': 3,\n",
    "    '4 years': 4,\n",
    "    '5 years': 5,\n",
    "    '6 years': 6,\n",
    "    '7 years': 7,\n",
    "    '8 years': 8,\n",
    "    '9 years': 9,\n",
    "    '10+ years': 10,\n",
    "}\n",
    "\n",
    "\n",
    "X_traintest['work_year'] = X_traintest['work_year'].map(work_year_dict)\n",
    "X_internet['work_year'] = X_internet['work_year'].map(work_year_dict)"
   ]
  },
  {
   "cell_type": "code",
   "execution_count": 8,
   "id": "9a63c580",
   "metadata": {},
   "outputs": [],
   "source": [
    "class_dict = {\n",
    "    'A': 1,\n",
    "    'B': 2,\n",
    "    'C': 3,\n",
    "    'D': 4,\n",
    "    'E': 5,\n",
    "    'F': 6,\n",
    "    'G': 7,\n",
    "}\n",
    "\n",
    "\n",
    "X_traintest['class'] = X_traintest['class'].map(class_dict)\n",
    "X_internet['class'] = X_internet['class'].map(class_dict)"
   ]
  },
  {
   "cell_type": "markdown",
   "id": "7dee8787",
   "metadata": {},
   "source": [
    "#### issue_date, earlies_credit_mon"
   ]
  },
  {
   "cell_type": "code",
   "execution_count": 9,
   "id": "812ee540",
   "metadata": {},
   "outputs": [],
   "source": [
    "X_traintest['issue_date'] = pd.to_datetime(X_traintest['issue_date'])\n",
    "X_internet['issue_date'] = pd.to_datetime(X_internet['issue_date'])\n",
    "\n",
    "X_traintest['issue_date_delta'] = (X_traintest['issue_date'] - X_traintest['issue_date'].min())  / np.timedelta64(1,'D')\n",
    "X_internet['issue_date_delta'] = (X_internet['issue_date'] - X_internet['issue_date'].min())  / np.timedelta64(1,'D')"
   ]
  },
  {
   "cell_type": "code",
   "execution_count": 10,
   "id": "af9253a0",
   "metadata": {},
   "outputs": [],
   "source": [
    "X_traintest['earlies_credit_mon'] = pd.to_datetime(X_traintest['earlies_credit_mon'])\n",
    "X_internet['earlies_credit_mon'] = pd.to_datetime(X_internet['earlies_credit_mon'])\n",
    "\n",
    "X_traintest['earlies_credit_mon_delta'] = (X_traintest['earlies_credit_mon'] - X_traintest['earlies_credit_mon'].min())  / np.timedelta64(1,'D')\n",
    "X_internet['earlies_credit_mon_delta'] = (X_internet['earlies_credit_mon'] - X_internet['earlies_credit_mon'].min())  / np.timedelta64(1,'D')"
   ]
  },
  {
   "cell_type": "code",
   "execution_count": 11,
   "id": "8b83063e",
   "metadata": {},
   "outputs": [],
   "source": [
    "X_traintest['issue_earlies_diff'] = (X_traintest['issue_date'] - X_traintest['earlies_credit_mon'])  / np.timedelta64(1,'D')\n",
    "X_internet['issue_earlies_diff'] = (X_internet['issue_date'] - X_internet['earlies_credit_mon'])  / np.timedelta64(1,'D')"
   ]
  },
  {
   "cell_type": "code",
   "execution_count": 12,
   "id": "a00d554c",
   "metadata": {},
   "outputs": [],
   "source": [
    "col_to_drop = ['issue_date', 'earlies_credit_mon']\n",
    "X_traintest = X_traintest.drop(col_to_drop, axis=1)\n",
    "X_internet = X_internet.drop(col_to_drop, axis=1)"
   ]
  },
  {
   "cell_type": "markdown",
   "id": "05bd02dd",
   "metadata": {},
   "source": [
    "#### employer_type, industry"
   ]
  },
  {
   "cell_type": "markdown",
   "id": "dadf68d5",
   "metadata": {},
   "source": [
    "#### 交叉特征"
   ]
  },
  {
   "cell_type": "code",
   "execution_count": 13,
   "id": "25cbf7d9",
   "metadata": {},
   "outputs": [],
   "source": [
    "X_traintest['pro'] = X_traintest['interest'].mul(X_traintest['year_of_loan'])\n",
    "X_traintest['loan_year'] = X_traintest['total_loan']/X_traintest['year_of_loan']\n",
    "X_traintest['recircle_ratio'] = X_traintest['recircle_b']/X_traintest['total_loan']\n",
    "X_traintest['recircle_amt'] = X_traintest['recircle_b'].mul(X_traintest['total_loan'])"
   ]
  },
  {
   "cell_type": "code",
   "execution_count": 14,
   "id": "06233894",
   "metadata": {},
   "outputs": [],
   "source": [
    "X_internet['pro'] = X_internet['interest'].mul(X_internet['year_of_loan'])\n",
    "X_internet['loan_year'] = X_internet['total_loan']/X_internet['year_of_loan']\n",
    "X_internet['early_ratio'] = X_internet['early_return_amount']/X_internet['total_loan']\n",
    "X_internet['recircle_ratio'] = X_internet['recircle_b']/X_internet['total_loan']\n",
    "X_internet['recircle_amt'] = X_internet['recircle_b'].mul(X_internet['total_loan'])"
   ]
  },
  {
   "cell_type": "code",
   "execution_count": 15,
   "id": "98aaed3c",
   "metadata": {},
   "outputs": [],
   "source": [
    "numerical_fea = list(X_traintest.select_dtypes(exclude=['object']).columns) \n",
    "category_fea = list(filter(lambda x: x not in numerical_fea,list(X_traintest.columns)))\n",
    "# print(\"numerical_fea:\",numerical_fea)\n",
    "# print(\"category_fea:\",category_fea)"
   ]
  },
  {
   "cell_type": "markdown",
   "id": "80b4b82c",
   "metadata": {},
   "source": [
    "### 模型 "
   ]
  },
  {
   "cell_type": "code",
   "execution_count": 16,
   "id": "0bbda40c",
   "metadata": {},
   "outputs": [],
   "source": [
    "from sklearn.model_selection import StratifiedKFold, KFold\n",
    "from sklearn.metrics import roc_auc_score\n",
    "import lightgbm as lgb\n",
    "import catboost"
   ]
  },
  {
   "cell_type": "code",
   "execution_count": 17,
   "id": "ab075847",
   "metadata": {},
   "outputs": [],
   "source": [
    "all_fea = X_traintest.columns"
   ]
  },
  {
   "cell_type": "code",
   "execution_count": 18,
   "id": "cf17d497",
   "metadata": {},
   "outputs": [],
   "source": [
    "X_train = X_traintest[X_traintest.is_train == 1][all_fea]\n",
    "y_train = train_data['isDefault']\n",
    "\n",
    "X_test = X_traintest[X_traintest.is_train == 0][all_fea]\n"
   ]
  },
  {
   "cell_type": "code",
   "execution_count": 19,
   "id": "046fff73",
   "metadata": {},
   "outputs": [],
   "source": [
    "X_train[category_fea] = X_train[category_fea].astype(str)\n",
    "X_test[category_fea] = X_test[category_fea].astype(str)\n",
    "\n",
    "X_train[numerical_fea] = X_train[numerical_fea].astype(float)\n",
    "X_test[numerical_fea] = X_test[numerical_fea].astype(float)"
   ]
  },
  {
   "cell_type": "code",
   "execution_count": 20,
   "id": "f0a9e392",
   "metadata": {},
   "outputs": [
    {
     "name": "stdout",
     "output_type": "stream",
     "text": [
      "Learning rate set to 0.032269\n",
      "0:\tlearn: 0.6491110\ttotal: 165ms\tremaining: 2m 44s\n",
      "400:\tlearn: 0.1956989\ttotal: 2s\tremaining: 2.99s\n",
      "800:\tlearn: 0.1572539\ttotal: 3.78s\tremaining: 938ms\n",
      "999:\tlearn: 0.1418430\ttotal: 4.65s\tremaining: 0us\n"
     ]
    },
    {
     "data": {
      "text/plain": [
       "<catboost.core.CatBoostClassifier at 0x2ab0fb0c348>"
      ]
     },
     "execution_count": 20,
     "metadata": {},
     "output_type": "execute_result"
    }
   ],
   "source": [
    "model = catboost.CatBoostClassifier(cat_features = category_fea, random_state = 2080)\n",
    "model.fit(X_train, y_train, verbose=400)"
   ]
  },
  {
   "cell_type": "code",
   "execution_count": 21,
   "id": "2c9463b3",
   "metadata": {},
   "outputs": [],
   "source": [
    "y_pred = model.predict_proba(X_test)"
   ]
  },
  {
   "cell_type": "markdown",
   "id": "1ffb83a1",
   "metadata": {},
   "source": [
    "### 模型改进"
   ]
  },
  {
   "cell_type": "code",
   "execution_count": 22,
   "id": "bab9285b",
   "metadata": {},
   "outputs": [],
   "source": [
    "feature_importances = model.get_feature_importance(prettified=True,\n",
    "                                                   thread_count=-1,\n",
    "                                                   verbose=False)"
   ]
  },
  {
   "cell_type": "code",
   "execution_count": 23,
   "id": "dbb277b8",
   "metadata": {},
   "outputs": [
    {
     "data": {
      "text/plain": [
       "{'app_type', 'is_train', 'known_dero', 'known_outstanding_loan'}"
      ]
     },
     "execution_count": 23,
     "metadata": {},
     "output_type": "execute_result"
    }
   ],
   "source": [
    "tr_cols = set(X_traintest.columns)\n",
    "same_col = list(tr_cols.intersection(set(X_internet.columns)))\n",
    "\n",
    "tr_cols.difference(set(same_col))"
   ]
  },
  {
   "cell_type": "code",
   "execution_count": 24,
   "id": "8e93fafa",
   "metadata": {},
   "outputs": [],
   "source": [
    "for i in range(feature_importances['Feature Id'].size):\n",
    "    if (feature_importances['Feature Id'][i] in same_col):\n",
    "        if feature_importances['Importances'][i]>1:\n",
    "            X_traintest[feature_importances['Feature Id'][i]+'_cnt'] = category_encoders.count.CountEncoder().fit_transform(X_traintest[feature_importances['Feature Id'][i]])\n",
    "            X_internet[feature_importances['Feature Id'][i]+'_cnt'] = category_encoders.count.CountEncoder().fit_transform(X_internet[feature_importances['Feature Id'][i]])\n"
   ]
  },
  {
   "cell_type": "code",
   "execution_count": 25,
   "id": "db53fce3",
   "metadata": {},
   "outputs": [],
   "source": [
    "all_fea = X_traintest.columns\n",
    "X_train = X_traintest[X_traintest.is_train == 1][all_fea]\n",
    "X_train = pd.concat([X_train, train_data['isDefault']], axis=1)\n",
    "y_train = train_data['isDefault']\n",
    "\n",
    "X_test = X_traintest[X_traintest.is_train == 0][all_fea]\n",
    "\n",
    "X_train = X_train.drop('is_train', axis=1)\n",
    "X_test = X_test.drop('is_train', axis=1)"
   ]
  },
  {
   "cell_type": "code",
   "execution_count": 26,
   "id": "52eba07d",
   "metadata": {},
   "outputs": [],
   "source": [
    "tr_cols = set(X_train.columns)\n",
    "same_col = list(tr_cols.intersection(set(X_internet.columns)))\n",
    "train_inteSame = X_internet[same_col].copy()\n",
    "\n",
    "Inte_add_cos = list(tr_cols.difference(set(same_col)))\n",
    "for col in Inte_add_cos:\n",
    "    train_inteSame[col] = np.nan\n"
   ]
  },
  {
   "cell_type": "code",
   "execution_count": 27,
   "id": "30286ae6",
   "metadata": {},
   "outputs": [
    {
     "name": "stdout",
     "output_type": "stream",
     "text": [
      "<class 'pandas.core.frame.DataFrame'>\n",
      "RangeIndex: 750000 entries, 0 to 749999\n",
      "Data columns (total 63 columns):\n",
      " #   Column                        Non-Null Count   Dtype  \n",
      "---  ------                        --------------   -----  \n",
      " 0   work_year                     706153 non-null  float64\n",
      " 1   scoring_low                   750000 non-null  int64  \n",
      " 2   f3                            712201 non-null  float64\n",
      " 3   use                           750000 non-null  int64  \n",
      " 4   class                         750000 non-null  int64  \n",
      " 5   recircle_b_cnt                750000 non-null  int64  \n",
      " 6   work_year_cnt                 706153 non-null  float64\n",
      " 7   loan_id_cnt                   750000 non-null  int64  \n",
      " 8   f2_cnt                        712202 non-null  float64\n",
      " 9   issue_earlies_diff_cnt        750000 non-null  float64\n",
      " 10  year_of_loan                  750000 non-null  int64  \n",
      " 11  interest_cnt                  750000 non-null  float64\n",
      " 12  f0                            712202 non-null  float64\n",
      " 13  debt_loan_ratio               749770 non-null  float64\n",
      " 14  f2                            712202 non-null  float64\n",
      " 15  class_cnt                     750000 non-null  int64  \n",
      " 16  monthly_payment               750000 non-null  float64\n",
      " 17  recircle_ratio_cnt            750000 non-null  float64\n",
      " 18  recircle_amt_cnt              750000 non-null  int64  \n",
      " 19  scoring_high                  750000 non-null  int64  \n",
      " 20  f4                            712202 non-null  float64\n",
      " 21  recircle_ratio                750000 non-null  float64\n",
      " 22  censor_status                 750000 non-null  int64  \n",
      " 23  issue_date_delta              750000 non-null  float64\n",
      " 24  issue_date_delta_cnt          750000 non-null  float64\n",
      " 25  user_id_cnt                   750000 non-null  int64  \n",
      " 26  title                         749999 non-null  float64\n",
      " 27  house_exist_cnt               750000 non-null  int64  \n",
      " 28  pro_cnt                       750000 non-null  float64\n",
      " 29  post_code_cnt                 749999 non-null  float64\n",
      " 30  user_id                       750000 non-null  int64  \n",
      " 31  monthly_payment_cnt           750000 non-null  float64\n",
      " 32  early_return_amount_3mon      750000 non-null  float64\n",
      " 33  early_return_amount_3mon_cnt  750000 non-null  float64\n",
      " 34  early_return_amount_cnt       750000 non-null  int64  \n",
      " 35  scoring_low_cnt               750000 non-null  int64  \n",
      " 36  title_cnt                     749999 non-null  float64\n",
      " 37  recircle_amt                  750000 non-null  int64  \n",
      " 38  pro                           750000 non-null  float64\n",
      " 39  interest                      750000 non-null  float64\n",
      " 40  issue_earlies_diff            750000 non-null  float64\n",
      " 41  recircle_u_cnt                749511 non-null  float64\n",
      " 42  f3_cnt                        712201 non-null  float64\n",
      " 43  debt_loan_ratio_cnt           749770 non-null  float64\n",
      " 44  earlies_credit_mon_delta      750000 non-null  float64\n",
      " 45  f4_cnt                        712202 non-null  float64\n",
      " 46  loan_id                       750000 non-null  int64  \n",
      " 47  total_loan_cnt                750000 non-null  int64  \n",
      " 48  post_code                     749999 non-null  float64\n",
      " 49  recircle_b                    750000 non-null  int64  \n",
      " 50  recircle_u                    749511 non-null  float64\n",
      " 51  early_return_amount           750000 non-null  int64  \n",
      " 52  loan_year_cnt                 750000 non-null  float64\n",
      " 53  loan_year                     750000 non-null  float64\n",
      " 54  earlies_credit_mon_delta_cnt  750000 non-null  float64\n",
      " 55  house_exist                   750000 non-null  int64  \n",
      " 56  total_loan                    750000 non-null  int64  \n",
      " 57  f0_cnt                        712202 non-null  float64\n",
      " 58  scoring_high_cnt              750000 non-null  int64  \n",
      " 59  known_outstanding_loan        0 non-null       float64\n",
      " 60  app_type                      0 non-null       float64\n",
      " 61  known_dero                    0 non-null       float64\n",
      " 62  isDefault                     0 non-null       float64\n",
      "dtypes: float64(40), int64(23)\n",
      "memory usage: 360.5 MB\n"
     ]
    }
   ],
   "source": [
    "train_inteSame.info()"
   ]
  },
  {
   "cell_type": "markdown",
   "id": "71857b8b",
   "metadata": {},
   "source": [
    "# lgbm"
   ]
  },
  {
   "cell_type": "code",
   "execution_count": 28,
   "id": "b2f92803",
   "metadata": {},
   "outputs": [],
   "source": [
    "def train_model(data_, test_, y_, folds_):\n",
    "    oof_preds = np.zeros(data_.shape[0])\n",
    "    sub_preds = np.zeros(test_.shape[0])\n",
    "    feature_importance_df = pd.DataFrame()\n",
    "    feats = [f for f in data_.columns if f not in ['loan_id', 'user_id', 'isDefault'] ]\n",
    "    for n_fold, (trn_idx, val_idx) in enumerate(folds_.split(data_)):\n",
    "        trn_x, trn_y = data_[feats].iloc[trn_idx], y_.iloc[trn_idx]\n",
    "        val_x, val_y = data_[feats].iloc[val_idx], y_.iloc[val_idx]\n",
    "        clf = LGBMClassifier(\n",
    "            n_estimators=4000,\n",
    "            learning_rate=0.08,\n",
    "            num_leaves=2**5,\n",
    "            colsample_bytree=.65,\n",
    "            subsample=.9,\n",
    "            max_depth=5,\n",
    "#             max_bin=250,\n",
    "            reg_alpha=.3,\n",
    "            reg_lambda=.3,\n",
    "            min_split_gain=.01,\n",
    "            min_child_weight=2,\n",
    "            silent=-1,\n",
    "            verbose=-1,\n",
    "        )\n",
    "        \n",
    "        clf.fit(trn_x, trn_y, \n",
    "                eval_set= [(trn_x, trn_y), (val_x, val_y)], \n",
    "                eval_metric='auc', verbose=100, early_stopping_rounds=50  #30\n",
    "               )\n",
    "\n",
    "        oof_preds[val_idx] = clf.predict_proba(val_x, num_iteration=clf.best_iteration_)[:, 1]\n",
    "        sub_preds += clf.predict_proba(test_[feats], num_iteration=clf.best_iteration_)[:, 1] / folds_.n_splits\n",
    "        \n",
    "        fold_importance_df = pd.DataFrame()\n",
    "        fold_importance_df[\"feature\"] = feats\n",
    "        fold_importance_df[\"importance\"] = clf.feature_importances_\n",
    "        fold_importance_df[\"fold\"] = n_fold + 1\n",
    "        feature_importance_df = pd.concat([feature_importance_df, fold_importance_df], axis=0)\n",
    "        \n",
    "        print('Fold %2d AUC : %.6f' % (n_fold + 1, roc_auc_score(val_y, oof_preds[val_idx])))\n",
    "        del clf, trn_x, trn_y, val_x, val_y\n",
    "        gc.collect()\n",
    "        \n",
    "    print('Full AUC score %.6f' % roc_auc_score(y_, oof_preds)) \n",
    "    \n",
    "    test_['isDefault'] = sub_preds\n",
    "\n",
    "    return oof_preds, test_[['loan_id', 'isDefault']], feature_importance_df"
   ]
  },
  {
   "cell_type": "code",
   "execution_count": 29,
   "id": "8b8db6cc",
   "metadata": {},
   "outputs": [
    {
     "name": "stdout",
     "output_type": "stream",
     "text": [
      "Training until validation scores don't improve for 50 rounds\n",
      "[100]\ttraining's auc: 0.957032\ttraining's binary_logloss: 0.179533\tvalid_1's auc: 0.895857\tvalid_1's binary_logloss: 0.233535\n",
      "Early stopping, best iteration is:\n",
      "[76]\ttraining's auc: 0.94709\ttraining's binary_logloss: 0.190617\tvalid_1's auc: 0.897536\tvalid_1's binary_logloss: 0.232267\n",
      "Fold  1 AUC : 0.897536\n",
      "Training until validation scores don't improve for 50 rounds\n",
      "[100]\ttraining's auc: 0.959315\ttraining's binary_logloss: 0.174228\tvalid_1's auc: 0.88441\tvalid_1's binary_logloss: 0.248896\n",
      "Early stopping, best iteration is:\n",
      "[51]\ttraining's auc: 0.937367\ttraining's binary_logloss: 0.199835\tvalid_1's auc: 0.887198\tvalid_1's binary_logloss: 0.246308\n",
      "Fold  2 AUC : 0.887198\n",
      "Training until validation scores don't improve for 50 rounds\n",
      "Early stopping, best iteration is:\n",
      "[40]\ttraining's auc: 0.932066\ttraining's binary_logloss: 0.207516\tvalid_1's auc: 0.89113\tvalid_1's binary_logloss: 0.244899\n",
      "Fold  3 AUC : 0.891130\n",
      "Training until validation scores don't improve for 50 rounds\n",
      "Early stopping, best iteration is:\n",
      "[38]\ttraining's auc: 0.931906\ttraining's binary_logloss: 0.207348\tvalid_1's auc: 0.868002\tvalid_1's binary_logloss: 0.258572\n",
      "Fold  4 AUC : 0.868002\n",
      "Training until validation scores don't improve for 50 rounds\n",
      "[100]\ttraining's auc: 0.953923\ttraining's binary_logloss: 0.184449\tvalid_1's auc: 0.886113\tvalid_1's binary_logloss: 0.236418\n",
      "Early stopping, best iteration is:\n",
      "[64]\ttraining's auc: 0.941224\ttraining's binary_logloss: 0.198457\tvalid_1's auc: 0.886784\tvalid_1's binary_logloss: 0.235461\n",
      "Fold  5 AUC : 0.886784\n",
      "Full AUC score 0.885601\n"
     ]
    }
   ],
   "source": [
    "folds = KFold(n_splits=5, shuffle=True, random_state=546789)\n",
    "oof_preds, IntePre, importances = train_model(X_train, train_inteSame, y_train, folds)"
   ]
  },
  {
   "cell_type": "code",
   "execution_count": 30,
   "id": "18a0f3d8",
   "metadata": {},
   "outputs": [
    {
     "name": "stderr",
     "output_type": "stream",
     "text": [
      "E:\\anaconda3\\envs\\pytorch\\lib\\site-packages\\ipykernel_launcher.py:1: SettingWithCopyWarning: \n",
      "A value is trying to be set on a copy of a slice from a DataFrame.\n",
      "Try using .loc[row_indexer,col_indexer] = value instead\n",
      "\n",
      "See the caveats in the documentation: https://pandas.pydata.org/pandas-docs/stable/user_guide/indexing.html#returning-a-view-versus-a-copy\n",
      "  \"\"\"Entry point for launching an IPython kernel.\n"
     ]
    },
    {
     "data": {
      "text/plain": [
       "0.7316502921792029"
      ]
     },
     "execution_count": 30,
     "metadata": {},
     "output_type": "execute_result"
    }
   ],
   "source": [
    "IntePre['isDef'] = train_internet['is_default']\n",
    "from sklearn.metrics import roc_auc_score\n",
    "roc_auc_score(IntePre['isDef'],IntePre.isDefault)"
   ]
  },
  {
   "cell_type": "code",
   "execution_count": 31,
   "id": "1c9fa9df",
   "metadata": {},
   "outputs": [],
   "source": [
    "InteId = IntePre.loc[IntePre.isDefault<0.02, 'loan_id'].tolist()\n",
    "\n",
    "X_train['dataSourse'] = 1\n",
    "X_test['dataSourse'] = 1\n",
    "train_inteSame['dataSourse'] = 0\n",
    "train_inteSame['isDefault'] = X_internet['is_default']\n",
    "use_te = train_inteSame[train_inteSame.loan_id.isin( InteId )].copy()\n",
    "data = pd.concat([ X_train,X_test,use_te]).reset_index(drop=True)\n"
   ]
  },
  {
   "cell_type": "code",
   "execution_count": 32,
   "id": "c227aa11",
   "metadata": {},
   "outputs": [
    {
     "name": "stdout",
     "output_type": "stream",
     "text": [
      "Training until validation scores don't improve for 50 rounds\n",
      "[100]\ttraining's auc: 0.990394\ttraining's binary_logloss: 0.0383706\tvalid_1's auc: 0.978313\tvalid_1's binary_logloss: 0.0485949\n",
      "Early stopping, best iteration is:\n",
      "[66]\ttraining's auc: 0.987944\ttraining's binary_logloss: 0.0413238\tvalid_1's auc: 0.97874\tvalid_1's binary_logloss: 0.0483625\n",
      "Fold  1 AUC : 0.978740\n",
      "Training until validation scores don't improve for 50 rounds\n",
      "[100]\ttraining's auc: 0.990787\ttraining's binary_logloss: 0.0372314\tvalid_1's auc: 0.977693\tvalid_1's binary_logloss: 0.0532479\n",
      "Early stopping, best iteration is:\n",
      "[87]\ttraining's auc: 0.989826\ttraining's binary_logloss: 0.0383926\tvalid_1's auc: 0.977723\tvalid_1's binary_logloss: 0.0530487\n",
      "Fold  2 AUC : 0.977723\n",
      "Training until validation scores don't improve for 50 rounds\n",
      "[100]\ttraining's auc: 0.990202\ttraining's binary_logloss: 0.0383292\tvalid_1's auc: 0.979369\tvalid_1's binary_logloss: 0.0481567\n",
      "Early stopping, best iteration is:\n",
      "[59]\ttraining's auc: 0.987161\ttraining's binary_logloss: 0.0420037\tvalid_1's auc: 0.979622\tvalid_1's binary_logloss: 0.0481314\n",
      "Fold  3 AUC : 0.979622\n",
      "Training until validation scores don't improve for 50 rounds\n",
      "[100]\ttraining's auc: 0.990083\ttraining's binary_logloss: 0.038393\tvalid_1's auc: 0.978668\tvalid_1's binary_logloss: 0.0497488\n",
      "Early stopping, best iteration is:\n",
      "[54]\ttraining's auc: 0.986625\ttraining's binary_logloss: 0.0424637\tvalid_1's auc: 0.978778\tvalid_1's binary_logloss: 0.0499169\n",
      "Fold  4 AUC : 0.978778\n",
      "Training until validation scores don't improve for 50 rounds\n",
      "Early stopping, best iteration is:\n",
      "[33]\ttraining's auc: 0.98474\ttraining's binary_logloss: 0.0457866\tvalid_1's auc: 0.981667\tvalid_1's binary_logloss: 0.0485017\n",
      "Fold  5 AUC : 0.981667\n",
      "Full AUC score 0.979053\n"
     ]
    },
    {
     "name": "stderr",
     "output_type": "stream",
     "text": [
      "E:\\anaconda3\\envs\\pytorch\\lib\\site-packages\\ipykernel_launcher.py:45: SettingWithCopyWarning: \n",
      "A value is trying to be set on a copy of a slice from a DataFrame.\n",
      "Try using .loc[row_indexer,col_indexer] = value instead\n",
      "\n",
      "See the caveats in the documentation: https://pandas.pydata.org/pandas-docs/stable/user_guide/indexing.html#returning-a-view-versus-a-copy\n"
     ]
    }
   ],
   "source": [
    "train = data[data['isDefault'].notna()]\n",
    "test  = data[data['isDefault'].isna()]\n",
    "\n",
    "\n",
    "\n",
    "\n",
    "y = train['isDefault']\n",
    "folds = KFold(n_splits=5, shuffle=True, random_state=1997)\n",
    "oof_preds, test_preds, importances = train_model(train, test, y, folds)"
   ]
  },
  {
   "cell_type": "markdown",
   "id": "315e5f13",
   "metadata": {},
   "source": [
    "### 输出 "
   ]
  },
  {
   "cell_type": "code",
   "execution_count": 33,
   "id": "809b0e29",
   "metadata": {},
   "outputs": [],
   "source": [
    "test_preds.rename({'loan_id': 'id'}, axis=1)[['id', 'isDefault']].to_csv('./submit/test_new5.csv', index=False)"
   ]
  },
  {
   "cell_type": "code",
   "execution_count": 34,
   "id": "0851caaa",
   "metadata": {},
   "outputs": [
    {
     "data": {
      "text/html": [
       "<div>\n",
       "<style scoped>\n",
       "    .dataframe tbody tr th:only-of-type {\n",
       "        vertical-align: middle;\n",
       "    }\n",
       "\n",
       "    .dataframe tbody tr th {\n",
       "        vertical-align: top;\n",
       "    }\n",
       "\n",
       "    .dataframe thead th {\n",
       "        text-align: right;\n",
       "    }\n",
       "</style>\n",
       "<table border=\"1\" class=\"dataframe\">\n",
       "  <thead>\n",
       "    <tr style=\"text-align: right;\">\n",
       "      <th></th>\n",
       "      <th>loan_id</th>\n",
       "      <th>isDefault</th>\n",
       "    </tr>\n",
       "  </thead>\n",
       "  <tbody>\n",
       "    <tr>\n",
       "      <th>14496</th>\n",
       "      <td>1000575</td>\n",
       "      <td>0.006589</td>\n",
       "    </tr>\n",
       "    <tr>\n",
       "      <th>14497</th>\n",
       "      <td>1028125</td>\n",
       "      <td>0.041932</td>\n",
       "    </tr>\n",
       "    <tr>\n",
       "      <th>14498</th>\n",
       "      <td>1010694</td>\n",
       "      <td>0.003713</td>\n",
       "    </tr>\n",
       "    <tr>\n",
       "      <th>14499</th>\n",
       "      <td>1026712</td>\n",
       "      <td>0.003415</td>\n",
       "    </tr>\n",
       "    <tr>\n",
       "      <th>14500</th>\n",
       "      <td>1002895</td>\n",
       "      <td>0.007486</td>\n",
       "    </tr>\n",
       "    <tr>\n",
       "      <th>...</th>\n",
       "      <td>...</td>\n",
       "      <td>...</td>\n",
       "    </tr>\n",
       "    <tr>\n",
       "      <th>19491</th>\n",
       "      <td>1008856</td>\n",
       "      <td>0.222053</td>\n",
       "    </tr>\n",
       "    <tr>\n",
       "      <th>19492</th>\n",
       "      <td>1016651</td>\n",
       "      <td>0.011593</td>\n",
       "    </tr>\n",
       "    <tr>\n",
       "      <th>19493</th>\n",
       "      <td>1024140</td>\n",
       "      <td>0.003322</td>\n",
       "    </tr>\n",
       "    <tr>\n",
       "      <th>19494</th>\n",
       "      <td>1014316</td>\n",
       "      <td>0.007610</td>\n",
       "    </tr>\n",
       "    <tr>\n",
       "      <th>19495</th>\n",
       "      <td>1012946</td>\n",
       "      <td>0.005990</td>\n",
       "    </tr>\n",
       "  </tbody>\n",
       "</table>\n",
       "<p>5000 rows × 2 columns</p>\n",
       "</div>"
      ],
      "text/plain": [
       "       loan_id  isDefault\n",
       "14496  1000575   0.006589\n",
       "14497  1028125   0.041932\n",
       "14498  1010694   0.003713\n",
       "14499  1026712   0.003415\n",
       "14500  1002895   0.007486\n",
       "...        ...        ...\n",
       "19491  1008856   0.222053\n",
       "19492  1016651   0.011593\n",
       "19493  1024140   0.003322\n",
       "19494  1014316   0.007610\n",
       "19495  1012946   0.005990\n",
       "\n",
       "[5000 rows x 2 columns]"
      ]
     },
     "execution_count": 34,
     "metadata": {},
     "output_type": "execute_result"
    }
   ],
   "source": [
    "test_preds\n"
   ]
  },
  {
   "cell_type": "code",
   "execution_count": null,
   "id": "2e09b422",
   "metadata": {},
   "outputs": [],
   "source": []
  }
 ],
 "metadata": {
  "kernelspec": {
   "display_name": "Python 3 (ipykernel)",
   "language": "python",
   "name": "python3"
  },
  "language_info": {
   "codemirror_mode": {
    "name": "ipython",
    "version": 3
   },
   "file_extension": ".py",
   "mimetype": "text/x-python",
   "name": "python",
   "nbconvert_exporter": "python",
   "pygments_lexer": "ipython3",
   "version": "3.7.10"
  }
 },
 "nbformat": 4,
 "nbformat_minor": 5
}
