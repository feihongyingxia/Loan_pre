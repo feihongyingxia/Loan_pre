{
 "cells": [
  {
   "cell_type": "code",
   "execution_count": 1,
   "id": "f3aa17c0",
   "metadata": {},
   "outputs": [],
   "source": [
    "# 导入相关包\n",
    "import pandas as pd \n",
    "import numpy as np \n",
    "import matplotlib.pyplot as plt \n",
    "import seaborn as sns \n",
    "import datetime \n",
    "from tqdm import tqdm \n",
    "from sklearn.preprocessing import LabelEncoder \n",
    "from sklearn.feature_selection import SelectKBest \n",
    "from sklearn.feature_selection import chi2 \n",
    "from sklearn.preprocessing import MinMaxScaler \n",
    "import xgboost as xgb \n",
    "import lightgbm as lgb \n",
    "from catboost import CatBoostRegressor \n",
    "import warnings \n",
    "from sklearn.model_selection import StratifiedKFold, KFold \n",
    "from sklearn.metrics import accuracy_score, f1_score, roc_auc_score, log_loss \n",
    "warnings.filterwarnings('ignore')\n",
    "\n"
   ]
  },
  {
   "cell_type": "code",
   "execution_count": 2,
   "id": "80484699",
   "metadata": {},
   "outputs": [],
   "source": [
    "data_train = pd.read_csv('./train_dataset/train_public.csv')\n",
    "data_test = pd.read_csv('./test_public.csv')\n"
   ]
  },
  {
   "cell_type": "code",
   "execution_count": 3,
   "id": "b0239718",
   "metadata": {},
   "outputs": [
    {
     "data": {
      "text/plain": [
       "(10000, 39)"
      ]
     },
     "execution_count": 3,
     "metadata": {},
     "output_type": "execute_result"
    }
   ],
   "source": [
    "data_train.shape"
   ]
  },
  {
   "cell_type": "code",
   "execution_count": 4,
   "id": "fc395e59",
   "metadata": {},
   "outputs": [
    {
     "data": {
      "text/plain": [
       "(5000, 38)"
      ]
     },
     "execution_count": 4,
     "metadata": {},
     "output_type": "execute_result"
    }
   ],
   "source": [
    "data_test.shape"
   ]
  },
  {
   "cell_type": "code",
   "execution_count": 5,
   "id": "43901d92",
   "metadata": {},
   "outputs": [
    {
     "data": {
      "text/plain": [
       "Index(['loan_id', 'user_id', 'total_loan', 'year_of_loan', 'interest',\n",
       "       'monthly_payment', 'class', 'employer_type', 'industry', 'work_year',\n",
       "       'house_exist', 'censor_status', 'issue_date', 'use', 'post_code',\n",
       "       'region', 'debt_loan_ratio', 'del_in_18month', 'scoring_low',\n",
       "       'scoring_high', 'known_outstanding_loan', 'known_dero',\n",
       "       'pub_dero_bankrup', 'recircle_b', 'recircle_u', 'initial_list_status',\n",
       "       'app_type', 'earlies_credit_mon', 'title', 'policy_code', 'f0', 'f1',\n",
       "       'f2', 'f3', 'f4', 'early_return', 'early_return_amount',\n",
       "       'early_return_amount_3mon', 'isDefault'],\n",
       "      dtype='object')"
      ]
     },
     "execution_count": 5,
     "metadata": {},
     "output_type": "execute_result"
    }
   ],
   "source": [
    "data_train.columns\n"
   ]
  },
  {
   "cell_type": "code",
   "execution_count": 6,
   "id": "137efe19",
   "metadata": {},
   "outputs": [
    {
     "name": "stdout",
     "output_type": "stream",
     "text": [
      "<class 'pandas.core.frame.DataFrame'>\n",
      "RangeIndex: 10000 entries, 0 to 9999\n",
      "Data columns (total 39 columns):\n",
      " #   Column                    Non-Null Count  Dtype  \n",
      "---  ------                    --------------  -----  \n",
      " 0   loan_id                   10000 non-null  int64  \n",
      " 1   user_id                   10000 non-null  int64  \n",
      " 2   total_loan                10000 non-null  float64\n",
      " 3   year_of_loan              10000 non-null  int64  \n",
      " 4   interest                  10000 non-null  float64\n",
      " 5   monthly_payment           10000 non-null  float64\n",
      " 6   class                     10000 non-null  object \n",
      " 7   employer_type             10000 non-null  object \n",
      " 8   industry                  10000 non-null  object \n",
      " 9   work_year                 9378 non-null   object \n",
      " 10  house_exist               10000 non-null  int64  \n",
      " 11  censor_status             10000 non-null  int64  \n",
      " 12  issue_date                10000 non-null  object \n",
      " 13  use                       10000 non-null  int64  \n",
      " 14  post_code                 10000 non-null  int64  \n",
      " 15  region                    10000 non-null  int64  \n",
      " 16  debt_loan_ratio           10000 non-null  float64\n",
      " 17  del_in_18month            10000 non-null  int64  \n",
      " 18  scoring_low               10000 non-null  float64\n",
      " 19  scoring_high              10000 non-null  float64\n",
      " 20  known_outstanding_loan    10000 non-null  int64  \n",
      " 21  known_dero                10000 non-null  int64  \n",
      " 22  pub_dero_bankrup          9993 non-null   float64\n",
      " 23  recircle_b                10000 non-null  float64\n",
      " 24  recircle_u                10000 non-null  float64\n",
      " 25  initial_list_status       10000 non-null  int64  \n",
      " 26  app_type                  10000 non-null  int64  \n",
      " 27  earlies_credit_mon        10000 non-null  object \n",
      " 28  title                     10000 non-null  int64  \n",
      " 29  policy_code               10000 non-null  int64  \n",
      " 30  f0                        9502 non-null   float64\n",
      " 31  f1                        9142 non-null   float64\n",
      " 32  f2                        9502 non-null   float64\n",
      " 33  f3                        9502 non-null   float64\n",
      " 34  f4                        9502 non-null   float64\n",
      " 35  early_return              10000 non-null  int64  \n",
      " 36  early_return_amount       10000 non-null  int64  \n",
      " 37  early_return_amount_3mon  10000 non-null  float64\n",
      " 38  isDefault                 10000 non-null  int64  \n",
      "dtypes: float64(15), int64(18), object(6)\n",
      "memory usage: 3.0+ MB\n"
     ]
    }
   ],
   "source": [
    "data_train.info()"
   ]
  },
  {
   "cell_type": "code",
   "execution_count": 7,
   "id": "65a3a1d4",
   "metadata": {},
   "outputs": [
    {
     "data": {
      "text/html": [
       "<div>\n",
       "<style scoped>\n",
       "    .dataframe tbody tr th:only-of-type {\n",
       "        vertical-align: middle;\n",
       "    }\n",
       "\n",
       "    .dataframe tbody tr th {\n",
       "        vertical-align: top;\n",
       "    }\n",
       "\n",
       "    .dataframe thead th {\n",
       "        text-align: right;\n",
       "    }\n",
       "</style>\n",
       "<table border=\"1\" class=\"dataframe\">\n",
       "  <thead>\n",
       "    <tr style=\"text-align: right;\">\n",
       "      <th></th>\n",
       "      <th>loan_id</th>\n",
       "      <th>user_id</th>\n",
       "      <th>total_loan</th>\n",
       "      <th>year_of_loan</th>\n",
       "      <th>interest</th>\n",
       "      <th>monthly_payment</th>\n",
       "      <th>house_exist</th>\n",
       "      <th>censor_status</th>\n",
       "      <th>use</th>\n",
       "      <th>post_code</th>\n",
       "      <th>...</th>\n",
       "      <th>policy_code</th>\n",
       "      <th>f0</th>\n",
       "      <th>f1</th>\n",
       "      <th>f2</th>\n",
       "      <th>f3</th>\n",
       "      <th>f4</th>\n",
       "      <th>early_return</th>\n",
       "      <th>early_return_amount</th>\n",
       "      <th>early_return_amount_3mon</th>\n",
       "      <th>isDefault</th>\n",
       "    </tr>\n",
       "  </thead>\n",
       "  <tbody>\n",
       "    <tr>\n",
       "      <th>count</th>\n",
       "      <td>1.000000e+04</td>\n",
       "      <td>10000.000000</td>\n",
       "      <td>10000.000000</td>\n",
       "      <td>10000.000000</td>\n",
       "      <td>10000.000000</td>\n",
       "      <td>10000.000000</td>\n",
       "      <td>10000.000000</td>\n",
       "      <td>10000.000000</td>\n",
       "      <td>10000.000000</td>\n",
       "      <td>10000.000000</td>\n",
       "      <td>...</td>\n",
       "      <td>10000.0</td>\n",
       "      <td>9502.000000</td>\n",
       "      <td>9142.000000</td>\n",
       "      <td>9502.000000</td>\n",
       "      <td>9502.000000</td>\n",
       "      <td>9502.000000</td>\n",
       "      <td>10000.000000</td>\n",
       "      <td>10000.000000</td>\n",
       "      <td>10000.000000</td>\n",
       "      <td>10000.000000</td>\n",
       "    </tr>\n",
       "    <tr>\n",
       "      <th>mean</th>\n",
       "      <td>1.025210e+06</td>\n",
       "      <td>225209.587700</td>\n",
       "      <td>14402.126591</td>\n",
       "      <td>3.479600</td>\n",
       "      <td>13.222782</td>\n",
       "      <td>436.960427</td>\n",
       "      <td>0.612200</td>\n",
       "      <td>1.014600</td>\n",
       "      <td>1.762600</td>\n",
       "      <td>257.519100</td>\n",
       "      <td>...</td>\n",
       "      <td>1.0</td>\n",
       "      <td>5.690486</td>\n",
       "      <td>0.001422</td>\n",
       "      <td>8.467796</td>\n",
       "      <td>14.659019</td>\n",
       "      <td>8.098085</td>\n",
       "      <td>1.290600</td>\n",
       "      <td>2173.916100</td>\n",
       "      <td>335.232240</td>\n",
       "      <td>0.168300</td>\n",
       "    </tr>\n",
       "    <tr>\n",
       "      <th>std</th>\n",
       "      <td>1.438682e+04</td>\n",
       "      <td>14386.820956</td>\n",
       "      <td>8953.946807</td>\n",
       "      <td>0.853965</td>\n",
       "      <td>4.875755</td>\n",
       "      <td>261.754396</td>\n",
       "      <td>0.672203</td>\n",
       "      <td>0.787686</td>\n",
       "      <td>2.392031</td>\n",
       "      <td>201.351778</td>\n",
       "      <td>...</td>\n",
       "      <td>0.0</td>\n",
       "      <td>3.298546</td>\n",
       "      <td>0.037685</td>\n",
       "      <td>7.315953</td>\n",
       "      <td>8.263954</td>\n",
       "      <td>4.871797</td>\n",
       "      <td>1.449469</td>\n",
       "      <td>3027.539977</td>\n",
       "      <td>635.108825</td>\n",
       "      <td>0.374151</td>\n",
       "    </tr>\n",
       "    <tr>\n",
       "      <th>min</th>\n",
       "      <td>1.000008e+06</td>\n",
       "      <td>200008.000000</td>\n",
       "      <td>818.181818</td>\n",
       "      <td>3.000000</td>\n",
       "      <td>4.779000</td>\n",
       "      <td>30.440000</td>\n",
       "      <td>0.000000</td>\n",
       "      <td>0.000000</td>\n",
       "      <td>0.000000</td>\n",
       "      <td>0.000000</td>\n",
       "      <td>...</td>\n",
       "      <td>1.0</td>\n",
       "      <td>0.000000</td>\n",
       "      <td>0.000000</td>\n",
       "      <td>0.000000</td>\n",
       "      <td>2.000000</td>\n",
       "      <td>0.000000</td>\n",
       "      <td>0.000000</td>\n",
       "      <td>0.000000</td>\n",
       "      <td>0.000000</td>\n",
       "      <td>0.000000</td>\n",
       "    </tr>\n",
       "    <tr>\n",
       "      <th>25%</th>\n",
       "      <td>1.012973e+06</td>\n",
       "      <td>212973.250000</td>\n",
       "      <td>7500.000000</td>\n",
       "      <td>3.000000</td>\n",
       "      <td>9.702000</td>\n",
       "      <td>248.820000</td>\n",
       "      <td>0.000000</td>\n",
       "      <td>0.000000</td>\n",
       "      <td>0.000000</td>\n",
       "      <td>99.000000</td>\n",
       "      <td>...</td>\n",
       "      <td>1.0</td>\n",
       "      <td>3.000000</td>\n",
       "      <td>0.000000</td>\n",
       "      <td>4.000000</td>\n",
       "      <td>9.000000</td>\n",
       "      <td>5.000000</td>\n",
       "      <td>0.000000</td>\n",
       "      <td>0.000000</td>\n",
       "      <td>0.000000</td>\n",
       "      <td>0.000000</td>\n",
       "    </tr>\n",
       "    <tr>\n",
       "      <th>50%</th>\n",
       "      <td>1.025276e+06</td>\n",
       "      <td>225276.500000</td>\n",
       "      <td>12272.727270</td>\n",
       "      <td>3.000000</td>\n",
       "      <td>12.639000</td>\n",
       "      <td>371.525000</td>\n",
       "      <td>1.000000</td>\n",
       "      <td>1.000000</td>\n",
       "      <td>0.000000</td>\n",
       "      <td>197.000000</td>\n",
       "      <td>...</td>\n",
       "      <td>1.0</td>\n",
       "      <td>5.000000</td>\n",
       "      <td>0.000000</td>\n",
       "      <td>7.000000</td>\n",
       "      <td>13.000000</td>\n",
       "      <td>7.000000</td>\n",
       "      <td>1.000000</td>\n",
       "      <td>838.500000</td>\n",
       "      <td>0.000000</td>\n",
       "      <td>0.000000</td>\n",
       "    </tr>\n",
       "    <tr>\n",
       "      <th>75%</th>\n",
       "      <td>1.037694e+06</td>\n",
       "      <td>237694.500000</td>\n",
       "      <td>19636.363640</td>\n",
       "      <td>3.000000</td>\n",
       "      <td>15.985500</td>\n",
       "      <td>573.830000</td>\n",
       "      <td>1.000000</td>\n",
       "      <td>2.000000</td>\n",
       "      <td>4.000000</td>\n",
       "      <td>390.000000</td>\n",
       "      <td>...</td>\n",
       "      <td>1.0</td>\n",
       "      <td>7.000000</td>\n",
       "      <td>0.000000</td>\n",
       "      <td>11.000000</td>\n",
       "      <td>19.000000</td>\n",
       "      <td>11.000000</td>\n",
       "      <td>3.000000</td>\n",
       "      <td>3354.250000</td>\n",
       "      <td>413.675000</td>\n",
       "      <td>0.000000</td>\n",
       "    </tr>\n",
       "    <tr>\n",
       "      <th>max</th>\n",
       "      <td>1.049997e+06</td>\n",
       "      <td>249997.000000</td>\n",
       "      <td>47272.727270</td>\n",
       "      <td>5.000000</td>\n",
       "      <td>33.979000</td>\n",
       "      <td>1503.890000</td>\n",
       "      <td>4.000000</td>\n",
       "      <td>2.000000</td>\n",
       "      <td>13.000000</td>\n",
       "      <td>901.000000</td>\n",
       "      <td>...</td>\n",
       "      <td>1.0</td>\n",
       "      <td>33.000000</td>\n",
       "      <td>1.000000</td>\n",
       "      <td>93.000000</td>\n",
       "      <td>88.000000</td>\n",
       "      <td>50.000000</td>\n",
       "      <td>5.000000</td>\n",
       "      <td>18413.000000</td>\n",
       "      <td>5523.900000</td>\n",
       "      <td>1.000000</td>\n",
       "    </tr>\n",
       "  </tbody>\n",
       "</table>\n",
       "<p>8 rows × 33 columns</p>\n",
       "</div>"
      ],
      "text/plain": [
       "            loan_id        user_id    total_loan  year_of_loan      interest  \\\n",
       "count  1.000000e+04   10000.000000  10000.000000  10000.000000  10000.000000   \n",
       "mean   1.025210e+06  225209.587700  14402.126591      3.479600     13.222782   \n",
       "std    1.438682e+04   14386.820956   8953.946807      0.853965      4.875755   \n",
       "min    1.000008e+06  200008.000000    818.181818      3.000000      4.779000   \n",
       "25%    1.012973e+06  212973.250000   7500.000000      3.000000      9.702000   \n",
       "50%    1.025276e+06  225276.500000  12272.727270      3.000000     12.639000   \n",
       "75%    1.037694e+06  237694.500000  19636.363640      3.000000     15.985500   \n",
       "max    1.049997e+06  249997.000000  47272.727270      5.000000     33.979000   \n",
       "\n",
       "       monthly_payment   house_exist  censor_status           use  \\\n",
       "count     10000.000000  10000.000000   10000.000000  10000.000000   \n",
       "mean        436.960427      0.612200       1.014600      1.762600   \n",
       "std         261.754396      0.672203       0.787686      2.392031   \n",
       "min          30.440000      0.000000       0.000000      0.000000   \n",
       "25%         248.820000      0.000000       0.000000      0.000000   \n",
       "50%         371.525000      1.000000       1.000000      0.000000   \n",
       "75%         573.830000      1.000000       2.000000      4.000000   \n",
       "max        1503.890000      4.000000       2.000000     13.000000   \n",
       "\n",
       "          post_code  ...  policy_code           f0           f1           f2  \\\n",
       "count  10000.000000  ...      10000.0  9502.000000  9142.000000  9502.000000   \n",
       "mean     257.519100  ...          1.0     5.690486     0.001422     8.467796   \n",
       "std      201.351778  ...          0.0     3.298546     0.037685     7.315953   \n",
       "min        0.000000  ...          1.0     0.000000     0.000000     0.000000   \n",
       "25%       99.000000  ...          1.0     3.000000     0.000000     4.000000   \n",
       "50%      197.000000  ...          1.0     5.000000     0.000000     7.000000   \n",
       "75%      390.000000  ...          1.0     7.000000     0.000000    11.000000   \n",
       "max      901.000000  ...          1.0    33.000000     1.000000    93.000000   \n",
       "\n",
       "                f3           f4  early_return  early_return_amount  \\\n",
       "count  9502.000000  9502.000000  10000.000000         10000.000000   \n",
       "mean     14.659019     8.098085      1.290600          2173.916100   \n",
       "std       8.263954     4.871797      1.449469          3027.539977   \n",
       "min       2.000000     0.000000      0.000000             0.000000   \n",
       "25%       9.000000     5.000000      0.000000             0.000000   \n",
       "50%      13.000000     7.000000      1.000000           838.500000   \n",
       "75%      19.000000    11.000000      3.000000          3354.250000   \n",
       "max      88.000000    50.000000      5.000000         18413.000000   \n",
       "\n",
       "       early_return_amount_3mon     isDefault  \n",
       "count              10000.000000  10000.000000  \n",
       "mean                 335.232240      0.168300  \n",
       "std                  635.108825      0.374151  \n",
       "min                    0.000000      0.000000  \n",
       "25%                    0.000000      0.000000  \n",
       "50%                    0.000000      0.000000  \n",
       "75%                  413.675000      0.000000  \n",
       "max                 5523.900000      1.000000  \n",
       "\n",
       "[8 rows x 33 columns]"
      ]
     },
     "execution_count": 7,
     "metadata": {},
     "output_type": "execute_result"
    }
   ],
   "source": [
    "data_train.describe()"
   ]
  },
  {
   "cell_type": "code",
   "execution_count": 8,
   "id": "f941ba50",
   "metadata": {},
   "outputs": [
    {
     "name": "stdout",
     "output_type": "stream",
     "text": [
      "There are 7 columns in train dataset with missing values.\n"
     ]
    }
   ],
   "source": [
    "print(f'There are {data_train.isnull().any().sum()} columns in train dataset with missing values.')"
   ]
  },
  {
   "cell_type": "code",
   "execution_count": 9,
   "id": "ff7f2430",
   "metadata": {},
   "outputs": [
    {
     "data": {
      "text/plain": [
       "{}"
      ]
     },
     "execution_count": 9,
     "metadata": {},
     "output_type": "execute_result"
    }
   ],
   "source": [
    "have_null_fea_dict = (data_train.isnull().sum()/len(data_train)).to_dict() \n",
    "fea_null_moreThanHalf = {} \n",
    "for key,value in have_null_fea_dict.items(): \n",
    "    if value > 0.5: \n",
    "        fea_null_moreThanHalf[key] = value\n",
    "fea_null_moreThanHalf"
   ]
  },
  {
   "cell_type": "code",
   "execution_count": 10,
   "id": "7ff968a9",
   "metadata": {},
   "outputs": [
    {
     "data": {
      "text/plain": [
       "<AxesSubplot:>"
      ]
     },
     "execution_count": 10,
     "metadata": {},
     "output_type": "execute_result"
    },
    {
     "data": {
      "image/png": "[encoded data removed]",
      "text/plain": [
       "<Figure size 432x288 with 1 Axes>"
      ]
     },
     "metadata": {
      "needs_background": "light"
     },
     "output_type": "display_data"
    }
   ],
   "source": [
    "# nan可视化 \n",
    "missing = data_train.isnull().sum()/len(data_train) \n",
    "missing = missing[missing > 0] \n",
    "missing.sort_values(inplace=True) \n",
    "missing.plot.bar()"
   ]
  },
  {
   "cell_type": "code",
   "execution_count": 11,
   "id": "e292cfbd",
   "metadata": {},
   "outputs": [],
   "source": [
    "numerical_fea = list(data_train.select_dtypes(exclude=['object']).columns) \n",
    "category_fea = list(filter(lambda x: x not in numerical_fea,list(data_train.columns))) \n",
    "label = 'isDefault' \n",
    "numerical_fea.remove(label)\n"
   ]
  },
  {
   "cell_type": "code",
   "execution_count": 12,
   "id": "3f841051",
   "metadata": {},
   "outputs": [
    {
     "data": {
      "text/plain": [
       "loan_id                       0\n",
       "user_id                       0\n",
       "total_loan                    0\n",
       "year_of_loan                  0\n",
       "interest                      0\n",
       "monthly_payment               0\n",
       "class                         0\n",
       "employer_type                 0\n",
       "industry                      0\n",
       "work_year                   622\n",
       "house_exist                   0\n",
       "censor_status                 0\n",
       "issue_date                    0\n",
       "use                           0\n",
       "post_code                     0\n",
       "region                        0\n",
       "debt_loan_ratio               0\n",
       "del_in_18month                0\n",
       "scoring_low                   0\n",
       "scoring_high                  0\n",
       "known_outstanding_loan        0\n",
       "known_dero                    0\n",
       "pub_dero_bankrup              7\n",
       "recircle_b                    0\n",
       "recircle_u                    0\n",
       "initial_list_status           0\n",
       "app_type                      0\n",
       "earlies_credit_mon            0\n",
       "title                         0\n",
       "policy_code                   0\n",
       "f0                          498\n",
       "f1                          858\n",
       "f2                          498\n",
       "f3                          498\n",
       "f4                          498\n",
       "early_return                  0\n",
       "early_return_amount           0\n",
       "early_return_amount_3mon      0\n",
       "isDefault                     0\n",
       "dtype: int64"
      ]
     },
     "execution_count": 12,
     "metadata": {},
     "output_type": "execute_result"
    }
   ],
   "source": [
    "data_train.isnull().sum()"
   ]
  },
  {
   "cell_type": "markdown",
   "id": "c3c933cb",
   "metadata": {},
   "source": [
    "###  用0填充空缺值"
   ]
  },
  {
   "cell_type": "code",
   "execution_count": 13,
   "id": "de978c0c",
   "metadata": {},
   "outputs": [],
   "source": [
    "# data_train = data_train.fillna(0)"
   ]
  },
  {
   "cell_type": "code",
   "execution_count": 14,
   "id": "beb8a0ee",
   "metadata": {},
   "outputs": [],
   "source": [
    "# data_train.isnull().sum()"
   ]
  },
  {
   "cell_type": "markdown",
   "id": "ec091e44",
   "metadata": {},
   "source": [
    "### 平均数，众数填充"
   ]
  },
  {
   "cell_type": "code",
   "execution_count": 15,
   "id": "9d978d94",
   "metadata": {},
   "outputs": [
    {
     "data": {
      "text/plain": [
       "loan_id                       0\n",
       "user_id                       0\n",
       "total_loan                    0\n",
       "year_of_loan                  0\n",
       "interest                      0\n",
       "monthly_payment               0\n",
       "class                         0\n",
       "employer_type                 0\n",
       "industry                      0\n",
       "work_year                   622\n",
       "house_exist                   0\n",
       "censor_status                 0\n",
       "issue_date                    0\n",
       "use                           0\n",
       "post_code                     0\n",
       "region                        0\n",
       "debt_loan_ratio               0\n",
       "del_in_18month                0\n",
       "scoring_low                   0\n",
       "scoring_high                  0\n",
       "known_outstanding_loan        0\n",
       "known_dero                    0\n",
       "pub_dero_bankrup              0\n",
       "recircle_b                    0\n",
       "recircle_u                    0\n",
       "initial_list_status           0\n",
       "app_type                      0\n",
       "earlies_credit_mon            0\n",
       "title                         0\n",
       "policy_code                   0\n",
       "f0                            0\n",
       "f1                            0\n",
       "f2                            0\n",
       "f3                            0\n",
       "f4                            0\n",
       "early_return                  0\n",
       "early_return_amount           0\n",
       "early_return_amount_3mon      0\n",
       "isDefault                     0\n",
       "dtype: int64"
      ]
     },
     "execution_count": 15,
     "metadata": {},
     "output_type": "execute_result"
    }
   ],
   "source": [
    "#按照平均数填充数值型特征 \n",
    "data_train[numerical_fea] = data_train[numerical_fea].fillna(data_train[numerical_fea].median()) \n",
    "data_test[numerical_fea] = data_test[numerical_fea].fillna(data_train[numerical_fea].median()) \n",
    "#按照众数填充类别型特征 \n",
    "data_train[category_fea] = data_train[category_fea].fillna(data_train[category_fea].mode()) \n",
    "data_test[category_fea] = data_test[category_fea].fillna(data_train[category_fea].mode())\n",
    "\n",
    "data_train.isnull().sum()\n"
   ]
  },
  {
   "cell_type": "code",
   "execution_count": 16,
   "id": "ad8a01bd",
   "metadata": {},
   "outputs": [],
   "source": [
    "#转化成时间格式 \n",
    "for data in [data_train, data_test]: \n",
    "    data['issue_date'] = pd.to_datetime(data['issue_date'],format='%Y-%m-%d')\n",
    "\n"
   ]
  },
  {
   "cell_type": "code",
   "execution_count": 17,
   "id": "9aaf394a",
   "metadata": {},
   "outputs": [
    {
     "data": {
      "text/plain": [
       "4340   2016-04-01\n",
       "3176   2015-11-01\n",
       "3047   2018-04-01\n",
       "3740   2015-07-01\n",
       "3132   2012-08-01\n",
       "2978   2018-05-01\n",
       "1097   2015-08-01\n",
       "1419   2015-12-01\n",
       "3967   2016-11-01\n",
       "941    2014-02-01\n",
       "Name: issue_date, dtype: datetime64[ns]"
      ]
     },
     "execution_count": 17,
     "metadata": {},
     "output_type": "execute_result"
    }
   ],
   "source": [
    "data['issue_date'].sample(10)"
   ]
  },
  {
   "cell_type": "code",
   "execution_count": 18,
   "id": "e6852987",
   "metadata": {},
   "outputs": [
    {
     "data": {
      "text/plain": [
       "1 year        671\n",
       "10+ years    3370\n",
       "2 years       848\n",
       "3 years       776\n",
       "4 years       562\n",
       "5 years       623\n",
       "6 years       476\n",
       "7 years       436\n",
       "8 years       458\n",
       "9 years       393\n",
       "< 1 year      765\n",
       "NaN           622\n",
       "Name: work_year, dtype: int64"
      ]
     },
     "execution_count": 18,
     "metadata": {},
     "output_type": "execute_result"
    }
   ],
   "source": [
    "data_train['work_year'].value_counts(dropna=False).sort_index()"
   ]
  },
  {
   "cell_type": "code",
   "execution_count": 19,
   "id": "ef4aaf4c",
   "metadata": {},
   "outputs": [],
   "source": [
    "def work_year_to_int(s): \n",
    "    if pd.isnull(s): \n",
    "        return s \n",
    "    else:\n",
    "        return np.int8(s.split()[0]) \n",
    "    \n",
    "for data in [data_train, data_test]: \n",
    "    data['work_year'].replace(to_replace='10+ years', value='10 years', inplace=True) \n",
    "    data['work_year'].replace('< 1 year', '0 years', inplace=True) \n",
    "    data['work_year'] = data['work_year'].apply(work_year_to_int)\n"
   ]
  },
  {
   "cell_type": "code",
   "execution_count": 20,
   "id": "f702a0d5",
   "metadata": {},
   "outputs": [
    {
     "data": {
      "text/plain": [
       "0.0      382\n",
       "1.0      344\n",
       "2.0      463\n",
       "3.0      385\n",
       "4.0      322\n",
       "5.0      334\n",
       "6.0      230\n",
       "7.0      224\n",
       "8.0      224\n",
       "9.0      184\n",
       "10.0    1630\n",
       "NaN      278\n",
       "Name: work_year, dtype: int64"
      ]
     },
     "execution_count": 20,
     "metadata": {},
     "output_type": "execute_result"
    }
   ],
   "source": [
    "data['work_year'].value_counts(dropna=False).sort_index()"
   ]
  },
  {
   "cell_type": "code",
   "execution_count": null,
   "id": "9af28e41",
   "metadata": {},
   "outputs": [],
   "source": []
  },
  {
   "cell_type": "code",
   "execution_count": 21,
   "id": "c0ca3f9e",
   "metadata": {},
   "outputs": [
    {
     "data": {
      "text/plain": [
       "3150    2000/11/1\n",
       "5636     2021/4/2\n",
       "1607     2021/1/3\n",
       "4412     2021/5/2\n",
       "1768    1994/12/1\n",
       "5069     1998/5/1\n",
       "7876     2021/3/5\n",
       "9091    2021/10/6\n",
       "6687    1992/11/1\n",
       "5935    1997/11/1\n",
       "Name: earlies_credit_mon, dtype: object"
      ]
     },
     "execution_count": 21,
     "metadata": {},
     "output_type": "execute_result"
    }
   ],
   "source": [
    "data_train['earlies_credit_mon'].sample(10)"
   ]
  },
  {
   "cell_type": "code",
   "execution_count": 25,
   "id": "f3fd6b6d",
   "metadata": {},
   "outputs": [],
   "source": [
    "for data in [data_train, data_test]: \n",
    "    data['earlies_credit_mon'] = pd.to_datetime(data['earlies_credit_mon'],format='%Y-%m-%d',errors='coerce')\n",
    "\n"
   ]
  },
  {
   "cell_type": "code",
   "execution_count": 26,
   "id": "13fdf9f7",
   "metadata": {},
   "outputs": [
    {
     "data": {
      "text/plain": [
       "0      2021-12-01\n",
       "1      1990-04-01\n",
       "2      1991-10-01\n",
       "3      2021-06-01\n",
       "4      2021-05-02\n",
       "          ...    \n",
       "9995   2021-02-06\n",
       "9996   1997-05-01\n",
       "9997   1987-02-01\n",
       "9998   1992-10-01\n",
       "9999   2021-02-09\n",
       "Name: earlies_credit_mon, Length: 10000, dtype: datetime64[ns]"
      ]
     },
     "execution_count": 26,
     "metadata": {},
     "output_type": "execute_result"
    }
   ],
   "source": [
    "data_train['earlies_credit_mon']"
   ]
  },
  {
   "cell_type": "code",
   "execution_count": 46,
   "id": "8765cd02",
   "metadata": {},
   "outputs": [],
   "source": [
    "class_dict = {\n",
    "    'A': 1,\n",
    "    'B': 2,\n",
    "    'C': 3,\n",
    "    'D': 4,\n",
    "    'E': 5,\n",
    "    'F': 6,\n",
    "    'G': 7,\n",
    "}\n",
    "\n",
    "data_train['class'] = data_train['class'].map(class_dict)\n",
    "data_test[]"
   ]
  },
  {
   "cell_type": "code",
   "execution_count": 29,
   "id": "350545c8",
   "metadata": {},
   "outputs": [],
   "source": [
    "cat_cols = ['employer_type', 'industry']\n",
    "\n",
    "from sklearn.preprocessing import LabelEncoder\n",
    "for col in cat_cols:\n",
    "    lbl = LabelEncoder().fit(data_train[col])\n",
    "    data_train[col] = lbl.transform(data_train[col])\n"
   ]
  },
  {
   "cell_type": "code",
   "execution_count": 30,
   "id": "a370bf51",
   "metadata": {},
   "outputs": [
    {
     "data": {
      "text/plain": [
       "0       3\n",
       "1       3\n",
       "2       3\n",
       "3       1\n",
       "4       3\n",
       "       ..\n",
       "9995    4\n",
       "9996    3\n",
       "9997    4\n",
       "9998    3\n",
       "9999    5\n",
       "Name: employer_type, Length: 10000, dtype: int32"
      ]
     },
     "execution_count": 30,
     "metadata": {},
     "output_type": "execute_result"
    }
   ],
   "source": [
    "data_train['employer_type']"
   ]
  },
  {
   "cell_type": "code",
   "execution_count": 31,
   "id": "c1faf544",
   "metadata": {},
   "outputs": [
    {
     "data": {
      "text/plain": [
       "0       13\n",
       "1       13\n",
       "2        3\n",
       "3       10\n",
       "4        2\n",
       "        ..\n",
       "9995     7\n",
       "9996     4\n",
       "9997     2\n",
       "9998     4\n",
       "9999     2\n",
       "Name: industry, Length: 10000, dtype: int32"
      ]
     },
     "execution_count": 31,
     "metadata": {},
     "output_type": "execute_result"
    }
   ],
   "source": [
    "data_train['industry']"
   ]
  },
  {
   "cell_type": "code",
   "execution_count": 34,
   "id": "ebd9fbab",
   "metadata": {},
   "outputs": [],
   "source": [
    "from sklearn.model_selection import StratifiedKFold, KFold\n",
    "from sklearn.metrics import roc_auc_score\n",
    "import lightgbm as lgb"
   ]
  },
  {
   "cell_type": "code",
   "execution_count": 35,
   "id": "29439a90",
   "metadata": {},
   "outputs": [],
   "source": [
    "def k_fold_serachParmaters(model,train_data, train_label, test_data):\n",
    "    n_splits=5\n",
    "    \n",
    "    sk = StratifiedKFold(n_splits=n_splits, shuffle=True, random_state=2020)\n",
    "    pred_Test = np.zeros(len(test_data))\n",
    "    \n",
    "    auc_train, auc_val = 0, 0\n",
    "    for tr_idx, val_idx in sk.split(train_data, train_label):\n",
    "        x_train = train_data.iloc[tr_idx]\n",
    "        y_train = train_label.iloc[tr_idx]\n",
    "        x_val = train_data.iloc[val_idx]\n",
    "        y_val = train_label.iloc[val_idx]\n",
    "\n",
    "        model.fit(x_train, y_train, \n",
    "                  eval_set=[(x_val, y_val)], \n",
    "                  categorical_feature = cat_cols,\n",
    "                 early_stopping_rounds=100,\n",
    "                 verbose=False)\n",
    "\n",
    "        pred_Test += model.predict_proba(test_data)[:, 1]/n_splits\n",
    "\n",
    "        pred = model.predict(x_val)\n",
    "        auc_val += roc_auc_score(y_val,pred)/n_splits\n",
    "        \n",
    "        pred = model.predict(x_train)\n",
    "        auc_train += roc_auc_score(y_train, pred)/n_splits\n",
    "        \n",
    "        \n",
    "    return auc_val, pred_Test"
   ]
  },
  {
   "cell_type": "code",
   "execution_count": 47,
   "id": "2b2e183d",
   "metadata": {},
   "outputs": [],
   "source": [
    "train_data=data_train.drop(['loan_id', 'user_id', 'isDefault'], axis=1)\n",
    "train_label=data_train['isDefault']\n",
    "\n",
    "n_splits=5\n",
    "    \n",
    "sk = StratifiedKFold(n_splits=n_splits, shuffle=True, random_state=2020)\n",
    "    \n",
    "\n",
    "for tr_idx, val_idx in sk.split(train_data, train_label):\n",
    "    x_train = train_data.iloc[tr_idx]\n",
    "    y_train = train_label.iloc[tr_idx]\n",
    "    x_val = train_data.iloc[val_idx]\n",
    "    y_val = train_label.iloc[val_idx]"
   ]
  },
  {
   "cell_type": "code",
   "execution_count": 48,
   "id": "affb0a5a",
   "metadata": {},
   "outputs": [],
   "source": [
    "clf = lgb.LGBMClassifier(\n",
    "    num_leaves=np.random.randint(6, 10), min_child_samples= np.random.randint(2,5),\n",
    "    max_depth=7,learning_rate=0.01,\n",
    "    n_estimators=2050,n_jobs=-1)\n",
    "\n"
   ]
  },
  {
   "cell_type": "code",
   "execution_count": 49,
   "id": "6cbb04ce",
   "metadata": {},
   "outputs": [
    {
     "ename": "ValueError",
     "evalue": "DataFrame.dtypes for data must be int, float or bool.\nDid not expect the data types in the following fields: issue_date, earlies_credit_mon",
     "output_type": "error",
     "traceback": [
      "\u001b[1;31m---------------------------------------------------------------------------\u001b[0m",
      "\u001b[1;31mValueError\u001b[0m                                Traceback (most recent call last)",
      "\u001b[1;32m~\\AppData\\Local\\Temp/ipykernel_7204/941739834.py\u001b[0m in \u001b[0;36m<module>\u001b[1;34m\u001b[0m\n\u001b[1;32m----> 1\u001b[1;33m \u001b[0mclf\u001b[0m\u001b[1;33m.\u001b[0m\u001b[0mfit\u001b[0m\u001b[1;33m(\u001b[0m\u001b[0mx_train\u001b[0m\u001b[1;33m,\u001b[0m \u001b[0my_train\u001b[0m\u001b[1;33m,\u001b[0m \u001b[0meval_set\u001b[0m\u001b[1;33m=\u001b[0m\u001b[1;33m[\u001b[0m\u001b[1;33m(\u001b[0m\u001b[0mx_val\u001b[0m\u001b[1;33m,\u001b[0m \u001b[0my_val\u001b[0m\u001b[1;33m)\u001b[0m\u001b[1;33m]\u001b[0m\u001b[1;33m,\u001b[0m \u001b[0mcategorical_feature\u001b[0m \u001b[1;33m=\u001b[0m \u001b[0mcat_cols\u001b[0m\u001b[1;33m,\u001b[0m\u001b[0mearly_stopping_rounds\u001b[0m\u001b[1;33m=\u001b[0m\u001b[1;36m100\u001b[0m\u001b[1;33m,\u001b[0m\u001b[0mverbose\u001b[0m\u001b[1;33m=\u001b[0m\u001b[1;32mFalse\u001b[0m\u001b[1;33m)\u001b[0m\u001b[1;33m\u001b[0m\u001b[1;33m\u001b[0m\u001b[0m\n\u001b[0m",
      "\u001b[1;32mE:\\anaconda3\\envs\\pytorch\\lib\\site-packages\\lightgbm\\sklearn.py\u001b[0m in \u001b[0;36mfit\u001b[1;34m(self, X, y, sample_weight, init_score, eval_set, eval_names, eval_sample_weight, eval_class_weight, eval_init_score, eval_metric, early_stopping_rounds, verbose, feature_name, categorical_feature, callbacks, init_model)\u001b[0m\n\u001b[0;32m    855\u001b[0m                                         \u001b[0mverbose\u001b[0m\u001b[1;33m=\u001b[0m\u001b[0mverbose\u001b[0m\u001b[1;33m,\u001b[0m \u001b[0mfeature_name\u001b[0m\u001b[1;33m=\u001b[0m\u001b[0mfeature_name\u001b[0m\u001b[1;33m,\u001b[0m\u001b[1;33m\u001b[0m\u001b[1;33m\u001b[0m\u001b[0m\n\u001b[0;32m    856\u001b[0m                                         \u001b[0mcategorical_feature\u001b[0m\u001b[1;33m=\u001b[0m\u001b[0mcategorical_feature\u001b[0m\u001b[1;33m,\u001b[0m\u001b[1;33m\u001b[0m\u001b[1;33m\u001b[0m\u001b[0m\n\u001b[1;32m--> 857\u001b[1;33m                                         callbacks=callbacks, init_model=init_model)\n\u001b[0m\u001b[0;32m    858\u001b[0m         \u001b[1;32mreturn\u001b[0m \u001b[0mself\u001b[0m\u001b[1;33m\u001b[0m\u001b[1;33m\u001b[0m\u001b[0m\n\u001b[0;32m    859\u001b[0m \u001b[1;33m\u001b[0m\u001b[0m\n",
      "\u001b[1;32mE:\\anaconda3\\envs\\pytorch\\lib\\site-packages\\lightgbm\\sklearn.py\u001b[0m in \u001b[0;36mfit\u001b[1;34m(self, X, y, sample_weight, init_score, group, eval_set, eval_names, eval_sample_weight, eval_class_weight, eval_init_score, eval_group, eval_metric, early_stopping_rounds, verbose, feature_name, categorical_feature, callbacks, init_model)\u001b[0m\n\u001b[0;32m    615\u001b[0m                               \u001b[0mevals_result\u001b[0m\u001b[1;33m=\u001b[0m\u001b[0mevals_result\u001b[0m\u001b[1;33m,\u001b[0m \u001b[0mfobj\u001b[0m\u001b[1;33m=\u001b[0m\u001b[0mself\u001b[0m\u001b[1;33m.\u001b[0m\u001b[0m_fobj\u001b[0m\u001b[1;33m,\u001b[0m \u001b[0mfeval\u001b[0m\u001b[1;33m=\u001b[0m\u001b[0meval_metrics_callable\u001b[0m\u001b[1;33m,\u001b[0m\u001b[1;33m\u001b[0m\u001b[1;33m\u001b[0m\u001b[0m\n\u001b[0;32m    616\u001b[0m                               \u001b[0mverbose_eval\u001b[0m\u001b[1;33m=\u001b[0m\u001b[0mverbose\u001b[0m\u001b[1;33m,\u001b[0m \u001b[0mfeature_name\u001b[0m\u001b[1;33m=\u001b[0m\u001b[0mfeature_name\u001b[0m\u001b[1;33m,\u001b[0m\u001b[1;33m\u001b[0m\u001b[1;33m\u001b[0m\u001b[0m\n\u001b[1;32m--> 617\u001b[1;33m                               callbacks=callbacks, init_model=init_model)\n\u001b[0m\u001b[0;32m    618\u001b[0m \u001b[1;33m\u001b[0m\u001b[0m\n\u001b[0;32m    619\u001b[0m         \u001b[1;32mif\u001b[0m \u001b[0mevals_result\u001b[0m\u001b[1;33m:\u001b[0m\u001b[1;33m\u001b[0m\u001b[1;33m\u001b[0m\u001b[0m\n",
      "\u001b[1;32mE:\\anaconda3\\envs\\pytorch\\lib\\site-packages\\lightgbm\\engine.py\u001b[0m in \u001b[0;36mtrain\u001b[1;34m(params, train_set, num_boost_round, valid_sets, valid_names, fobj, feval, init_model, feature_name, categorical_feature, early_stopping_rounds, evals_result, verbose_eval, learning_rates, keep_training_booster, callbacks)\u001b[0m\n\u001b[0;32m    229\u001b[0m     \u001b[1;31m# construct booster\u001b[0m\u001b[1;33m\u001b[0m\u001b[1;33m\u001b[0m\u001b[1;33m\u001b[0m\u001b[0m\n\u001b[0;32m    230\u001b[0m     \u001b[1;32mtry\u001b[0m\u001b[1;33m:\u001b[0m\u001b[1;33m\u001b[0m\u001b[1;33m\u001b[0m\u001b[0m\n\u001b[1;32m--> 231\u001b[1;33m         \u001b[0mbooster\u001b[0m \u001b[1;33m=\u001b[0m \u001b[0mBooster\u001b[0m\u001b[1;33m(\u001b[0m\u001b[0mparams\u001b[0m\u001b[1;33m=\u001b[0m\u001b[0mparams\u001b[0m\u001b[1;33m,\u001b[0m \u001b[0mtrain_set\u001b[0m\u001b[1;33m=\u001b[0m\u001b[0mtrain_set\u001b[0m\u001b[1;33m)\u001b[0m\u001b[1;33m\u001b[0m\u001b[1;33m\u001b[0m\u001b[0m\n\u001b[0m\u001b[0;32m    232\u001b[0m         \u001b[1;32mif\u001b[0m \u001b[0mis_valid_contain_train\u001b[0m\u001b[1;33m:\u001b[0m\u001b[1;33m\u001b[0m\u001b[1;33m\u001b[0m\u001b[0m\n\u001b[0;32m    233\u001b[0m             \u001b[0mbooster\u001b[0m\u001b[1;33m.\u001b[0m\u001b[0mset_train_data_name\u001b[0m\u001b[1;33m(\u001b[0m\u001b[0mtrain_data_name\u001b[0m\u001b[1;33m)\u001b[0m\u001b[1;33m\u001b[0m\u001b[1;33m\u001b[0m\u001b[0m\n",
      "\u001b[1;32mE:\\anaconda3\\envs\\pytorch\\lib\\site-packages\\lightgbm\\basic.py\u001b[0m in \u001b[0;36m__init__\u001b[1;34m(self, params, train_set, model_file, model_str, silent)\u001b[0m\n\u001b[0;32m   2051\u001b[0m                     \u001b[1;32mbreak\u001b[0m\u001b[1;33m\u001b[0m\u001b[1;33m\u001b[0m\u001b[0m\n\u001b[0;32m   2052\u001b[0m             \u001b[1;31m# construct booster object\u001b[0m\u001b[1;33m\u001b[0m\u001b[1;33m\u001b[0m\u001b[1;33m\u001b[0m\u001b[0m\n\u001b[1;32m-> 2053\u001b[1;33m             \u001b[0mtrain_set\u001b[0m\u001b[1;33m.\u001b[0m\u001b[0mconstruct\u001b[0m\u001b[1;33m(\u001b[0m\u001b[1;33m)\u001b[0m\u001b[1;33m\u001b[0m\u001b[1;33m\u001b[0m\u001b[0m\n\u001b[0m\u001b[0;32m   2054\u001b[0m             \u001b[1;31m# copy the parameters from train_set\u001b[0m\u001b[1;33m\u001b[0m\u001b[1;33m\u001b[0m\u001b[1;33m\u001b[0m\u001b[0m\n\u001b[0;32m   2055\u001b[0m             \u001b[0mparams\u001b[0m\u001b[1;33m.\u001b[0m\u001b[0mupdate\u001b[0m\u001b[1;33m(\u001b[0m\u001b[0mtrain_set\u001b[0m\u001b[1;33m.\u001b[0m\u001b[0mget_params\u001b[0m\u001b[1;33m(\u001b[0m\u001b[1;33m)\u001b[0m\u001b[1;33m)\u001b[0m\u001b[1;33m\u001b[0m\u001b[1;33m\u001b[0m\u001b[0m\n",
      "\u001b[1;32mE:\\anaconda3\\envs\\pytorch\\lib\\site-packages\\lightgbm\\basic.py\u001b[0m in \u001b[0;36mconstruct\u001b[1;34m(self)\u001b[0m\n\u001b[0;32m   1323\u001b[0m                                 \u001b[0minit_score\u001b[0m\u001b[1;33m=\u001b[0m\u001b[0mself\u001b[0m\u001b[1;33m.\u001b[0m\u001b[0minit_score\u001b[0m\u001b[1;33m,\u001b[0m \u001b[0mpredictor\u001b[0m\u001b[1;33m=\u001b[0m\u001b[0mself\u001b[0m\u001b[1;33m.\u001b[0m\u001b[0m_predictor\u001b[0m\u001b[1;33m,\u001b[0m\u001b[1;33m\u001b[0m\u001b[1;33m\u001b[0m\u001b[0m\n\u001b[0;32m   1324\u001b[0m                                 \u001b[0msilent\u001b[0m\u001b[1;33m=\u001b[0m\u001b[0mself\u001b[0m\u001b[1;33m.\u001b[0m\u001b[0msilent\u001b[0m\u001b[1;33m,\u001b[0m \u001b[0mfeature_name\u001b[0m\u001b[1;33m=\u001b[0m\u001b[0mself\u001b[0m\u001b[1;33m.\u001b[0m\u001b[0mfeature_name\u001b[0m\u001b[1;33m,\u001b[0m\u001b[1;33m\u001b[0m\u001b[1;33m\u001b[0m\u001b[0m\n\u001b[1;32m-> 1325\u001b[1;33m                                 categorical_feature=self.categorical_feature, params=self.params)\n\u001b[0m\u001b[0;32m   1326\u001b[0m             \u001b[1;32mif\u001b[0m \u001b[0mself\u001b[0m\u001b[1;33m.\u001b[0m\u001b[0mfree_raw_data\u001b[0m\u001b[1;33m:\u001b[0m\u001b[1;33m\u001b[0m\u001b[1;33m\u001b[0m\u001b[0m\n\u001b[0;32m   1327\u001b[0m                 \u001b[0mself\u001b[0m\u001b[1;33m.\u001b[0m\u001b[0mdata\u001b[0m \u001b[1;33m=\u001b[0m \u001b[1;32mNone\u001b[0m\u001b[1;33m\u001b[0m\u001b[1;33m\u001b[0m\u001b[0m\n",
      "\u001b[1;32mE:\\anaconda3\\envs\\pytorch\\lib\\site-packages\\lightgbm\\basic.py\u001b[0m in \u001b[0;36m_lazy_init\u001b[1;34m(self, data, label, reference, weight, group, init_score, predictor, silent, feature_name, categorical_feature, params)\u001b[0m\n\u001b[0;32m   1063\u001b[0m                                                                                              \u001b[0mfeature_name\u001b[0m\u001b[1;33m,\u001b[0m\u001b[1;33m\u001b[0m\u001b[1;33m\u001b[0m\u001b[0m\n\u001b[0;32m   1064\u001b[0m                                                                                              \u001b[0mcategorical_feature\u001b[0m\u001b[1;33m,\u001b[0m\u001b[1;33m\u001b[0m\u001b[1;33m\u001b[0m\u001b[0m\n\u001b[1;32m-> 1065\u001b[1;33m                                                                                              self.pandas_categorical)\n\u001b[0m\u001b[0;32m   1066\u001b[0m         \u001b[0mlabel\u001b[0m \u001b[1;33m=\u001b[0m \u001b[0m_label_from_pandas\u001b[0m\u001b[1;33m(\u001b[0m\u001b[0mlabel\u001b[0m\u001b[1;33m)\u001b[0m\u001b[1;33m\u001b[0m\u001b[1;33m\u001b[0m\u001b[0m\n\u001b[0;32m   1067\u001b[0m \u001b[1;33m\u001b[0m\u001b[0m\n",
      "\u001b[1;32mE:\\anaconda3\\envs\\pytorch\\lib\\site-packages\\lightgbm\\basic.py\u001b[0m in \u001b[0;36m_data_from_pandas\u001b[1;34m(data, feature_name, categorical_feature, pandas_categorical)\u001b[0m\n\u001b[0;32m    395\u001b[0m             raise ValueError(\"DataFrame.dtypes for data must be int, float or bool.\\n\"\n\u001b[0;32m    396\u001b[0m                              \u001b[1;34m\"Did not expect the data types in the following fields: \"\u001b[0m\u001b[1;33m\u001b[0m\u001b[1;33m\u001b[0m\u001b[0m\n\u001b[1;32m--> 397\u001b[1;33m                              + ', '.join(data.columns[bad_indices]))\n\u001b[0m\u001b[0;32m    398\u001b[0m         \u001b[0mdata\u001b[0m \u001b[1;33m=\u001b[0m \u001b[0mdata\u001b[0m\u001b[1;33m.\u001b[0m\u001b[0mvalues\u001b[0m\u001b[1;33m\u001b[0m\u001b[1;33m\u001b[0m\u001b[0m\n\u001b[0;32m    399\u001b[0m         \u001b[1;32mif\u001b[0m \u001b[0mdata\u001b[0m\u001b[1;33m.\u001b[0m\u001b[0mdtype\u001b[0m \u001b[1;33m!=\u001b[0m \u001b[0mnp\u001b[0m\u001b[1;33m.\u001b[0m\u001b[0mfloat32\u001b[0m \u001b[1;32mand\u001b[0m \u001b[0mdata\u001b[0m\u001b[1;33m.\u001b[0m\u001b[0mdtype\u001b[0m \u001b[1;33m!=\u001b[0m \u001b[0mnp\u001b[0m\u001b[1;33m.\u001b[0m\u001b[0mfloat64\u001b[0m\u001b[1;33m:\u001b[0m\u001b[1;33m\u001b[0m\u001b[1;33m\u001b[0m\u001b[0m\n",
      "\u001b[1;31mValueError\u001b[0m: DataFrame.dtypes for data must be int, float or bool.\nDid not expect the data types in the following fields: issue_date, earlies_credit_mon"
     ]
    }
   ],
   "source": [
    "clf.fit(x_train, y_train, eval_set=[(x_val, y_val)], categorical_feature = cat_cols,early_stopping_rounds=100,verbose=False)"
   ]
  },
  {
   "cell_type": "code",
   "execution_count": null,
   "id": "1d909eef",
   "metadata": {},
   "outputs": [],
   "source": []
  }
 ],
 "metadata": {
  "kernelspec": {
   "display_name": "Python 3 (ipykernel)",
   "language": "python",
   "name": "python3"
  },
  "language_info": {
   "codemirror_mode": {
    "name": "ipython",
    "version": 3
   },
   "file_extension": ".py",
   "mimetype": "text/x-python",
   "name": "python",
   "nbconvert_exporter": "python",
   "pygments_lexer": "ipython3",
   "version": "3.7.10"
  }
 },
 "nbformat": 4,
 "nbformat_minor": 5
}
