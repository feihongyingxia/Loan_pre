{
 "cells": [
  {
   "cell_type": "code",
   "execution_count": 1,
   "id": "4b126c9b",
   "metadata": {},
   "outputs": [],
   "source": [
    "import matplotlib.pyplot as plt\n",
    "import seaborn as sns\n",
    "import gc\n",
    "import pandas as pd\n",
    "import lightgbm as lgb\n",
    "import numpy as np\n",
    "from sklearn.metrics import roc_auc_score, precision_recall_curve, roc_curve, average_precision_score, auc\n",
    "from sklearn.model_selection import KFold\n",
    "from lightgbm import LGBMClassifier\n",
    "import matplotlib.pyplot as plt\n",
    "import seaborn as sns\n",
    "import gc\n",
    "from sklearn.model_selection import StratifiedKFold\n",
    "import category_encoders\n",
    "from catboost import Pool\n",
    "from catboost.utils import get_roc_curve\n",
    "from sklearn.metrics import auc\n"
   ]
  },
  {
   "cell_type": "code",
   "execution_count": 2,
   "id": "6a7d52e6",
   "metadata": {},
   "outputs": [],
   "source": [
    "train_data = pd.read_csv('./train_dataset/train_public.csv')\n",
    "test_public = pd.read_csv('./test_public.csv')\n",
    "train_internet = pd.read_csv('./train_dataset/train_internet.csv', encoding='gb2312')"
   ]
  },
  {
   "cell_type": "code",
   "execution_count": 3,
   "id": "a089db48",
   "metadata": {},
   "outputs": [
    {
     "data": {
      "text/html": [
       "<div>\n",
       "<style scoped>\n",
       "    .dataframe tbody tr th:only-of-type {\n",
       "        vertical-align: middle;\n",
       "    }\n",
       "\n",
       "    .dataframe tbody tr th {\n",
       "        vertical-align: top;\n",
       "    }\n",
       "\n",
       "    .dataframe thead th {\n",
       "        text-align: right;\n",
       "    }\n",
       "</style>\n",
       "<table border=\"1\" class=\"dataframe\">\n",
       "  <thead>\n",
       "    <tr style=\"text-align: right;\">\n",
       "      <th></th>\n",
       "      <th>loan_id</th>\n",
       "      <th>user_id</th>\n",
       "      <th>total_loan</th>\n",
       "      <th>year_of_loan</th>\n",
       "      <th>interest</th>\n",
       "      <th>monthly_payment</th>\n",
       "      <th>class</th>\n",
       "      <th>sub_class</th>\n",
       "      <th>work_type</th>\n",
       "      <th>employer_type</th>\n",
       "      <th>...</th>\n",
       "      <th>earlies_credit_mon</th>\n",
       "      <th>title</th>\n",
       "      <th>policy_code</th>\n",
       "      <th>f0</th>\n",
       "      <th>f1</th>\n",
       "      <th>f2</th>\n",
       "      <th>f3</th>\n",
       "      <th>f4</th>\n",
       "      <th>f5</th>\n",
       "      <th>is_default</th>\n",
       "    </tr>\n",
       "  </thead>\n",
       "  <tbody>\n",
       "    <tr>\n",
       "      <th>0</th>\n",
       "      <td>119262</td>\n",
       "      <td>0</td>\n",
       "      <td>12000</td>\n",
       "      <td>5</td>\n",
       "      <td>11.53</td>\n",
       "      <td>264.10</td>\n",
       "      <td>B</td>\n",
       "      <td>B5</td>\n",
       "      <td>职员</td>\n",
       "      <td>普通企业</td>\n",
       "      <td>...</td>\n",
       "      <td>1984/3/1</td>\n",
       "      <td>0.0</td>\n",
       "      <td>1</td>\n",
       "      <td>1.0</td>\n",
       "      <td>0.0</td>\n",
       "      <td>8.0</td>\n",
       "      <td>17.0</td>\n",
       "      <td>8.0</td>\n",
       "      <td>1.0</td>\n",
       "      <td>1</td>\n",
       "    </tr>\n",
       "    <tr>\n",
       "      <th>1</th>\n",
       "      <td>369815</td>\n",
       "      <td>1</td>\n",
       "      <td>8000</td>\n",
       "      <td>3</td>\n",
       "      <td>13.98</td>\n",
       "      <td>273.35</td>\n",
       "      <td>C</td>\n",
       "      <td>C3</td>\n",
       "      <td>其他</td>\n",
       "      <td>普通企业</td>\n",
       "      <td>...</td>\n",
       "      <td>1992/1/1</td>\n",
       "      <td>94.0</td>\n",
       "      <td>1</td>\n",
       "      <td>NaN</td>\n",
       "      <td>NaN</td>\n",
       "      <td>NaN</td>\n",
       "      <td>NaN</td>\n",
       "      <td>NaN</td>\n",
       "      <td>NaN</td>\n",
       "      <td>0</td>\n",
       "    </tr>\n",
       "    <tr>\n",
       "      <th>2</th>\n",
       "      <td>787833</td>\n",
       "      <td>2</td>\n",
       "      <td>20000</td>\n",
       "      <td>5</td>\n",
       "      <td>17.99</td>\n",
       "      <td>507.76</td>\n",
       "      <td>D</td>\n",
       "      <td>D2</td>\n",
       "      <td>工人</td>\n",
       "      <td>上市企业</td>\n",
       "      <td>...</td>\n",
       "      <td>1996/10/1</td>\n",
       "      <td>0.0</td>\n",
       "      <td>1</td>\n",
       "      <td>6.0</td>\n",
       "      <td>0.0</td>\n",
       "      <td>10.0</td>\n",
       "      <td>8.0</td>\n",
       "      <td>3.0</td>\n",
       "      <td>0.0</td>\n",
       "      <td>0</td>\n",
       "    </tr>\n",
       "    <tr>\n",
       "      <th>3</th>\n",
       "      <td>671675</td>\n",
       "      <td>3</td>\n",
       "      <td>10700</td>\n",
       "      <td>3</td>\n",
       "      <td>10.16</td>\n",
       "      <td>346.07</td>\n",
       "      <td>B</td>\n",
       "      <td>B1</td>\n",
       "      <td>职员</td>\n",
       "      <td>普通企业</td>\n",
       "      <td>...</td>\n",
       "      <td>2000/7/1</td>\n",
       "      <td>41646.0</td>\n",
       "      <td>1</td>\n",
       "      <td>3.0</td>\n",
       "      <td>0.0</td>\n",
       "      <td>4.0</td>\n",
       "      <td>11.0</td>\n",
       "      <td>6.0</td>\n",
       "      <td>0.0</td>\n",
       "      <td>0</td>\n",
       "    </tr>\n",
       "    <tr>\n",
       "      <th>4</th>\n",
       "      <td>245160</td>\n",
       "      <td>4</td>\n",
       "      <td>8000</td>\n",
       "      <td>3</td>\n",
       "      <td>8.24</td>\n",
       "      <td>251.58</td>\n",
       "      <td>B</td>\n",
       "      <td>B1</td>\n",
       "      <td>其他</td>\n",
       "      <td>政府机构</td>\n",
       "      <td>...</td>\n",
       "      <td>2000/3/1</td>\n",
       "      <td>4.0</td>\n",
       "      <td>1</td>\n",
       "      <td>3.0</td>\n",
       "      <td>0.0</td>\n",
       "      <td>8.0</td>\n",
       "      <td>6.0</td>\n",
       "      <td>4.0</td>\n",
       "      <td>1.0</td>\n",
       "      <td>0</td>\n",
       "    </tr>\n",
       "    <tr>\n",
       "      <th>...</th>\n",
       "      <td>...</td>\n",
       "      <td>...</td>\n",
       "      <td>...</td>\n",
       "      <td>...</td>\n",
       "      <td>...</td>\n",
       "      <td>...</td>\n",
       "      <td>...</td>\n",
       "      <td>...</td>\n",
       "      <td>...</td>\n",
       "      <td>...</td>\n",
       "      <td>...</td>\n",
       "      <td>...</td>\n",
       "      <td>...</td>\n",
       "      <td>...</td>\n",
       "      <td>...</td>\n",
       "      <td>...</td>\n",
       "      <td>...</td>\n",
       "      <td>...</td>\n",
       "      <td>...</td>\n",
       "      <td>...</td>\n",
       "      <td>...</td>\n",
       "    </tr>\n",
       "    <tr>\n",
       "      <th>749995</th>\n",
       "      <td>624287</td>\n",
       "      <td>749995</td>\n",
       "      <td>12000</td>\n",
       "      <td>3</td>\n",
       "      <td>11.47</td>\n",
       "      <td>395.55</td>\n",
       "      <td>B</td>\n",
       "      <td>B5</td>\n",
       "      <td>职员</td>\n",
       "      <td>上市企业</td>\n",
       "      <td>...</td>\n",
       "      <td>1995/6/1</td>\n",
       "      <td>0.0</td>\n",
       "      <td>1</td>\n",
       "      <td>6.0</td>\n",
       "      <td>0.0</td>\n",
       "      <td>8.0</td>\n",
       "      <td>22.0</td>\n",
       "      <td>12.0</td>\n",
       "      <td>5.0</td>\n",
       "      <td>0</td>\n",
       "    </tr>\n",
       "    <tr>\n",
       "      <th>749996</th>\n",
       "      <td>427602</td>\n",
       "      <td>749996</td>\n",
       "      <td>12000</td>\n",
       "      <td>3</td>\n",
       "      <td>6.03</td>\n",
       "      <td>365.23</td>\n",
       "      <td>A</td>\n",
       "      <td>A1</td>\n",
       "      <td>工人</td>\n",
       "      <td>政府机构</td>\n",
       "      <td>...</td>\n",
       "      <td>2001/9/1</td>\n",
       "      <td>4.0</td>\n",
       "      <td>1</td>\n",
       "      <td>2.0</td>\n",
       "      <td>0.0</td>\n",
       "      <td>7.0</td>\n",
       "      <td>4.0</td>\n",
       "      <td>4.0</td>\n",
       "      <td>0.0</td>\n",
       "      <td>0</td>\n",
       "    </tr>\n",
       "    <tr>\n",
       "      <th>749997</th>\n",
       "      <td>206828</td>\n",
       "      <td>749997</td>\n",
       "      <td>10000</td>\n",
       "      <td>3</td>\n",
       "      <td>15.41</td>\n",
       "      <td>348.67</td>\n",
       "      <td>D</td>\n",
       "      <td>D1</td>\n",
       "      <td>职员</td>\n",
       "      <td>政府机构</td>\n",
       "      <td>...</td>\n",
       "      <td>2008/10/1</td>\n",
       "      <td>8.0</td>\n",
       "      <td>1</td>\n",
       "      <td>6.0</td>\n",
       "      <td>0.0</td>\n",
       "      <td>10.0</td>\n",
       "      <td>11.0</td>\n",
       "      <td>3.0</td>\n",
       "      <td>0.0</td>\n",
       "      <td>0</td>\n",
       "    </tr>\n",
       "    <tr>\n",
       "      <th>749998</th>\n",
       "      <td>293912</td>\n",
       "      <td>749998</td>\n",
       "      <td>7200</td>\n",
       "      <td>3</td>\n",
       "      <td>9.44</td>\n",
       "      <td>230.44</td>\n",
       "      <td>B</td>\n",
       "      <td>B1</td>\n",
       "      <td>其他</td>\n",
       "      <td>政府机构</td>\n",
       "      <td>...</td>\n",
       "      <td>2006/4/1</td>\n",
       "      <td>0.0</td>\n",
       "      <td>1</td>\n",
       "      <td>7.0</td>\n",
       "      <td>0.0</td>\n",
       "      <td>9.0</td>\n",
       "      <td>11.0</td>\n",
       "      <td>6.0</td>\n",
       "      <td>0.0</td>\n",
       "      <td>0</td>\n",
       "    </tr>\n",
       "    <tr>\n",
       "      <th>749999</th>\n",
       "      <td>381388</td>\n",
       "      <td>749999</td>\n",
       "      <td>16000</td>\n",
       "      <td>5</td>\n",
       "      <td>19.22</td>\n",
       "      <td>416.99</td>\n",
       "      <td>D</td>\n",
       "      <td>D4</td>\n",
       "      <td>职员</td>\n",
       "      <td>幼教与中小学校</td>\n",
       "      <td>...</td>\n",
       "      <td>2001/2/1</td>\n",
       "      <td>6.0</td>\n",
       "      <td>1</td>\n",
       "      <td>7.0</td>\n",
       "      <td>0.0</td>\n",
       "      <td>9.0</td>\n",
       "      <td>13.0</td>\n",
       "      <td>6.0</td>\n",
       "      <td>0.0</td>\n",
       "      <td>0</td>\n",
       "    </tr>\n",
       "  </tbody>\n",
       "</table>\n",
       "<p>750000 rows × 42 columns</p>\n",
       "</div>"
      ],
      "text/plain": [
       "        loan_id  user_id  total_loan  year_of_loan  interest  monthly_payment  \\\n",
       "0        119262        0       12000             5     11.53           264.10   \n",
       "1        369815        1        8000             3     13.98           273.35   \n",
       "2        787833        2       20000             5     17.99           507.76   \n",
       "3        671675        3       10700             3     10.16           346.07   \n",
       "4        245160        4        8000             3      8.24           251.58   \n",
       "...         ...      ...         ...           ...       ...              ...   \n",
       "749995   624287   749995       12000             3     11.47           395.55   \n",
       "749996   427602   749996       12000             3      6.03           365.23   \n",
       "749997   206828   749997       10000             3     15.41           348.67   \n",
       "749998   293912   749998        7200             3      9.44           230.44   \n",
       "749999   381388   749999       16000             5     19.22           416.99   \n",
       "\n",
       "       class sub_class work_type employer_type  ... earlies_credit_mon  \\\n",
       "0          B        B5        职员          普通企业  ...           1984/3/1   \n",
       "1          C        C3        其他          普通企业  ...           1992/1/1   \n",
       "2          D        D2        工人          上市企业  ...          1996/10/1   \n",
       "3          B        B1        职员          普通企业  ...           2000/7/1   \n",
       "4          B        B1        其他          政府机构  ...           2000/3/1   \n",
       "...      ...       ...       ...           ...  ...                ...   \n",
       "749995     B        B5        职员          上市企业  ...           1995/6/1   \n",
       "749996     A        A1        工人          政府机构  ...           2001/9/1   \n",
       "749997     D        D1        职员          政府机构  ...          2008/10/1   \n",
       "749998     B        B1        其他          政府机构  ...           2006/4/1   \n",
       "749999     D        D4        职员       幼教与中小学校  ...           2001/2/1   \n",
       "\n",
       "          title  policy_code   f0   f1    f2    f3    f4   f5  is_default  \n",
       "0           0.0            1  1.0  0.0   8.0  17.0   8.0  1.0           1  \n",
       "1          94.0            1  NaN  NaN   NaN   NaN   NaN  NaN           0  \n",
       "2           0.0            1  6.0  0.0  10.0   8.0   3.0  0.0           0  \n",
       "3       41646.0            1  3.0  0.0   4.0  11.0   6.0  0.0           0  \n",
       "4           4.0            1  3.0  0.0   8.0   6.0   4.0  1.0           0  \n",
       "...         ...          ...  ...  ...   ...   ...   ...  ...         ...  \n",
       "749995      0.0            1  6.0  0.0   8.0  22.0  12.0  5.0           0  \n",
       "749996      4.0            1  2.0  0.0   7.0   4.0   4.0  0.0           0  \n",
       "749997      8.0            1  6.0  0.0  10.0  11.0   3.0  0.0           0  \n",
       "749998      0.0            1  7.0  0.0   9.0  11.0   6.0  0.0           0  \n",
       "749999      6.0            1  7.0  0.0   9.0  13.0   6.0  0.0           0  \n",
       "\n",
       "[750000 rows x 42 columns]"
      ]
     },
     "execution_count": 3,
     "metadata": {},
     "output_type": "execute_result"
    }
   ],
   "source": [
    "train_internet"
   ]
  },
  {
   "cell_type": "code",
   "execution_count": 4,
   "id": "edaf81c6",
   "metadata": {},
   "outputs": [],
   "source": [
    "X_train = train_data.copy()\n",
    "X_test = test_public.copy()\n",
    "X_train = X_train.drop(['isDefault'], axis = 1)\n",
    "X_train.shape\n",
    "X_train['is_train'] = 1\n",
    "X_test['is_train'] = 0\n",
    "\n",
    "X_traintest = X_traintest = pd.concat([X_train, X_test], axis = 0)\n",
    "X_traintest.shape\n",
    "X_internet = train_internet.copy()"
   ]
  },
  {
   "cell_type": "markdown",
   "id": "2b084ce6",
   "metadata": {},
   "source": [
    "### 数据探索 "
   ]
  },
  {
   "cell_type": "code",
   "execution_count": 5,
   "id": "202b370c",
   "metadata": {},
   "outputs": [],
   "source": [
    "unimport_fea = ['employer_type', 'industry', 'region', 'policy_code', 'pub_dero_bankrup', 'f1', 'del_in_18month', 'initial_list_status']\n",
    "for cat in unimport_fea:\n",
    "    X_internet = X_internet.drop(cat, axis=1)"
   ]
  },
  {
   "cell_type": "code",
   "execution_count": 6,
   "id": "6d72da31",
   "metadata": {},
   "outputs": [],
   "source": [
    "unimport_fea = ['employer_type', 'industry', 'region', 'policy_code', 'pub_dero_bankrup', 'f1', 'del_in_18month', 'initial_list_status']\n",
    "for cat in unimport_fea:\n",
    "    X_traintest = X_traintest.drop(cat, axis=1)"
   ]
  },
  {
   "cell_type": "markdown",
   "id": "d0a9a63f",
   "metadata": {},
   "source": [
    "### 特征工程 "
   ]
  },
  {
   "cell_type": "markdown",
   "id": "a573ece8",
   "metadata": {},
   "source": [
    "#### work_year, class "
   ]
  },
  {
   "cell_type": "code",
   "execution_count": 7,
   "id": "a7381b48",
   "metadata": {},
   "outputs": [],
   "source": [
    "work_year_dict = {\n",
    "    '< 1 year': 0,\n",
    "    '1 year': 1,\n",
    "    '2 years': 2,\n",
    "    '3 years': 3,\n",
    "    '4 years': 4,\n",
    "    '5 years': 5,\n",
    "    '6 years': 6,\n",
    "    '7 years': 7,\n",
    "    '8 years': 8,\n",
    "    '9 years': 9,\n",
    "    '10+ years': 10,\n",
    "}\n",
    "\n",
    "\n",
    "X_traintest['num_work_year'] = X_traintest['work_year'].map(work_year_dict)\n",
    "X_internet['num_work_year'] = X_internet['work_year'].map(work_year_dict)"
   ]
  },
  {
   "cell_type": "code",
   "execution_count": 8,
   "id": "9a63c580",
   "metadata": {},
   "outputs": [],
   "source": [
    "class_dict = {\n",
    "    'A': 1,\n",
    "    'B': 2,\n",
    "    'C': 3,\n",
    "    'D': 4,\n",
    "    'E': 5,\n",
    "    'F': 6,\n",
    "    'G': 7,\n",
    "}\n",
    "\n",
    "\n",
    "X_traintest['num_class'] = X_traintest['class'].map(class_dict)\n",
    "X_internet['num_class'] = X_internet['class'].map(class_dict)"
   ]
  },
  {
   "cell_type": "markdown",
   "id": "7dee8787",
   "metadata": {},
   "source": [
    "#### issue_date, earlies_credit_mon"
   ]
  },
  {
   "cell_type": "code",
   "execution_count": 9,
   "id": "812ee540",
   "metadata": {},
   "outputs": [],
   "source": [
    "X_traintest['issue_date'] = pd.to_datetime(X_traintest['issue_date'])\n",
    "X_internet['issue_date'] = pd.to_datetime(X_internet['issue_date'])\n",
    "\n",
    "X_traintest['issue_date_delta'] = (X_traintest['issue_date'] - X_traintest['issue_date'].min())  / np.timedelta64(1,'D')\n",
    "X_internet['issue_date_delta'] = (X_internet['issue_date'] - X_internet['issue_date'].min())  / np.timedelta64(1,'D')"
   ]
  },
  {
   "cell_type": "code",
   "execution_count": 10,
   "id": "af9253a0",
   "metadata": {},
   "outputs": [],
   "source": [
    "X_traintest['earlies_credit_mon'] = pd.to_datetime(X_traintest['earlies_credit_mon'])\n",
    "X_internet['earlies_credit_mon'] = pd.to_datetime(X_internet['earlies_credit_mon'])\n",
    "\n",
    "X_traintest['earlies_credit_mon_delta'] = (X_traintest['earlies_credit_mon'] - X_traintest['earlies_credit_mon'].min())  / np.timedelta64(1,'D')\n",
    "X_internet['earlies_credit_mon_delta'] = (X_internet['earlies_credit_mon'] - X_internet['earlies_credit_mon'].min())  / np.timedelta64(1,'D')"
   ]
  },
  {
   "cell_type": "code",
   "execution_count": 11,
   "id": "3ce7788b",
   "metadata": {},
   "outputs": [],
   "source": [
    "X_traintest['issue_earlies_diff'] = (X_traintest['issue_date'] - X_traintest['earlies_credit_mon'])  / np.timedelta64(1,'D')\n",
    "X_internet['issue_earlies_diff'] = (X_internet['issue_date'] - X_internet['earlies_credit_mon'])  / np.timedelta64(1,'D')"
   ]
  },
  {
   "cell_type": "code",
   "execution_count": 12,
   "id": "49127c63",
   "metadata": {},
   "outputs": [],
   "source": [
    "col_to_drop = ['issue_date', 'earlies_credit_mon']\n",
    "X_traintest = X_traintest.drop(col_to_drop, axis=1)\n",
    "X_internet = X_internet.drop(col_to_drop, axis=1)"
   ]
  },
  {
   "cell_type": "markdown",
   "id": "05bd02dd",
   "metadata": {},
   "source": [
    "#### employer_type, industry"
   ]
  },
  {
   "cell_type": "markdown",
   "id": "dadf68d5",
   "metadata": {},
   "source": [
    "#### 交叉特征"
   ]
  },
  {
   "cell_type": "code",
   "execution_count": 13,
   "id": "25cbf7d9",
   "metadata": {},
   "outputs": [],
   "source": [
    "X_traintest['pro'] = X_traintest['interest'].mul(X_traintest['year_of_loan'])\n",
    "X_traintest['loan_year'] = X_traintest['total_loan']/X_traintest['year_of_loan']\n",
    "X_traintest['early_ratio'] = X_traintest['early_return_amount']/X_traintest['total_loan']\n",
    "X_traintest['early_times_ratio'] = X_traintest['early_return']/X_traintest['year_of_loan']\n",
    "X_traintest['recircle_ratio'] = X_traintest['recircle_b']/X_traintest['total_loan']\n",
    "X_traintest['recircle_amt'] = X_traintest['recircle_b'].mul(X_traintest['total_loan'])"
   ]
  },
  {
   "cell_type": "code",
   "execution_count": 14,
   "id": "06233894",
   "metadata": {},
   "outputs": [],
   "source": [
    "X_internet['pro'] = X_internet['interest'].mul(X_internet['year_of_loan'])\n",
    "X_internet['loan_year'] = X_internet['total_loan']/X_internet['year_of_loan']\n",
    "X_internet['early_ratio'] = X_internet['early_return_amount']/X_internet['total_loan']\n",
    "X_internet['early_times_ratio'] = X_internet['early_return']/X_internet['year_of_loan']\n",
    "X_internet['recircle_ratio'] = X_internet['recircle_b']/X_internet['total_loan']\n",
    "X_internet['recircle_amt'] = X_internet['recircle_b'].mul(X_internet['total_loan'])"
   ]
  },
  {
   "cell_type": "code",
   "execution_count": 15,
   "id": "98aaed3c",
   "metadata": {},
   "outputs": [],
   "source": [
    "numerical_fea = list(X_traintest.select_dtypes(exclude=['object']).columns) \n",
    "category_fea = list(filter(lambda x: x not in numerical_fea,list(X_traintest.columns)))\n",
    "# print(\"numerical_fea:\",numerical_fea)\n",
    "# print(\"category_fea:\",category_fea)"
   ]
  },
  {
   "cell_type": "markdown",
   "id": "80b4b82c",
   "metadata": {},
   "source": [
    "### 模型 "
   ]
  },
  {
   "cell_type": "code",
   "execution_count": 16,
   "id": "0bbda40c",
   "metadata": {},
   "outputs": [],
   "source": [
    "from sklearn.model_selection import StratifiedKFold, KFold\n",
    "from sklearn.metrics import roc_auc_score\n",
    "import lightgbm as lgb\n",
    "import catboost"
   ]
  },
  {
   "cell_type": "code",
   "execution_count": 17,
   "id": "ab075847",
   "metadata": {},
   "outputs": [],
   "source": [
    "all_fea = X_traintest.columns"
   ]
  },
  {
   "cell_type": "code",
   "execution_count": 18,
   "id": "cf17d497",
   "metadata": {},
   "outputs": [],
   "source": [
    "X_train = X_traintest[X_traintest.is_train == 1][all_fea]\n",
    "y_train = train_data['isDefault']\n",
    "\n",
    "X_test = X_traintest[X_traintest.is_train == 0][all_fea]\n"
   ]
  },
  {
   "cell_type": "code",
   "execution_count": 19,
   "id": "046fff73",
   "metadata": {},
   "outputs": [],
   "source": [
    "X_train[category_fea] = X_train[category_fea].astype(str)\n",
    "X_test[category_fea] = X_test[category_fea].astype(str)\n",
    "\n",
    "X_train[numerical_fea] = X_train[numerical_fea].astype(float)\n",
    "X_test[numerical_fea] = X_test[numerical_fea].astype(float)"
   ]
  },
  {
   "cell_type": "code",
   "execution_count": 20,
   "id": "f0a9e392",
   "metadata": {},
   "outputs": [
    {
     "name": "stdout",
     "output_type": "stream",
     "text": [
      "Learning rate set to 0.027538\n",
      "0:\tlearn: 0.6614725\ttotal: 192ms\tremaining: 3m 11s\n",
      "400:\tlearn: 0.2446015\ttotal: 13.6s\tremaining: 20.3s\n",
      "800:\tlearn: 0.1977477\ttotal: 27.1s\tremaining: 6.73s\n",
      "999:\tlearn: 0.1783108\ttotal: 33.9s\tremaining: 0us\n"
     ]
    },
    {
     "data": {
      "text/plain": [
       "<catboost.core.CatBoostClassifier at 0x1b8d1bd6b08>"
      ]
     },
     "execution_count": 20,
     "metadata": {},
     "output_type": "execute_result"
    }
   ],
   "source": [
    "model = catboost.CatBoostClassifier(cat_features = category_fea, random_state = 2080)\n",
    "model.fit(X_train, y_train, verbose=400)"
   ]
  },
  {
   "cell_type": "code",
   "execution_count": 21,
   "id": "2c9463b3",
   "metadata": {},
   "outputs": [],
   "source": [
    "y_pred = model.predict_proba(X_test)"
   ]
  },
  {
   "cell_type": "markdown",
   "id": "1ffb83a1",
   "metadata": {},
   "source": [
    "### 模型改进"
   ]
  },
  {
   "cell_type": "code",
   "execution_count": 22,
   "id": "bab9285b",
   "metadata": {},
   "outputs": [],
   "source": [
    "feature_importances = model.get_feature_importance(prettified=True,\n",
    "                                                   thread_count=-1,\n",
    "                                                   verbose=False)"
   ]
  },
  {
   "cell_type": "code",
   "execution_count": 23,
   "id": "534ecfc7",
   "metadata": {},
   "outputs": [
    {
     "data": {
      "text/plain": [
       "{'app_type', 'is_train', 'known_dero', 'known_outstanding_loan'}"
      ]
     },
     "execution_count": 23,
     "metadata": {},
     "output_type": "execute_result"
    }
   ],
   "source": [
    "tr_cols = set(X_traintest.columns)\n",
    "same_col = list(tr_cols.intersection(set(X_internet.columns)))\n",
    "\n",
    "tr_cols.difference(set(same_col))"
   ]
  },
  {
   "cell_type": "code",
   "execution_count": 24,
   "id": "8e93fafa",
   "metadata": {},
   "outputs": [],
   "source": [
    "for i in range(feature_importances['Feature Id'].size):\n",
    "    if (feature_importances['Feature Id'][i] in same_col):\n",
    "        if feature_importances['Importances'][i]>1:\n",
    "            X_traintest[feature_importances['Feature Id'][i]+'_cnt'] = category_encoders.count.CountEncoder().fit_transform(X_traintest[feature_importances['Feature Id'][i]])\n",
    "            X_internet[feature_importances['Feature Id'][i]+'_cnt'] = category_encoders.count.CountEncoder().fit_transform(X_internet[feature_importances['Feature Id'][i]])\n"
   ]
  },
  {
   "cell_type": "code",
   "execution_count": 25,
   "id": "db53fce3",
   "metadata": {},
   "outputs": [],
   "source": [
    "all_fea = X_traintest.columns\n",
    "X_train = X_traintest[X_traintest.is_train == 1][all_fea]\n",
    "X_train = pd.concat([X_train, train_data['isDefault']], axis=1)\n",
    "y_train = train_data['isDefault']\n",
    "\n",
    "X_test = X_traintest[X_traintest.is_train == 0][all_fea]\n",
    "\n",
    "X_train = X_train.drop('is_train', axis=1)\n",
    "X_test = X_test.drop('is_train', axis=1)"
   ]
  },
  {
   "cell_type": "code",
   "execution_count": 26,
   "id": "52eba07d",
   "metadata": {},
   "outputs": [],
   "source": [
    "tr_cols = set(X_train.columns)\n",
    "same_col = list(tr_cols.intersection(set(X_internet.columns)))\n",
    "train_inteSame = X_internet[same_col].copy()\n",
    "\n",
    "Inte_add_cos = list(tr_cols.difference(set(same_col)))\n",
    "for col in Inte_add_cos:\n",
    "    train_inteSame[col] = np.nan\n"
   ]
  },
  {
   "cell_type": "code",
   "execution_count": 31,
   "id": "a07e60e8",
   "metadata": {},
   "outputs": [],
   "source": [
    "numerical_fea = list(X_train.select_dtypes(exclude=['object']).columns) \n",
    "category_fea = list(filter(lambda x: x not in numerical_fea,list(X_train.columns)))\n",
    "\n",
    "\n",
    "X_train[category_fea] = X_train[category_fea].astype(str)\n",
    "train_inteSame[category_fea] = train_inteSame[category_fea].astype(str)\n",
    "\n",
    "X_train[numerical_fea] = X_train[numerical_fea].astype(float)\n",
    "train_inteSame[numerical_fea] = train_inteSame[numerical_fea].astype(float)"
   ]
  },
  {
   "cell_type": "markdown",
   "id": "71857b8b",
   "metadata": {},
   "source": [
    "# Catboost"
   ]
  },
  {
   "cell_type": "code",
   "execution_count": 37,
   "id": "b2f92803",
   "metadata": {},
   "outputs": [],
   "source": [
    "def train_model(data_, test_, y_, folds_):\n",
    "    oof_preds = np.zeros(data_.shape[0])\n",
    "    sub_preds = np.zeros(test_.shape[0])\n",
    "    feature_importance_df = pd.DataFrame()\n",
    "    feats = [f for f in data_.columns if f not in ['loan_id', 'user_id', 'isDefault'] ]\n",
    "    for n_fold, (trn_idx, val_idx) in enumerate(folds_.split(data_)):\n",
    "        trn_x, trn_y = data_[feats].iloc[trn_idx], y_.iloc[trn_idx]\n",
    "        val_x, val_y = data_[feats].iloc[val_idx], y_.iloc[val_idx]\n",
    "        clf = catboost.CatBoostClassifier(cat_features = category_fea, random_state = 2080)\n",
    "        \n",
    "        clf.fit(trn_x, trn_y, \n",
    "                eval_set= [(trn_x, trn_y), (val_x, val_y)], \n",
    "                verbose=400 #30\n",
    "               )\n",
    "\n",
    "        oof_preds[val_idx] = clf.predict_proba(val_x)[:, 1]\n",
    "        sub_preds += clf.predict_proba(test_[feats])[:, 1] / folds_.n_splits\n",
    "        \n",
    "        fold_importance_df = pd.DataFrame()\n",
    "        fold_importance_df[\"feature\"] = feats\n",
    "        fold_importance_df[\"importance\"] = clf.feature_importances_\n",
    "        fold_importance_df[\"fold\"] = n_fold + 1\n",
    "        feature_importance_df = pd.concat([feature_importance_df, fold_importance_df], axis=0)\n",
    "        \n",
    "        print('Fold %2d AUC : %.6f' % (n_fold + 1, roc_auc_score(val_y, oof_preds[val_idx])))\n",
    "        del clf, trn_x, trn_y, val_x, val_y\n",
    "        gc.collect()\n",
    "        \n",
    "    print('Full AUC score %.6f' % roc_auc_score(y_, oof_preds)) \n",
    "    \n",
    "    test_['isDefault'] = sub_preds\n",
    "\n",
    "    return oof_preds, test_[['loan_id', 'isDefault']], feature_importance_df"
   ]
  },
  {
   "cell_type": "code",
   "execution_count": null,
   "id": "17e89f4d",
   "metadata": {},
   "outputs": [],
   "source": []
  },
  {
   "cell_type": "code",
   "execution_count": 38,
   "id": "8b8db6cc",
   "metadata": {},
   "outputs": [
    {
     "name": "stderr",
     "output_type": "stream",
     "text": [
      "Custom logger is already specified. Specify more than one logger at same time is not thread safe."
     ]
    },
    {
     "name": "stdout",
     "output_type": "stream",
     "text": [
      "Learning rate set to 0.052963\n",
      "0:\tlearn: 0.6338357\ttest: 0.6338357\ttest1: 0.6327587\tbest: 0.6327587 (0)\ttotal: 27.3ms\tremaining: 27.3s\n",
      "400:\tlearn: 0.1865638\ttest: 0.1887474\ttest1: 0.2963911\tbest: 0.2924656 (108)\ttotal: 12.9s\tremaining: 19.3s\n",
      "800:\tlearn: 0.1186606\ttest: 0.1213455\ttest1: 0.3102930\tbest: 0.2924656 (108)\ttotal: 25.9s\tremaining: 6.45s\n",
      "999:\tlearn: 0.0956707\ttest: 0.0985308\ttest1: 0.3164038\tbest: 0.2924656 (108)\ttotal: 32.4s\tremaining: 0us\n",
      "\n",
      "bestTest = 0.2924655828\n",
      "bestIteration = 108\n",
      "\n",
      "Shrink model to first 109 iterations.\n",
      "Fold  1 AUC : 0.890302\n",
      "Learning rate set to 0.052963\n",
      "0:\tlearn: 0.6331101\ttest: 0.6331101\ttest1: 0.6321068\tbest: 0.6321068 (0)\ttotal: 38.3ms\tremaining: 38.3s\n",
      "400:\tlearn: 0.1925919\ttest: 0.1951459\ttest1: 0.2898737\tbest: 0.2856457 (166)\ttotal: 12.9s\tremaining: 19.2s\n",
      "800:\tlearn: 0.1218478\ttest: 0.1247251\ttest1: 0.2987193\tbest: 0.2856457 (166)\ttotal: 26s\tremaining: 6.46s\n",
      "999:\tlearn: 0.1000282\ttest: 0.1031084\ttest1: 0.3044819\tbest: 0.2856457 (166)\ttotal: 32.6s\tremaining: 0us\n",
      "\n",
      "bestTest = 0.2856456671\n",
      "bestIteration = 166\n",
      "\n",
      "Shrink model to first 167 iterations.\n",
      "Fold  2 AUC : 0.891843\n",
      "Learning rate set to 0.052963\n",
      "0:\tlearn: 0.6338613\ttest: 0.6338613\ttest1: 0.6355596\tbest: 0.6355596 (0)\ttotal: 32.2ms\tremaining: 32.2s\n",
      "400:\tlearn: 0.1806384\ttest: 0.1824466\ttest1: 0.3144410\tbest: 0.3113906 (182)\ttotal: 12.9s\tremaining: 19.3s\n",
      "800:\tlearn: 0.1137981\ttest: 0.1159735\ttest1: 0.3284254\tbest: 0.3113906 (182)\ttotal: 25.7s\tremaining: 6.38s\n",
      "999:\tlearn: 0.0911882\ttest: 0.0933754\ttest1: 0.3360908\tbest: 0.3113906 (182)\ttotal: 32.1s\tremaining: 0us\n",
      "\n",
      "bestTest = 0.311390648\n",
      "bestIteration = 182\n",
      "\n",
      "Shrink model to first 183 iterations.\n",
      "Fold  3 AUC : 0.874790\n",
      "Learning rate set to 0.052963\n",
      "0:\tlearn: 0.6314824\ttest: 0.6314824\ttest1: 0.6336693\tbest: 0.6336693 (0)\ttotal: 30.7ms\tremaining: 30.6s\n",
      "400:\tlearn: 0.1845707\ttest: 0.1866298\ttest1: 0.3224343\tbest: 0.3163860 (125)\ttotal: 12.5s\tremaining: 18.7s\n",
      "800:\tlearn: 0.1204596\ttest: 0.1231573\ttest1: 0.3346083\tbest: 0.3163860 (125)\ttotal: 25.3s\tremaining: 6.29s\n",
      "999:\tlearn: 0.0991590\ttest: 0.1019085\ttest1: 0.3407675\tbest: 0.3163860 (125)\ttotal: 31.5s\tremaining: 0us\n",
      "\n",
      "bestTest = 0.3163859643\n",
      "bestIteration = 125\n",
      "\n",
      "Shrink model to first 126 iterations.\n",
      "Fold  4 AUC : 0.869701\n",
      "Learning rate set to 0.052963\n",
      "0:\tlearn: 0.6323690\ttest: 0.6323690\ttest1: 0.6320036\tbest: 0.6320036 (0)\ttotal: 31.8ms\tremaining: 31.8s\n",
      "400:\tlearn: 0.1916075\ttest: 0.1953341\ttest1: 0.3056650\tbest: 0.2993133 (125)\ttotal: 12.4s\tremaining: 18.6s\n",
      "800:\tlearn: 0.1233799\ttest: 0.1275117\ttest1: 0.3196492\tbest: 0.2993133 (125)\ttotal: 25.3s\tremaining: 6.28s\n",
      "999:\tlearn: 0.1023220\ttest: 0.1066471\ttest1: 0.3268851\tbest: 0.2993133 (125)\ttotal: 31.6s\tremaining: 0us\n",
      "\n",
      "bestTest = 0.2993132986\n",
      "bestIteration = 125\n",
      "\n",
      "Shrink model to first 126 iterations.\n",
      "Fold  5 AUC : 0.880030\n",
      "Full AUC score 0.880734\n"
     ]
    }
   ],
   "source": [
    "folds = KFold(n_splits=5, shuffle=True, random_state=546789)\n",
    "oof_preds, IntePre, importances = train_model(X_train, train_inteSame, y_train, folds)"
   ]
  },
  {
   "cell_type": "code",
   "execution_count": 39,
   "id": "32a37cd4",
   "metadata": {},
   "outputs": [
    {
     "name": "stderr",
     "output_type": "stream",
     "text": [
      "E:\\anaconda3\\envs\\pytorch\\lib\\site-packages\\ipykernel_launcher.py:1: SettingWithCopyWarning: \n",
      "A value is trying to be set on a copy of a slice from a DataFrame.\n",
      "Try using .loc[row_indexer,col_indexer] = value instead\n",
      "\n",
      "See the caveats in the documentation: https://pandas.pydata.org/pandas-docs/stable/user_guide/indexing.html#returning-a-view-versus-a-copy\n",
      "  \"\"\"Entry point for launching an IPython kernel.\n"
     ]
    },
    {
     "data": {
      "text/plain": [
       "0.7360700788370926"
      ]
     },
     "execution_count": 39,
     "metadata": {},
     "output_type": "execute_result"
    }
   ],
   "source": [
    "IntePre['isDef'] = train_internet['is_default']\n",
    "from sklearn.metrics import roc_auc_score\n",
    "roc_auc_score(IntePre['isDef'],IntePre.isDefault)"
   ]
  },
  {
   "cell_type": "code",
   "execution_count": 40,
   "id": "1c9fa9df",
   "metadata": {},
   "outputs": [],
   "source": [
    "InteId = IntePre.loc[IntePre.isDefault<0.02, 'loan_id'].tolist()\n",
    "\n",
    "X_train['dataSourse'] = 1\n",
    "X_test['dataSourse'] = 1\n",
    "train_inteSame['dataSourse'] = 0\n",
    "train_inteSame['isDefault'] = X_internet['is_default']\n",
    "use_te = train_inteSame[train_inteSame.loan_id.isin( InteId )].copy()\n",
    "data = pd.concat([ X_train,X_test,use_te]).reset_index(drop=True)\n"
   ]
  },
  {
   "cell_type": "code",
   "execution_count": 43,
   "id": "4efa217b",
   "metadata": {},
   "outputs": [],
   "source": [
    "data[category_fea] = data[category_fea].astype(str)\n",
    "\n",
    "data[numerical_fea] = data[numerical_fea].astype(float)"
   ]
  },
  {
   "cell_type": "code",
   "execution_count": 44,
   "id": "c227aa11",
   "metadata": {},
   "outputs": [
    {
     "name": "stdout",
     "output_type": "stream",
     "text": [
      "Learning rate set to 0.079919\n",
      "0:\tlearn: 0.4506042\ttest: 0.4506042\ttest1: 0.4523849\tbest: 0.4523849 (0)\ttotal: 48.6ms\tremaining: 48.6s\n",
      "400:\tlearn: 0.0282142\ttest: 0.0282898\ttest1: 0.0624382\tbest: 0.0606249 (156)\ttotal: 19.5s\tremaining: 29.1s\n",
      "800:\tlearn: 0.0162371\ttest: 0.0163152\ttest1: 0.0663947\tbest: 0.0606249 (156)\ttotal: 39.5s\tremaining: 9.81s\n",
      "999:\tlearn: 0.0128734\ttest: 0.0129861\ttest1: 0.0684654\tbest: 0.0606249 (156)\ttotal: 49.1s\tremaining: 0us\n",
      "\n",
      "bestTest = 0.06062494006\n",
      "bestIteration = 156\n",
      "\n",
      "Shrink model to first 157 iterations.\n",
      "Fold  1 AUC : 0.980475\n",
      "Learning rate set to 0.079919\n",
      "0:\tlearn: 0.4508676\ttest: 0.4508676\ttest1: 0.4490791\tbest: 0.4490791 (0)\ttotal: 53.9ms\tremaining: 53.9s\n",
      "400:\tlearn: 0.0301825\ttest: 0.0302788\ttest1: 0.0546603\tbest: 0.0516891 (94)\ttotal: 19.1s\tremaining: 28.5s\n",
      "800:\tlearn: 0.0172624\ttest: 0.0173851\ttest1: 0.0588260\tbest: 0.0516891 (94)\ttotal: 38.2s\tremaining: 9.48s\n",
      "999:\tlearn: 0.0135572\ttest: 0.0136743\ttest1: 0.0604848\tbest: 0.0516891 (94)\ttotal: 47.7s\tremaining: 0us\n",
      "\n",
      "bestTest = 0.05168906214\n",
      "bestIteration = 94\n",
      "\n",
      "Shrink model to first 95 iterations.\n",
      "Fold  2 AUC : 0.982873\n",
      "Learning rate set to 0.079919\n",
      "0:\tlearn: 0.4504215\ttest: 0.4504215\ttest1: 0.4499546\tbest: 0.4499546 (0)\ttotal: 46.7ms\tremaining: 46.7s\n",
      "400:\tlearn: 0.0291168\ttest: 0.0291977\ttest1: 0.0554968\tbest: 0.0535071 (162)\ttotal: 19.5s\tremaining: 29.1s\n",
      "800:\tlearn: 0.0162772\ttest: 0.0164402\ttest1: 0.0590686\tbest: 0.0535071 (162)\ttotal: 38.4s\tremaining: 9.53s\n",
      "999:\tlearn: 0.0125545\ttest: 0.0127010\ttest1: 0.0607628\tbest: 0.0535071 (162)\ttotal: 47.8s\tremaining: 0us\n",
      "\n",
      "bestTest = 0.05350714946\n",
      "bestIteration = 162\n",
      "\n",
      "Shrink model to first 163 iterations.\n",
      "Fold  3 AUC : 0.982789\n",
      "Learning rate set to 0.07992\n",
      "0:\tlearn: 0.4600069\ttest: 0.4600069\ttest1: 0.4593783\tbest: 0.4593783 (0)\ttotal: 58.4ms\tremaining: 58.4s\n",
      "400:\tlearn: 0.0294321\ttest: 0.0295358\ttest1: 0.0584770\tbest: 0.0555971 (76)\ttotal: 19.1s\tremaining: 28.6s\n",
      "800:\tlearn: 0.0169832\ttest: 0.0171175\ttest1: 0.0620121\tbest: 0.0555971 (76)\ttotal: 38s\tremaining: 9.44s\n",
      "999:\tlearn: 0.0132833\ttest: 0.0134163\ttest1: 0.0640968\tbest: 0.0555971 (76)\ttotal: 47.4s\tremaining: 0us\n",
      "\n",
      "bestTest = 0.05559713336\n",
      "bestIteration = 76\n",
      "\n",
      "Shrink model to first 77 iterations.\n",
      "Fold  4 AUC : 0.979129\n",
      "Learning rate set to 0.07992\n",
      "0:\tlearn: 0.4593773\ttest: 0.4593773\ttest1: 0.4590612\tbest: 0.4590612 (0)\ttotal: 53.8ms\tremaining: 53.7s\n",
      "400:\tlearn: 0.0275733\ttest: 0.0276008\ttest1: 0.0651829\tbest: 0.0614231 (95)\ttotal: 19.2s\tremaining: 28.6s\n",
      "800:\tlearn: 0.0159129\ttest: 0.0160384\ttest1: 0.0714546\tbest: 0.0614231 (95)\ttotal: 38.6s\tremaining: 9.59s\n",
      "999:\tlearn: 0.0122014\ttest: 0.0123325\ttest1: 0.0745757\tbest: 0.0614231 (95)\ttotal: 48.2s\tremaining: 0us\n",
      "\n",
      "bestTest = 0.0614231378\n",
      "bestIteration = 95\n",
      "\n",
      "Shrink model to first 96 iterations.\n",
      "Fold  5 AUC : 0.981231\n",
      "Full AUC score 0.981053\n"
     ]
    },
    {
     "name": "stderr",
     "output_type": "stream",
     "text": [
      "E:\\anaconda3\\envs\\pytorch\\lib\\site-packages\\ipykernel_launcher.py:31: SettingWithCopyWarning: \n",
      "A value is trying to be set on a copy of a slice from a DataFrame.\n",
      "Try using .loc[row_indexer,col_indexer] = value instead\n",
      "\n",
      "See the caveats in the documentation: https://pandas.pydata.org/pandas-docs/stable/user_guide/indexing.html#returning-a-view-versus-a-copy\n"
     ]
    }
   ],
   "source": [
    "train = data[data['isDefault'].notna()]\n",
    "test  = data[data['isDefault'].isna()]\n",
    "\n",
    "\n",
    "\n",
    "\n",
    "y = train['isDefault']\n",
    "folds = KFold(n_splits=5, shuffle=True, random_state=546789)\n",
    "oof_preds, test_preds, importances = train_model(train, test, y, folds)"
   ]
  },
  {
   "cell_type": "code",
   "execution_count": 45,
   "id": "809b0e29",
   "metadata": {},
   "outputs": [],
   "source": [
    "test_preds.rename({'loan_id': 'id'}, axis=1)[['id', 'isDefault']].to_csv('./submit/test_newcb.csv', index=False)"
   ]
  },
  {
   "cell_type": "code",
   "execution_count": 46,
   "id": "3b778afd",
   "metadata": {},
   "outputs": [
    {
     "data": {
      "text/html": [
       "<div>\n",
       "<style scoped>\n",
       "    .dataframe tbody tr th:only-of-type {\n",
       "        vertical-align: middle;\n",
       "    }\n",
       "\n",
       "    .dataframe tbody tr th {\n",
       "        vertical-align: top;\n",
       "    }\n",
       "\n",
       "    .dataframe thead th {\n",
       "        text-align: right;\n",
       "    }\n",
       "</style>\n",
       "<table border=\"1\" class=\"dataframe\">\n",
       "  <thead>\n",
       "    <tr style=\"text-align: right;\">\n",
       "      <th></th>\n",
       "      <th>loan_id</th>\n",
       "      <th>isDefault</th>\n",
       "    </tr>\n",
       "  </thead>\n",
       "  <tbody>\n",
       "    <tr>\n",
       "      <th>10000</th>\n",
       "      <td>1000575.0</td>\n",
       "      <td>0.010308</td>\n",
       "    </tr>\n",
       "    <tr>\n",
       "      <th>10001</th>\n",
       "      <td>1028125.0</td>\n",
       "      <td>0.050407</td>\n",
       "    </tr>\n",
       "    <tr>\n",
       "      <th>10002</th>\n",
       "      <td>1010694.0</td>\n",
       "      <td>0.002965</td>\n",
       "    </tr>\n",
       "    <tr>\n",
       "      <th>10003</th>\n",
       "      <td>1026712.0</td>\n",
       "      <td>0.003053</td>\n",
       "    </tr>\n",
       "    <tr>\n",
       "      <th>10004</th>\n",
       "      <td>1002895.0</td>\n",
       "      <td>0.012306</td>\n",
       "    </tr>\n",
       "    <tr>\n",
       "      <th>...</th>\n",
       "      <td>...</td>\n",
       "      <td>...</td>\n",
       "    </tr>\n",
       "    <tr>\n",
       "      <th>14995</th>\n",
       "      <td>1008856.0</td>\n",
       "      <td>0.394115</td>\n",
       "    </tr>\n",
       "    <tr>\n",
       "      <th>14996</th>\n",
       "      <td>1016651.0</td>\n",
       "      <td>0.010804</td>\n",
       "    </tr>\n",
       "    <tr>\n",
       "      <th>14997</th>\n",
       "      <td>1024140.0</td>\n",
       "      <td>0.003538</td>\n",
       "    </tr>\n",
       "    <tr>\n",
       "      <th>14998</th>\n",
       "      <td>1014316.0</td>\n",
       "      <td>0.008202</td>\n",
       "    </tr>\n",
       "    <tr>\n",
       "      <th>14999</th>\n",
       "      <td>1012946.0</td>\n",
       "      <td>0.003208</td>\n",
       "    </tr>\n",
       "  </tbody>\n",
       "</table>\n",
       "<p>5000 rows × 2 columns</p>\n",
       "</div>"
      ],
      "text/plain": [
       "         loan_id  isDefault\n",
       "10000  1000575.0   0.010308\n",
       "10001  1028125.0   0.050407\n",
       "10002  1010694.0   0.002965\n",
       "10003  1026712.0   0.003053\n",
       "10004  1002895.0   0.012306\n",
       "...          ...        ...\n",
       "14995  1008856.0   0.394115\n",
       "14996  1016651.0   0.010804\n",
       "14997  1024140.0   0.003538\n",
       "14998  1014316.0   0.008202\n",
       "14999  1012946.0   0.003208\n",
       "\n",
       "[5000 rows x 2 columns]"
      ]
     },
     "execution_count": 46,
     "metadata": {},
     "output_type": "execute_result"
    }
   ],
   "source": [
    "test_preds\n"
   ]
  },
  {
   "cell_type": "code",
   "execution_count": null,
   "id": "3f8b4159",
   "metadata": {},
   "outputs": [],
   "source": []
  }
 ],
 "metadata": {
  "kernelspec": {
   "display_name": "Python 3 (ipykernel)",
   "language": "python",
   "name": "python3"
  },
  "language_info": {
   "codemirror_mode": {
    "name": "ipython",
    "version": 3
   },
   "file_extension": ".py",
   "mimetype": "text/x-python",
   "name": "python",
   "nbconvert_exporter": "python",
   "pygments_lexer": "ipython3",
   "version": "3.7.10"
  }
 },
 "nbformat": 4,
 "nbformat_minor": 5
}
