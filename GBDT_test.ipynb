{
 "cells": [
  {
   "cell_type": "code",
   "execution_count": 1,
   "id": "4b126c9b",
   "metadata": {},
   "outputs": [],
   "source": [
    "import matplotlib.pyplot as plt\n",
    "import seaborn as sns\n",
    "import gc\n",
    "import pandas as pd\n",
    "import lightgbm as lgb\n",
    "import numpy as np\n",
    "from sklearn.metrics import roc_auc_score, precision_recall_curve, roc_curve, average_precision_score\n",
    "from sklearn.model_selection import KFold\n",
    "from lightgbm import LGBMClassifier\n",
    "import matplotlib.pyplot as plt\n",
    "import seaborn as sns\n",
    "import gc\n",
    "from sklearn.model_selection import StratifiedKFold"
   ]
  },
  {
   "cell_type": "code",
   "execution_count": 2,
   "id": "6a7d52e6",
   "metadata": {},
   "outputs": [],
   "source": [
    "train_data = pd.read_csv('./train_dataset/train_public.csv')\n",
    "test_public = pd.read_csv('./test_public.csv')\n",
    "train_internet = pd.read_csv('./train_dataset/train_internet.csv', encoding='gb2312')"
   ]
  },
  {
   "cell_type": "code",
   "execution_count": 3,
   "id": "46a603f5",
   "metadata": {},
   "outputs": [
    {
     "name": "stdout",
     "output_type": "stream",
     "text": [
      "<class 'pandas.core.frame.DataFrame'>\n",
      "RangeIndex: 750000 entries, 0 to 749999\n",
      "Data columns (total 42 columns):\n",
      " #   Column                    Non-Null Count   Dtype  \n",
      "---  ------                    --------------   -----  \n",
      " 0   loan_id                   750000 non-null  int64  \n",
      " 1   user_id                   750000 non-null  int64  \n",
      " 2   total_loan                750000 non-null  int64  \n",
      " 3   year_of_loan              750000 non-null  int64  \n",
      " 4   interest                  750000 non-null  float64\n",
      " 5   monthly_payment           750000 non-null  float64\n",
      " 6   class                     750000 non-null  object \n",
      " 7   sub_class                 750000 non-null  object \n",
      " 8   work_type                 750000 non-null  object \n",
      " 9   employer_type             750000 non-null  object \n",
      " 10  industry                  750000 non-null  object \n",
      " 11  work_year                 706153 non-null  object \n",
      " 12  house_exist               750000 non-null  int64  \n",
      " 13  house_loan_status         750000 non-null  int64  \n",
      " 14  censor_status             750000 non-null  int64  \n",
      " 15  marriage                  750000 non-null  int64  \n",
      " 16  offsprings                750000 non-null  int64  \n",
      " 17  issue_date                750000 non-null  object \n",
      " 18  use                       750000 non-null  int64  \n",
      " 19  post_code                 749999 non-null  float64\n",
      " 20  region                    750000 non-null  int64  \n",
      " 21  debt_loan_ratio           749770 non-null  float64\n",
      " 22  del_in_18month            750000 non-null  int64  \n",
      " 23  scoring_low               750000 non-null  int64  \n",
      " 24  scoring_high              750000 non-null  int64  \n",
      " 25  pub_dero_bankrup          749625 non-null  float64\n",
      " 26  early_return              750000 non-null  int64  \n",
      " 27  early_return_amount       750000 non-null  int64  \n",
      " 28  early_return_amount_3mon  750000 non-null  float64\n",
      " 29  recircle_b                750000 non-null  int64  \n",
      " 30  recircle_u                749511 non-null  float64\n",
      " 31  initial_list_status       750000 non-null  int64  \n",
      " 32  earlies_credit_mon        750000 non-null  object \n",
      " 33  title                     749999 non-null  float64\n",
      " 34  policy_code               750000 non-null  int64  \n",
      " 35  f0                        712202 non-null  float64\n",
      " 36  f1                        684589 non-null  float64\n",
      " 37  f2                        712202 non-null  float64\n",
      " 38  f3                        712201 non-null  float64\n",
      " 39  f4                        712202 non-null  float64\n",
      " 40  f5                        712202 non-null  float64\n",
      " 41  is_default                750000 non-null  int64  \n",
      "dtypes: float64(14), int64(20), object(8)\n",
      "memory usage: 240.3+ MB\n"
     ]
    }
   ],
   "source": [
    "train_internet.info()"
   ]
  },
  {
   "cell_type": "markdown",
   "id": "d0a9a63f",
   "metadata": {},
   "source": [
    "### 特征工程 "
   ]
  },
  {
   "cell_type": "markdown",
   "id": "a573ece8",
   "metadata": {},
   "source": [
    "#### work_year, class "
   ]
  },
  {
   "cell_type": "code",
   "execution_count": 4,
   "id": "a7381b48",
   "metadata": {},
   "outputs": [],
   "source": [
    "work_year_dict = {\n",
    "    '< 1 year': 0,\n",
    "    '1 year': 1,\n",
    "    '2 years': 2,\n",
    "    '3 years': 3,\n",
    "    '4 years': 4,\n",
    "    '5 years': 5,\n",
    "    '6 years': 6,\n",
    "    '7 years': 7,\n",
    "    '8 years': 8,\n",
    "    '9 years': 9,\n",
    "    '10+ years': 10,\n",
    "}\n",
    "\n",
    "train_data['work_year'] = train_data['work_year'].map(work_year_dict)\n",
    "test_public['work_year'] = test_public['work_year'].map(work_year_dict)\n",
    "train_data['work_year'] = train_data['work_year'].fillna(-1)\n",
    "test_public['work_year'] = test_public['work_year'].fillna(-1)\n",
    "train_internet['work_year'] = train_internet['work_year'].map(work_year_dict)\n",
    "train_internet['work_year'] = train_internet['work_year'].fillna(-1)"
   ]
  },
  {
   "cell_type": "code",
   "execution_count": 5,
   "id": "9a63c580",
   "metadata": {},
   "outputs": [],
   "source": [
    "class_dict = {\n",
    "    'A': 1,\n",
    "    'B': 2,\n",
    "    'C': 3,\n",
    "    'D': 4,\n",
    "    'E': 5,\n",
    "    'F': 6,\n",
    "    'G': 7,\n",
    "}\n",
    "\n",
    "train_data['class'] = train_data['class'].map(class_dict)\n",
    "test_public['class'] = test_public['class'].map(class_dict)\n",
    "train_internet['class'] = train_internet['class'].map(class_dict)"
   ]
  },
  {
   "cell_type": "markdown",
   "id": "7dee8787",
   "metadata": {},
   "source": [
    "#### issue_date, earlies_credit_mon"
   ]
  },
  {
   "cell_type": "code",
   "execution_count": 6,
   "id": "812ee540",
   "metadata": {},
   "outputs": [],
   "source": [
    "train_data['issue_date'] = pd.to_datetime(train_data['issue_date'])\n",
    "test_public['issue_date'] = pd.to_datetime(test_public['issue_date'])\n",
    "train_internet['issue_date'] = pd.to_datetime(train_internet['issue_date'])\n",
    "\n",
    "train_data['issue_date_month'] = train_data['issue_date'].dt.month\n",
    "test_public['issue_date_month'] = train_data['issue_date'].dt.month\n",
    "train_internet['issue_date_month'] = train_internet['issue_date'].dt.month\n",
    "\n",
    "train_data['issue_date_dayofweek'] = train_data['issue_date'].dt.dayofweek\n",
    "test_public['issue_date_dayofweek'] = train_data['issue_date'].dt.dayofweek\n",
    "train_internet['issue_date_dayofweek'] = train_internet['issue_date'].dt.dayofweek\n"
   ]
  },
  {
   "cell_type": "code",
   "execution_count": 7,
   "id": "af9253a0",
   "metadata": {},
   "outputs": [],
   "source": [
    "for data in [train_data, test_public, train_internet]: \n",
    "    data['earlies_credit_mon'] = pd.to_datetime(data['earlies_credit_mon'],format='%Y-%m-%d',errors='coerce')\n",
    "    "
   ]
  },
  {
   "cell_type": "code",
   "execution_count": 8,
   "id": "0e26f75a",
   "metadata": {},
   "outputs": [],
   "source": [
    "train_data['earlies_credit_mon'] = pd.to_datetime(train_data['earlies_credit_mon'])\n",
    "train_data['earlies_credit_Mon'] = train_data['earlies_credit_mon'].dt.month\n",
    "train_data['earlies_credit_Year'] = train_data['earlies_credit_mon'].dt.year"
   ]
  },
  {
   "cell_type": "code",
   "execution_count": 9,
   "id": "61a81413",
   "metadata": {},
   "outputs": [
    {
     "data": {
      "text/plain": [
       "0       12\n",
       "1        4\n",
       "2       10\n",
       "3        6\n",
       "4        5\n",
       "        ..\n",
       "9995     2\n",
       "9996     5\n",
       "9997     2\n",
       "9998    10\n",
       "9999     2\n",
       "Name: earlies_credit_Mon, Length: 10000, dtype: int64"
      ]
     },
     "execution_count": 9,
     "metadata": {},
     "output_type": "execute_result"
    }
   ],
   "source": [
    "train_data['earlies_credit_Mon']"
   ]
  },
  {
   "cell_type": "code",
   "execution_count": 10,
   "id": "cf186667",
   "metadata": {},
   "outputs": [],
   "source": [
    "test_public['earlies_credit_mon'] = pd.to_datetime(test_public['earlies_credit_mon'])\n",
    "test_public['earlies_credit_Mon'] = test_public['earlies_credit_mon'].dt.month\n",
    "test_public['earlies_credit_Year'] = test_public['earlies_credit_mon'].dt.year\n",
    "\n",
    "train_internet['earlies_credit_mon'] = pd.to_datetime(train_internet['earlies_credit_mon'])\n",
    "train_internet['earlies_credit_Mon'] = train_internet['earlies_credit_mon'].dt.month\n",
    "train_internet['earlies_credit_Year'] = train_internet['earlies_credit_mon'].dt.year"
   ]
  },
  {
   "cell_type": "code",
   "execution_count": 11,
   "id": "7b0837d4",
   "metadata": {},
   "outputs": [],
   "source": [
    "col_to_drop = ['issue_date', 'earlies_credit_mon', 'issue_date_month', 'earlies_credit_Mon','earlies_credit_Year']\n",
    "train_data = train_data.drop(col_to_drop, axis=1)\n",
    "test_public = test_public.drop(col_to_drop, axis=1)\n",
    "train_internet = train_internet.drop(col_to_drop, axis=1 )"
   ]
  },
  {
   "cell_type": "markdown",
   "id": "05bd02dd",
   "metadata": {},
   "source": [
    "#### employer_type, industry"
   ]
  },
  {
   "cell_type": "code",
   "execution_count": 12,
   "id": "1f628d09",
   "metadata": {},
   "outputs": [],
   "source": [
    "from sklearn.preprocessing import LabelEncoder\n",
    "\n",
    "cat_cols = ['employer_type', 'industry']\n",
    "for col in cat_cols:\n",
    "    lbl = LabelEncoder().fit(train_data[col])\n",
    "    train_data[col] = lbl.transform(train_data[col])\n",
    "    test_public[col] = lbl.transform(test_public[col])\n",
    "    train_internet[col] = lbl.transform(train_internet[col])"
   ]
  },
  {
   "cell_type": "code",
   "execution_count": 13,
   "id": "8666ecb0",
   "metadata": {
    "scrolled": true
   },
   "outputs": [
    {
     "data": {
      "text/plain": [
       "0       13\n",
       "1       13\n",
       "2        3\n",
       "3       10\n",
       "4        2\n",
       "        ..\n",
       "9995     7\n",
       "9996     4\n",
       "9997     2\n",
       "9998     4\n",
       "9999     2\n",
       "Name: industry, Length: 10000, dtype: int32"
      ]
     },
     "execution_count": 13,
     "metadata": {},
     "output_type": "execute_result"
    }
   ],
   "source": [
    "train_data['industry']"
   ]
  },
  {
   "cell_type": "markdown",
   "id": "dadf68d5",
   "metadata": {},
   "source": [
    "#### Internet表补充 "
   ]
  },
  {
   "cell_type": "code",
   "execution_count": 14,
   "id": "0f216661",
   "metadata": {},
   "outputs": [],
   "source": [
    "tr_cols = set(train_data.columns)\n",
    "same_col = list(tr_cols.intersection(set(train_internet.columns)))\n",
    "train_inteSame = train_internet[same_col].copy()\n",
    "\n",
    "Inte_add_cos = list(tr_cols.difference(set(same_col)))\n",
    "for col in Inte_add_cos:\n",
    "    train_inteSame[col] = np.nan"
   ]
  },
  {
   "cell_type": "code",
   "execution_count": 15,
   "id": "9496c257",
   "metadata": {},
   "outputs": [
    {
     "name": "stdout",
     "output_type": "stream",
     "text": [
      "<class 'pandas.core.frame.DataFrame'>\n",
      "RangeIndex: 750000 entries, 0 to 749999\n",
      "Data columns (total 38 columns):\n",
      " #   Column                    Non-Null Count   Dtype  \n",
      "---  ------                    --------------   -----  \n",
      " 0   f0                        712202 non-null  float64\n",
      " 1   debt_loan_ratio           749770 non-null  float64\n",
      " 2   house_exist               750000 non-null  int64  \n",
      " 3   recircle_b                750000 non-null  int64  \n",
      " 4   use                       750000 non-null  int64  \n",
      " 5   monthly_payment           750000 non-null  float64\n",
      " 6   pub_dero_bankrup          749625 non-null  float64\n",
      " 7   interest                  750000 non-null  float64\n",
      " 8   title                     749999 non-null  float64\n",
      " 9   early_return              750000 non-null  int64  \n",
      " 10  year_of_loan              750000 non-null  int64  \n",
      " 11  scoring_low               750000 non-null  int64  \n",
      " 12  user_id                   750000 non-null  int64  \n",
      " 13  post_code                 749999 non-null  float64\n",
      " 14  work_year                 750000 non-null  float64\n",
      " 15  f1                        684589 non-null  float64\n",
      " 16  region                    750000 non-null  int64  \n",
      " 17  initial_list_status       750000 non-null  int64  \n",
      " 18  class                     750000 non-null  int64  \n",
      " 19  censor_status             750000 non-null  int64  \n",
      " 20  f4                        712202 non-null  float64\n",
      " 21  issue_date_dayofweek      750000 non-null  int64  \n",
      " 22  total_loan                750000 non-null  int64  \n",
      " 23  scoring_high              750000 non-null  int64  \n",
      " 24  early_return_amount_3mon  750000 non-null  float64\n",
      " 25  f2                        712202 non-null  float64\n",
      " 26  early_return_amount       750000 non-null  int64  \n",
      " 27  industry                  750000 non-null  int32  \n",
      " 28  f3                        712201 non-null  float64\n",
      " 29  loan_id                   750000 non-null  int64  \n",
      " 30  policy_code               750000 non-null  int64  \n",
      " 31  del_in_18month            750000 non-null  int64  \n",
      " 32  employer_type             750000 non-null  int32  \n",
      " 33  recircle_u                749511 non-null  float64\n",
      " 34  known_outstanding_loan    0 non-null       float64\n",
      " 35  app_type                  0 non-null       float64\n",
      " 36  known_dero                0 non-null       float64\n",
      " 37  isDefault                 0 non-null       float64\n",
      "dtypes: float64(18), int32(2), int64(18)\n",
      "memory usage: 211.7 MB\n"
     ]
    }
   ],
   "source": [
    "train_inteSame.info()"
   ]
  },
  {
   "cell_type": "markdown",
   "id": "80b4b82c",
   "metadata": {},
   "source": [
    "### 模型 "
   ]
  },
  {
   "cell_type": "code",
   "execution_count": 17,
   "id": "0bbda40c",
   "metadata": {},
   "outputs": [],
   "source": [
    "from sklearn.model_selection import StratifiedKFold, KFold\n",
    "from sklearn.metrics import roc_auc_score\n",
    "import lightgbm as lgb"
   ]
  },
  {
   "cell_type": "code",
   "execution_count": 18,
   "id": "aee03eb1",
   "metadata": {},
   "outputs": [],
   "source": [
    "from sklearn.model_selection import ShuffleSplit\n",
    "\n",
    "def train_model(data_, test_, y_, folds_):\n",
    "    oof_preds = np.zeros(data_.shape[0])\n",
    "    sub_preds = np.zeros(test_.shape[0])\n",
    "    feature_importance_df = pd.DataFrame()\n",
    "    feats = [f for f in data_.columns if f not in ['loan_id', 'user_id', 'isDefault'] ]\n",
    "    for n_fold, (trn_idx, val_idx) in enumerate(folds_.split(data_)):\n",
    "        trn_x, trn_y = data_[feats].iloc[trn_idx], y_.iloc[trn_idx]\n",
    "        val_x, val_y = data_[feats].iloc[val_idx], y_.iloc[val_idx]\n",
    "        clf = LGBMClassifier(\n",
    "            n_estimators=4000,\n",
    "            learning_rate=0.08,\n",
    "            num_leaves=2**5,\n",
    "            colsample_bytree=.65,\n",
    "            subsample=.9,\n",
    "            max_depth=5,\n",
    "#             max_bin=250,\n",
    "            reg_alpha=.3,\n",
    "            reg_lambda=.3,\n",
    "            min_split_gain=.01,\n",
    "            min_child_weight=2,\n",
    "            silent=-1,\n",
    "            verbose=-1,\n",
    "        )\n",
    "        \n",
    "        clf.fit(trn_x, trn_y, \n",
    "                eval_set= [(trn_x, trn_y), (val_x, val_y)], \n",
    "                eval_metric='auc', verbose=100, early_stopping_rounds=50  #30\n",
    "               )\n",
    "\n",
    "        oof_preds[val_idx] = clf.predict_proba(val_x, num_iteration=clf.best_iteration_)[:, 1]\n",
    "        sub_preds += clf.predict_proba(test_[feats], num_iteration=clf.best_iteration_)[:, 1] / folds_.n_splits\n",
    "        \n",
    "        fold_importance_df = pd.DataFrame()\n",
    "        fold_importance_df[\"feature\"] = feats\n",
    "        fold_importance_df[\"importance\"] = clf.feature_importances_\n",
    "        fold_importance_df[\"fold\"] = n_fold + 1\n",
    "        feature_importance_df = pd.concat([feature_importance_df, fold_importance_df], axis=0)\n",
    "        \n",
    "        print('Fold %2d AUC : %.6f' % (n_fold + 1, roc_auc_score(val_y, oof_preds[val_idx])))\n",
    "        del clf, trn_x, trn_y, val_x, val_y\n",
    "        gc.collect()\n",
    "        \n",
    "    print('Full AUC score %.6f' % roc_auc_score(y_, oof_preds)) \n",
    "    \n",
    "    test_['isDefault'] = sub_preds\n",
    "\n",
    "    return oof_preds, test_[['loan_id', 'isDefault']], feature_importance_df\n",
    "    \n",
    "def display_importances(feature_importance_df_):\n",
    "    # Plot feature importances\n",
    "    cols = feature_importance_df_[[\"feature\", \"importance\"]].groupby(\"feature\").mean().sort_values(\n",
    "        by=\"importance\", ascending=False)[:50].index\n",
    "    \n",
    "    best_features = feature_importance_df_.loc[feature_importance_df_.feature.isin(cols)]\n",
    "    \n",
    "    plt.figure(figsize=(8,10))\n",
    "    sns.barplot(x=\"importance\", y=\"feature\", \n",
    "                data=best_features.sort_values(by=\"importance\", ascending=False))\n",
    "    plt.title('LightGBM Features (avg over folds)')\n",
    "    plt.tight_layout()\n",
    "    plt.savefig('lgbm_importances.png')"
   ]
  },
  {
   "cell_type": "code",
   "execution_count": 19,
   "id": "6c8dbdb3",
   "metadata": {},
   "outputs": [],
   "source": [
    "train_label = train_data['isDefault']\n",
    "folds = KFold(n_splits=5, shuffle=True, random_state=546789)"
   ]
  },
  {
   "cell_type": "code",
   "execution_count": 20,
   "id": "507f49b1",
   "metadata": {},
   "outputs": [
    {
     "name": "stdout",
     "output_type": "stream",
     "text": [
      "Training until validation scores don't improve for 50 rounds\n",
      "[100]\ttraining's auc: 0.955788\ttraining's binary_logloss: 0.221644\tvalid_1's auc: 0.889459\tvalid_1's binary_logloss: 0.293621\n",
      "Early stopping, best iteration is:\n",
      "[75]\ttraining's auc: 0.943318\ttraining's binary_logloss: 0.237837\tvalid_1's auc: 0.890434\tvalid_1's binary_logloss: 0.29229\n",
      "Fold  1 AUC : 0.890434\n",
      "Training until validation scores don't improve for 50 rounds\n",
      "[100]\ttraining's auc: 0.952455\ttraining's binary_logloss: 0.227972\tvalid_1's auc: 0.88807\tvalid_1's binary_logloss: 0.290497\n",
      "Early stopping, best iteration is:\n",
      "[73]\ttraining's auc: 0.941306\ttraining's binary_logloss: 0.241807\tvalid_1's auc: 0.889551\tvalid_1's binary_logloss: 0.289273\n",
      "Fold  2 AUC : 0.889551\n",
      "Training until validation scores don't improve for 50 rounds\n",
      "[100]\ttraining's auc: 0.951544\ttraining's binary_logloss: 0.225107\tvalid_1's auc: 0.87341\tvalid_1's binary_logloss: 0.313308\n",
      "Early stopping, best iteration is:\n",
      "[81]\ttraining's auc: 0.945248\ttraining's binary_logloss: 0.233439\tvalid_1's auc: 0.873967\tvalid_1's binary_logloss: 0.312447\n",
      "Fold  3 AUC : 0.873967\n",
      "Training until validation scores don't improve for 50 rounds\n",
      "[100]\ttraining's auc: 0.954584\ttraining's binary_logloss: 0.221665\tvalid_1's auc: 0.866816\tvalid_1's binary_logloss: 0.321172\n",
      "Early stopping, best iteration is:\n",
      "[57]\ttraining's auc: 0.936263\ttraining's binary_logloss: 0.245938\tvalid_1's auc: 0.868299\tvalid_1's binary_logloss: 0.318315\n",
      "Fold  4 AUC : 0.868299\n",
      "Training until validation scores don't improve for 50 rounds\n",
      "[100]\ttraining's auc: 0.952337\ttraining's binary_logloss: 0.227556\tvalid_1's auc: 0.874974\tvalid_1's binary_logloss: 0.304572\n",
      "Early stopping, best iteration is:\n",
      "[76]\ttraining's auc: 0.939919\ttraining's binary_logloss: 0.242462\tvalid_1's auc: 0.877343\tvalid_1's binary_logloss: 0.301593\n",
      "Fold  5 AUC : 0.877343\n",
      "Full AUC score 0.879609\n"
     ]
    }
   ],
   "source": [
    "oof_preds, IntePre, importances = train_model(train_data, train_inteSame, train_label, folds)"
   ]
  },
  {
   "cell_type": "code",
   "execution_count": 21,
   "id": "b977393d",
   "metadata": {},
   "outputs": [
    {
     "name": "stderr",
     "output_type": "stream",
     "text": [
      "E:\\anaconda3\\envs\\pytorch\\lib\\site-packages\\ipykernel_launcher.py:1: SettingWithCopyWarning: \n",
      "A value is trying to be set on a copy of a slice from a DataFrame.\n",
      "Try using .loc[row_indexer,col_indexer] = value instead\n",
      "\n",
      "See the caveats in the documentation: https://pandas.pydata.org/pandas-docs/stable/user_guide/indexing.html#returning-a-view-versus-a-copy\n",
      "  \"\"\"Entry point for launching an IPython kernel.\n"
     ]
    }
   ],
   "source": [
    "IntePre['isDef'] = train_internet['is_default']"
   ]
  },
  {
   "cell_type": "code",
   "execution_count": 22,
   "id": "2328c915",
   "metadata": {},
   "outputs": [
    {
     "data": {
      "text/plain": [
       "0.729664607024783"
      ]
     },
     "execution_count": 22,
     "metadata": {},
     "output_type": "execute_result"
    }
   ],
   "source": [
    "from sklearn.metrics import roc_auc_score\n",
    "roc_auc_score(IntePre['isDef'],IntePre.isDefault)"
   ]
  },
  {
   "cell_type": "code",
   "execution_count": 23,
   "id": "44db32c5",
   "metadata": {},
   "outputs": [],
   "source": [
    "InteId = IntePre.loc[IntePre.isDefault<0.05, 'loan_id'].tolist()\n",
    "\n",
    "train_data['dataSourse'] = 1\n",
    "test_public['dataSourse'] = 1\n",
    "train_inteSame['dataSourse'] = 0\n",
    "train_inteSame['isDefault'] = train_internet['is_default']\n",
    "use_te = train_inteSame[train_inteSame.loan_id.isin( InteId )].copy()\n",
    "data = pd.concat([ train_data,test_public,use_te]).reset_index(drop=True)\n"
   ]
  },
  {
   "cell_type": "code",
   "execution_count": 24,
   "id": "1a3f717c",
   "metadata": {},
   "outputs": [
    {
     "name": "stdout",
     "output_type": "stream",
     "text": [
      "<class 'pandas.core.frame.DataFrame'>\n",
      "RangeIndex: 74765 entries, 0 to 74764\n",
      "Data columns (total 39 columns):\n",
      " #   Column                    Non-Null Count  Dtype  \n",
      "---  ------                    --------------  -----  \n",
      " 0   loan_id                   74765 non-null  int64  \n",
      " 1   user_id                   74765 non-null  int64  \n",
      " 2   total_loan                74765 non-null  float64\n",
      " 3   year_of_loan              74765 non-null  int64  \n",
      " 4   interest                  74765 non-null  float64\n",
      " 5   monthly_payment           74765 non-null  float64\n",
      " 6   class                     74765 non-null  int64  \n",
      " 7   employer_type             74765 non-null  int32  \n",
      " 8   industry                  74765 non-null  int32  \n",
      " 9   work_year                 74765 non-null  float64\n",
      " 10  house_exist               74765 non-null  int64  \n",
      " 11  censor_status             74765 non-null  int64  \n",
      " 12  use                       74765 non-null  int64  \n",
      " 13  post_code                 74764 non-null  float64\n",
      " 14  region                    74765 non-null  int64  \n",
      " 15  debt_loan_ratio           74750 non-null  float64\n",
      " 16  del_in_18month            74765 non-null  int64  \n",
      " 17  scoring_low               74765 non-null  float64\n",
      " 18  scoring_high              74765 non-null  float64\n",
      " 19  known_outstanding_loan    15000 non-null  float64\n",
      " 20  known_dero                15000 non-null  float64\n",
      " 21  pub_dero_bankrup          74720 non-null  float64\n",
      " 22  recircle_b                74765 non-null  float64\n",
      " 23  recircle_u                74732 non-null  float64\n",
      " 24  initial_list_status       74765 non-null  int64  \n",
      " 25  app_type                  15000 non-null  float64\n",
      " 26  title                     74765 non-null  float64\n",
      " 27  policy_code               74765 non-null  int64  \n",
      " 28  f0                        70783 non-null  float64\n",
      " 29  f1                        68196 non-null  float64\n",
      " 30  f2                        70783 non-null  float64\n",
      " 31  f3                        70783 non-null  float64\n",
      " 32  f4                        70783 non-null  float64\n",
      " 33  early_return              74765 non-null  int64  \n",
      " 34  early_return_amount       74765 non-null  int64  \n",
      " 35  early_return_amount_3mon  74765 non-null  float64\n",
      " 36  isDefault                 69765 non-null  float64\n",
      " 37  issue_date_dayofweek      74765 non-null  int64  \n",
      " 38  dataSourse                74765 non-null  int64  \n",
      "dtypes: float64(22), int32(2), int64(15)\n",
      "memory usage: 21.7 MB\n"
     ]
    }
   ],
   "source": [
    "data.info()"
   ]
  },
  {
   "cell_type": "code",
   "execution_count": null,
   "id": "2e3c942a",
   "metadata": {},
   "outputs": [],
   "source": [
    "# plt.figure(figsize=(16,6))\n",
    "# plt.title(\"Distribution of Default values IntePre\")\n",
    "# sns.distplot(IntePre['isDefault'],color=\"black\", kde=True,bins=120, label='train_data')\n",
    "# # sns.distplot(train_inte[col],color=\"red\", kde=True,bins=120, label='train_inte')\n",
    "# plt.legend();plt.show()"
   ]
  },
  {
   "cell_type": "code",
   "execution_count": 26,
   "id": "ce38ba7e",
   "metadata": {},
   "outputs": [
    {
     "name": "stdout",
     "output_type": "stream",
     "text": [
      "Training until validation scores don't improve for 50 rounds\n",
      "[100]\ttraining's auc: 0.993511\ttraining's binary_logloss: 0.0329506\tvalid_1's auc: 0.985983\tvalid_1's binary_logloss: 0.0448928\n",
      "Early stopping, best iteration is:\n",
      "[74]\ttraining's auc: 0.991818\ttraining's binary_logloss: 0.0352189\tvalid_1's auc: 0.986134\tvalid_1's binary_logloss: 0.0446655\n",
      "Fold  1 AUC : 0.986134\n",
      "Training until validation scores don't improve for 50 rounds\n",
      "Early stopping, best iteration is:\n",
      "[32]\ttraining's auc: 0.990056\ttraining's binary_logloss: 0.0404838\tvalid_1's auc: 0.984362\tvalid_1's binary_logloss: 0.0446579\n",
      "Fold  2 AUC : 0.984362\n",
      "Training until validation scores don't improve for 50 rounds\n",
      "[100]\ttraining's auc: 0.992912\ttraining's binary_logloss: 0.0342843\tvalid_1's auc: 0.986089\tvalid_1's binary_logloss: 0.0424979\n",
      "Early stopping, best iteration is:\n",
      "[141]\ttraining's auc: 0.995357\ttraining's binary_logloss: 0.030763\tvalid_1's auc: 0.98629\tvalid_1's binary_logloss: 0.0422579\n",
      "Fold  3 AUC : 0.986290\n",
      "Training until validation scores don't improve for 50 rounds\n",
      "Early stopping, best iteration is:\n",
      "[40]\ttraining's auc: 0.990325\ttraining's binary_logloss: 0.0391329\tvalid_1's auc: 0.984414\tvalid_1's binary_logloss: 0.0434571\n",
      "Fold  4 AUC : 0.984414\n",
      "Training until validation scores don't improve for 50 rounds\n",
      "[100]\ttraining's auc: 0.992747\ttraining's binary_logloss: 0.0341356\tvalid_1's auc: 0.985248\tvalid_1's binary_logloss: 0.0449716\n",
      "Early stopping, best iteration is:\n",
      "[86]\ttraining's auc: 0.992263\ttraining's binary_logloss: 0.0348336\tvalid_1's auc: 0.98529\tvalid_1's binary_logloss: 0.0449402\n",
      "Fold  5 AUC : 0.985290\n",
      "Full AUC score 0.985120\n"
     ]
    },
    {
     "name": "stderr",
     "output_type": "stream",
     "text": [
      "E:\\anaconda3\\envs\\pytorch\\lib\\site-packages\\ipykernel_launcher.py:47: SettingWithCopyWarning: \n",
      "A value is trying to be set on a copy of a slice from a DataFrame.\n",
      "Try using .loc[row_indexer,col_indexer] = value instead\n",
      "\n",
      "See the caveats in the documentation: https://pandas.pydata.org/pandas-docs/stable/user_guide/indexing.html#returning-a-view-versus-a-copy\n"
     ]
    }
   ],
   "source": [
    "train = data[data['isDefault'].notna()]\n",
    "test  = data[data['isDefault'].isna()]\n",
    "# for col in ['sub_class', 'work_type']:\n",
    "#     del train[col]\n",
    "#     del test[col]\n",
    "\n",
    "\n",
    "# del data\n",
    "# del train_data,test_public\n",
    "\n",
    "\n",
    "y = train['isDefault']\n",
    "folds = KFold(n_splits=5, shuffle=True, random_state=546789)\n",
    "oof_preds, test_preds, importances = train_model(train, test, y, folds)"
   ]
  },
  {
   "cell_type": "code",
   "execution_count": 27,
   "id": "8e10b533",
   "metadata": {},
   "outputs": [
    {
     "data": {
      "text/html": [
       "<div>\n",
       "<style scoped>\n",
       "    .dataframe tbody tr th:only-of-type {\n",
       "        vertical-align: middle;\n",
       "    }\n",
       "\n",
       "    .dataframe tbody tr th {\n",
       "        vertical-align: top;\n",
       "    }\n",
       "\n",
       "    .dataframe thead th {\n",
       "        text-align: right;\n",
       "    }\n",
       "</style>\n",
       "<table border=\"1\" class=\"dataframe\">\n",
       "  <thead>\n",
       "    <tr style=\"text-align: right;\">\n",
       "      <th></th>\n",
       "      <th>loan_id</th>\n",
       "      <th>isDefault</th>\n",
       "    </tr>\n",
       "  </thead>\n",
       "  <tbody>\n",
       "    <tr>\n",
       "      <th>10000</th>\n",
       "      <td>1000575</td>\n",
       "      <td>0.007282</td>\n",
       "    </tr>\n",
       "    <tr>\n",
       "      <th>10001</th>\n",
       "      <td>1028125</td>\n",
       "      <td>0.057512</td>\n",
       "    </tr>\n",
       "    <tr>\n",
       "      <th>10002</th>\n",
       "      <td>1010694</td>\n",
       "      <td>0.005172</td>\n",
       "    </tr>\n",
       "    <tr>\n",
       "      <th>10003</th>\n",
       "      <td>1026712</td>\n",
       "      <td>0.008515</td>\n",
       "    </tr>\n",
       "    <tr>\n",
       "      <th>10004</th>\n",
       "      <td>1002895</td>\n",
       "      <td>0.007363</td>\n",
       "    </tr>\n",
       "    <tr>\n",
       "      <th>...</th>\n",
       "      <td>...</td>\n",
       "      <td>...</td>\n",
       "    </tr>\n",
       "    <tr>\n",
       "      <th>14995</th>\n",
       "      <td>1008856</td>\n",
       "      <td>0.341777</td>\n",
       "    </tr>\n",
       "    <tr>\n",
       "      <th>14996</th>\n",
       "      <td>1016651</td>\n",
       "      <td>0.009579</td>\n",
       "    </tr>\n",
       "    <tr>\n",
       "      <th>14997</th>\n",
       "      <td>1024140</td>\n",
       "      <td>0.003448</td>\n",
       "    </tr>\n",
       "    <tr>\n",
       "      <th>14998</th>\n",
       "      <td>1014316</td>\n",
       "      <td>0.007802</td>\n",
       "    </tr>\n",
       "    <tr>\n",
       "      <th>14999</th>\n",
       "      <td>1012946</td>\n",
       "      <td>0.003444</td>\n",
       "    </tr>\n",
       "  </tbody>\n",
       "</table>\n",
       "<p>5000 rows × 2 columns</p>\n",
       "</div>"
      ],
      "text/plain": [
       "       loan_id  isDefault\n",
       "10000  1000575   0.007282\n",
       "10001  1028125   0.057512\n",
       "10002  1010694   0.005172\n",
       "10003  1026712   0.008515\n",
       "10004  1002895   0.007363\n",
       "...        ...        ...\n",
       "14995  1008856   0.341777\n",
       "14996  1016651   0.009579\n",
       "14997  1024140   0.003448\n",
       "14998  1014316   0.007802\n",
       "14999  1012946   0.003444\n",
       "\n",
       "[5000 rows x 2 columns]"
      ]
     },
     "execution_count": 27,
     "metadata": {},
     "output_type": "execute_result"
    }
   ],
   "source": [
    "test_preds"
   ]
  },
  {
   "cell_type": "code",
   "execution_count": null,
   "id": "880241ae",
   "metadata": {},
   "outputs": [],
   "source": [
    "test_preds.rename({'loan_id': 'id'}, axis=1)[['id', 'isDefault']].to_csv('./submit/test1.csv', index=False)"
   ]
  },
  {
   "cell_type": "code",
   "execution_count": null,
   "id": "16047eb0",
   "metadata": {},
   "outputs": [],
   "source": [
    "test_preds"
   ]
  },
  {
   "cell_type": "code",
   "execution_count": null,
   "id": "eb1c3d06",
   "metadata": {},
   "outputs": [],
   "source": [
    "tmp = test_preds['isDefault']\n",
    "c = np.sum(tmp>1)\n",
    "c"
   ]
  },
  {
   "cell_type": "code",
   "execution_count": null,
   "id": "faecb168",
   "metadata": {},
   "outputs": [],
   "source": []
  }
 ],
 "metadata": {
  "kernelspec": {
   "display_name": "Python 3 (ipykernel)",
   "language": "python",
   "name": "python3"
  },
  "language_info": {
   "codemirror_mode": {
    "name": "ipython",
    "version": 3
   },
   "file_extension": ".py",
   "mimetype": "text/x-python",
   "name": "python",
   "nbconvert_exporter": "python",
   "pygments_lexer": "ipython3",
   "version": "3.7.10"
  }
 },
 "nbformat": 4,
 "nbformat_minor": 5
}
