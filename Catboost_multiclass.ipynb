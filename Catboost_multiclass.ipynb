{
 "cells": [
  {
   "cell_type": "code",
   "execution_count": 1,
   "id": "7b25e5b7",
   "metadata": {},
   "outputs": [],
   "source": [
    "import matplotlib.pyplot as plt\n",
    "import seaborn as sns\n",
    "import gc\n",
    "import pandas as pd\n",
    "import lightgbm as lgb\n",
    "import numpy as np\n",
    "from sklearn.metrics import roc_auc_score, precision_recall_curve, roc_curve, average_precision_score, auc\n",
    "from sklearn.model_selection import KFold\n",
    "from lightgbm import LGBMClassifier\n",
    "import matplotlib.pyplot as plt\n",
    "import seaborn as sns\n",
    "import gc\n",
    "from sklearn.model_selection import StratifiedKFold\n",
    "import category_encoders\n",
    "from catboost import Pool\n",
    "from catboost.utils import get_roc_curve\n",
    "from sklearn.metrics import auc\n",
    "from sklearn.ensemble import RandomForestClassifier\n",
    "from sklearn.model_selection import StratifiedKFold, KFold\n",
    "from sklearn.metrics import roc_auc_score\n",
    "import lightgbm as lgb\n",
    "import catboost"
   ]
  },
  {
   "cell_type": "code",
   "execution_count": 2,
   "id": "e655ccd3",
   "metadata": {},
   "outputs": [],
   "source": [
    "train_data = pd.read_csv('./train_dataset/train_public.csv')\n",
    "test_public = pd.read_csv('./test_public.csv')\n",
    "train_internet = pd.read_csv('./train_dataset/train_internet.csv')"
   ]
  },
  {
   "cell_type": "code",
   "execution_count": 3,
   "id": "51fed7c9",
   "metadata": {},
   "outputs": [],
   "source": [
    "X_train = train_data.copy()\n",
    "X_test = test_public.copy()\n",
    "X_internet = train_internet.sample(n=20000)"
   ]
  },
  {
   "cell_type": "code",
   "execution_count": 4,
   "id": "fc97a603",
   "metadata": {},
   "outputs": [
    {
     "data": {
      "text/plain": [
       "(10000, 38)"
      ]
     },
     "execution_count": 4,
     "metadata": {},
     "output_type": "execute_result"
    }
   ],
   "source": [
    "X_train = X_train.drop(['isDefault'], axis = 1)\n",
    "X_train.shape"
   ]
  },
  {
   "cell_type": "code",
   "execution_count": 5,
   "id": "a162cc10",
   "metadata": {},
   "outputs": [
    {
     "data": {
      "text/plain": [
       "(15000, 39)"
      ]
     },
     "execution_count": 5,
     "metadata": {},
     "output_type": "execute_result"
    }
   ],
   "source": [
    "X_train['is_train'] = 1\n",
    "X_test['is_train'] = 0\n",
    "\n",
    "X_traintest = X_traintest = pd.concat([X_train, X_test], axis = 0)\n",
    "X_traintest.shape"
   ]
  },
  {
   "cell_type": "code",
   "execution_count": 6,
   "id": "7f0215dd",
   "metadata": {},
   "outputs": [],
   "source": [
    "work_year_dict = {\n",
    "    '< 1 year': 0,\n",
    "    '1 year': 1,\n",
    "    '2 years': 2,\n",
    "    '3 years': 3,\n",
    "    '4 years': 4,\n",
    "    '5 years': 5,\n",
    "    '6 years': 6,\n",
    "    '7 years': 7,\n",
    "    '8 years': 8,\n",
    "    '9 years': 9,\n",
    "    '10+ years': 10,\n",
    "}\n",
    "\n",
    "\n",
    "\n",
    "X_traintest['num_work_year'] = X_traintest['work_year'].map(work_year_dict)\n",
    "\n",
    "X_internet['num_work_year'] = X_internet['work_year'].map(work_year_dict)"
   ]
  },
  {
   "cell_type": "code",
   "execution_count": 7,
   "id": "fac11cfa",
   "metadata": {},
   "outputs": [],
   "source": [
    "class_dict = {\n",
    "    'A': 1,\n",
    "    'B': 2,\n",
    "    'C': 3,\n",
    "    'D': 4,\n",
    "    'E': 5,\n",
    "    'F': 6,\n",
    "    'G': 7,\n",
    "}\n",
    "\n",
    "\n",
    "\n",
    "X_traintest['num_class'] = X_traintest['class'].map(class_dict)\n",
    "\n",
    "X_internet['num_class'] = X_internet['class'].map(class_dict)"
   ]
  },
  {
   "cell_type": "code",
   "execution_count": 8,
   "id": "c605f29b",
   "metadata": {},
   "outputs": [],
   "source": [
    "X_traintest['issue_date'] = pd.to_datetime(X_traintest['issue_date'])\n",
    "X_internet['issue_date'] = pd.to_datetime(X_internet['issue_date'])\n",
    "\n",
    "\n",
    "X_traintest['issue_date_delta'] = (X_traintest['issue_date'] - X_traintest['issue_date'].min())  / np.timedelta64(1,'D')\n",
    "X_internet['issue_date_delta'] = (X_internet['issue_date'] - X_internet['issue_date'].min())  / np.timedelta64(1,'D')\n"
   ]
  },
  {
   "cell_type": "code",
   "execution_count": 9,
   "id": "3633e45d",
   "metadata": {},
   "outputs": [],
   "source": [
    "X_traintest['earlies_credit_mon'] = pd.to_datetime(X_traintest['earlies_credit_mon'])\n",
    "X_internet['earlies_credit_mon'] = pd.to_datetime(X_internet['earlies_credit_mon'])\n",
    "\n",
    "X_traintest['earlies_credit_mon_delta'] = (X_traintest['earlies_credit_mon'] - X_traintest['earlies_credit_mon'].min())  / np.timedelta64(1,'D')\n",
    "X_internet['earlies_credit_mon_delta'] = (X_internet['earlies_credit_mon'] - X_internet['earlies_credit_mon'].min())  / np.timedelta64(1,'D')"
   ]
  },
  {
   "cell_type": "code",
   "execution_count": 10,
   "id": "7554fd96",
   "metadata": {},
   "outputs": [],
   "source": [
    "from sklearn.preprocessing import LabelEncoder\n",
    "\n",
    "lbl1 = LabelEncoder().fit(X_internet['work_type'])\n",
    "\n",
    "X_internet['work_type'] = lbl1.transform(X_internet['work_type'])\n",
    "\n",
    "\n",
    "y_train1 = X_internet['house_loan_status']\n",
    "y_train2 = X_internet['marriage']\n",
    "y_train3 = X_internet['offsprings']\n",
    "y_train4 = X_internet['work_type']"
   ]
  },
  {
   "cell_type": "code",
   "execution_count": 11,
   "id": "357f84e9",
   "metadata": {},
   "outputs": [],
   "source": [
    "features_public = X_traintest.columns\n",
    "features_internet = X_internet.columns\n",
    "\n",
    "diff1 = features_public.difference(features_internet)\n",
    "diff2 = features_internet.difference(features_public)"
   ]
  },
  {
   "cell_type": "code",
   "execution_count": 12,
   "id": "03da88f2",
   "metadata": {},
   "outputs": [
    {
     "name": "stdout",
     "output_type": "stream",
     "text": [
      "Index(['app_type', 'is_train', 'known_dero', 'known_outstanding_loan'], dtype='object')\n",
      "Index(['f5', 'house_loan_status', 'is_default', 'marriage', 'offsprings',\n",
      "       'sub_class', 'work_type'],\n",
      "      dtype='object')\n"
     ]
    }
   ],
   "source": [
    "print(diff1)\n",
    "print(diff2)"
   ]
  },
  {
   "cell_type": "code",
   "execution_count": 13,
   "id": "90f2819f",
   "metadata": {},
   "outputs": [],
   "source": [
    "tmp_internet = X_internet.copy()\n",
    "for cat in diff2:\n",
    "    tmp_internet = tmp_internet.drop(cat, axis=1)\n",
    "    \n",
    "tmp_public = X_traintest.copy()\n",
    "for cat in diff1:\n",
    "    tmp_public = tmp_public.drop(cat, axis=1)"
   ]
  },
  {
   "cell_type": "code",
   "execution_count": 14,
   "id": "cf8927a4",
   "metadata": {},
   "outputs": [],
   "source": [
    "cat_drop = ['region', 'early_return', 'employer_type', 'industry', 'issue_date', 'earlies_credit_mon']\n",
    "for cat in cat_drop:\n",
    "    tmp_internet = tmp_internet.drop(cat, axis=1)\n",
    "    tmp_public = tmp_public.drop(cat, axis=1)"
   ]
  },
  {
   "cell_type": "code",
   "execution_count": 15,
   "id": "8f1d3f6d",
   "metadata": {},
   "outputs": [],
   "source": [
    "numerical_fea_internet = list(tmp_public.select_dtypes(exclude=['object']).columns) \n",
    "category_fea_internet = list(filter(lambda x: x not in numerical_fea_internet,list(tmp_public.columns)))"
   ]
  },
  {
   "cell_type": "code",
   "execution_count": 16,
   "id": "6d12baef",
   "metadata": {},
   "outputs": [],
   "source": [
    "tmp_internet[category_fea_internet] =tmp_internet[category_fea_internet].astype(str)\n",
    "\n",
    "tmp_internet[numerical_fea_internet] = tmp_internet[numerical_fea_internet].astype(float)\n",
    "\n",
    "tmp_public[category_fea_internet] = tmp_public[category_fea_internet].astype(str)\n",
    "\n",
    "tmp_public[numerical_fea_internet] = tmp_public[numerical_fea_internet].astype(float)"
   ]
  },
  {
   "cell_type": "code",
   "execution_count": 17,
   "id": "50e51730",
   "metadata": {},
   "outputs": [
    {
     "name": "stdout",
     "output_type": "stream",
     "text": [
      "0:\tlearn: 1.0941558\ttotal: 29.2ms\tremaining: 9m 43s\n",
      "500:\tlearn: 0.8929563\ttotal: 12.7s\tremaining: 8m 16s\n",
      "1000:\tlearn: 0.8404973\ttotal: 25.4s\tremaining: 8m 1s\n",
      "1500:\tlearn: 0.7940831\ttotal: 38s\tremaining: 7m 48s\n",
      "2000:\tlearn: 0.7517768\ttotal: 50s\tremaining: 7m 29s\n",
      "2500:\tlearn: 0.7107660\ttotal: 1m 1s\tremaining: 7m 12s\n",
      "3000:\tlearn: 0.6723454\ttotal: 1m 13s\tremaining: 6m 56s\n",
      "3500:\tlearn: 0.6355363\ttotal: 1m 25s\tremaining: 6m 43s\n",
      "4000:\tlearn: 0.6013025\ttotal: 1m 37s\tremaining: 6m 30s\n",
      "4500:\tlearn: 0.5706458\ttotal: 1m 49s\tremaining: 6m 15s\n",
      "5000:\tlearn: 0.5409146\ttotal: 2m 1s\tremaining: 6m 3s\n",
      "5500:\tlearn: 0.5115911\ttotal: 2m 14s\tremaining: 5m 53s\n",
      "6000:\tlearn: 0.4841714\ttotal: 2m 26s\tremaining: 5m 40s\n",
      "6500:\tlearn: 0.4583487\ttotal: 2m 37s\tremaining: 5m 27s\n",
      "7000:\tlearn: 0.4339446\ttotal: 2m 49s\tremaining: 5m 15s\n",
      "7500:\tlearn: 0.4116954\ttotal: 3m 1s\tremaining: 5m 2s\n",
      "8000:\tlearn: 0.3901182\ttotal: 3m 13s\tremaining: 4m 49s\n",
      "8500:\tlearn: 0.3699325\ttotal: 3m 25s\tremaining: 4m 37s\n",
      "9000:\tlearn: 0.3513555\ttotal: 3m 36s\tremaining: 4m 24s\n",
      "9500:\tlearn: 0.3334966\ttotal: 3m 48s\tremaining: 4m 12s\n",
      "10000:\tlearn: 0.3169543\ttotal: 4m 1s\tremaining: 4m 1s\n",
      "10500:\tlearn: 0.3016768\ttotal: 4m 13s\tremaining: 3m 49s\n",
      "11000:\tlearn: 0.2875324\ttotal: 4m 26s\tremaining: 3m 37s\n",
      "11500:\tlearn: 0.2742090\ttotal: 4m 38s\tremaining: 3m 25s\n",
      "12000:\tlearn: 0.2612371\ttotal: 4m 50s\tremaining: 3m 13s\n",
      "12500:\tlearn: 0.2494991\ttotal: 5m 3s\tremaining: 3m 1s\n",
      "13000:\tlearn: 0.2382536\ttotal: 5m 14s\tremaining: 2m 49s\n",
      "13500:\tlearn: 0.2281396\ttotal: 5m 25s\tremaining: 2m 36s\n",
      "14000:\tlearn: 0.2184458\ttotal: 5m 37s\tremaining: 2m 24s\n",
      "14500:\tlearn: 0.2092346\ttotal: 5m 48s\tremaining: 2m 12s\n",
      "15000:\tlearn: 0.2007402\ttotal: 6m\tremaining: 2m\n",
      "15500:\tlearn: 0.1924150\ttotal: 6m 12s\tremaining: 1m 48s\n",
      "16000:\tlearn: 0.1847711\ttotal: 6m 25s\tremaining: 1m 36s\n",
      "16500:\tlearn: 0.1772805\ttotal: 6m 38s\tremaining: 1m 24s\n",
      "17000:\tlearn: 0.1703641\ttotal: 6m 51s\tremaining: 1m 12s\n",
      "17500:\tlearn: 0.1638259\ttotal: 7m 3s\tremaining: 1m\n",
      "18000:\tlearn: 0.1576554\ttotal: 7m 16s\tremaining: 48.5s\n",
      "18500:\tlearn: 0.1520105\ttotal: 7m 29s\tremaining: 36.4s\n",
      "19000:\tlearn: 0.1463926\ttotal: 7m 41s\tremaining: 24.3s\n",
      "19500:\tlearn: 0.1411649\ttotal: 7m 54s\tremaining: 12.1s\n",
      "19999:\tlearn: 0.1363833\ttotal: 8m 6s\tremaining: 0us\n"
     ]
    },
    {
     "data": {
      "text/plain": [
       "<catboost.core.CatBoostClassifier at 0x22e57c10d88>"
      ]
     },
     "execution_count": 17,
     "metadata": {},
     "output_type": "execute_result"
    }
   ],
   "source": [
    "clf_multiclass1 = catboost.CatBoostClassifier(\n",
    "    iterations=20000,\n",
    "    od_type='Iter',\n",
    "    od_wait=120,\n",
    "    max_depth=8,\n",
    "    learning_rate=0.02,\n",
    "    l2_leaf_reg=9,\n",
    "    random_seed=2019,\n",
    "    metric_period=500,\n",
    "    fold_len_multiplier=1.1,\n",
    "    loss_function='MultiClass',\n",
    "    logging_level='Verbose',\n",
    "    task_type=\"GPU\"\n",
    "    )\n",
    "\n",
    "clf_multiclass1.fit(tmp_internet, y_train1, cat_features = category_fea_internet)"
   ]
  },
  {
   "cell_type": "code",
   "execution_count": 18,
   "id": "16777228",
   "metadata": {},
   "outputs": [
    {
     "name": "stdout",
     "output_type": "stream",
     "text": [
      "0:\tlearn: 1.3720708\ttotal: 33.1ms\tremaining: 11m 1s\n",
      "500:\tlearn: 0.7940034\ttotal: 13.6s\tremaining: 8m 50s\n",
      "1000:\tlearn: 0.7394705\ttotal: 26.9s\tremaining: 8m 29s\n",
      "1500:\tlearn: 0.6918580\ttotal: 40s\tremaining: 8m 12s\n",
      "2000:\tlearn: 0.6501011\ttotal: 53.2s\tremaining: 7m 58s\n",
      "2500:\tlearn: 0.6113561\ttotal: 1m 6s\tremaining: 7m 45s\n",
      "3000:\tlearn: 0.5767244\ttotal: 1m 19s\tremaining: 7m 32s\n",
      "3500:\tlearn: 0.5449128\ttotal: 1m 33s\tremaining: 7m 19s\n",
      "4000:\tlearn: 0.5144488\ttotal: 1m 46s\tremaining: 7m 6s\n",
      "4500:\tlearn: 0.4838046\ttotal: 2m\tremaining: 6m 53s\n",
      "5000:\tlearn: 0.4561188\ttotal: 2m 13s\tremaining: 6m 41s\n",
      "5500:\tlearn: 0.4299720\ttotal: 2m 27s\tremaining: 6m 28s\n",
      "6000:\tlearn: 0.4056550\ttotal: 2m 40s\tremaining: 6m 14s\n",
      "6500:\tlearn: 0.3836453\ttotal: 2m 54s\tremaining: 6m 1s\n",
      "7000:\tlearn: 0.3634653\ttotal: 3m 7s\tremaining: 5m 48s\n",
      "7500:\tlearn: 0.3453165\ttotal: 3m 20s\tremaining: 5m 34s\n",
      "8000:\tlearn: 0.3274503\ttotal: 3m 34s\tremaining: 5m 20s\n",
      "8500:\tlearn: 0.3109540\ttotal: 3m 47s\tremaining: 5m 7s\n",
      "9000:\tlearn: 0.2955932\ttotal: 4m\tremaining: 4m 54s\n",
      "9500:\tlearn: 0.2810120\ttotal: 4m 14s\tremaining: 4m 41s\n",
      "10000:\tlearn: 0.2676418\ttotal: 4m 28s\tremaining: 4m 28s\n",
      "10500:\tlearn: 0.2549264\ttotal: 4m 42s\tremaining: 4m 15s\n",
      "11000:\tlearn: 0.2430618\ttotal: 4m 56s\tremaining: 4m 2s\n",
      "11500:\tlearn: 0.2321292\ttotal: 5m 9s\tremaining: 3m 48s\n",
      "12000:\tlearn: 0.2220371\ttotal: 5m 23s\tremaining: 3m 35s\n",
      "12500:\tlearn: 0.2123714\ttotal: 5m 36s\tremaining: 3m 21s\n",
      "13000:\tlearn: 0.2033243\ttotal: 5m 50s\tremaining: 3m 8s\n",
      "13500:\tlearn: 0.1945955\ttotal: 6m 3s\tremaining: 2m 55s\n",
      "14000:\tlearn: 0.1866681\ttotal: 6m 16s\tremaining: 2m 41s\n",
      "14500:\tlearn: 0.1792734\ttotal: 6m 30s\tremaining: 2m 28s\n",
      "15000:\tlearn: 0.1718969\ttotal: 6m 43s\tremaining: 2m 14s\n",
      "15500:\tlearn: 0.1650672\ttotal: 6m 57s\tremaining: 2m 1s\n",
      "16000:\tlearn: 0.1587040\ttotal: 7m 11s\tremaining: 1m 47s\n",
      "16500:\tlearn: 0.1528165\ttotal: 7m 24s\tremaining: 1m 34s\n",
      "17000:\tlearn: 0.1471248\ttotal: 7m 38s\tremaining: 1m 20s\n",
      "17500:\tlearn: 0.1416684\ttotal: 7m 52s\tremaining: 1m 7s\n",
      "18000:\tlearn: 0.1364698\ttotal: 8m 6s\tremaining: 54s\n",
      "18500:\tlearn: 0.1317422\ttotal: 8m 19s\tremaining: 40.5s\n",
      "19000:\tlearn: 0.1270948\ttotal: 8m 33s\tremaining: 27s\n",
      "19500:\tlearn: 0.1228129\ttotal: 8m 47s\tremaining: 13.5s\n",
      "19999:\tlearn: 0.1187281\ttotal: 9m 1s\tremaining: 0us\n"
     ]
    },
    {
     "data": {
      "text/plain": [
       "<catboost.core.CatBoostClassifier at 0x22e57c13848>"
      ]
     },
     "execution_count": 18,
     "metadata": {},
     "output_type": "execute_result"
    }
   ],
   "source": [
    "clf_multiclass2 = catboost.CatBoostClassifier(\n",
    "    iterations=20000,\n",
    "    od_type='Iter',\n",
    "    od_wait=120,\n",
    "    max_depth=8,\n",
    "    learning_rate=0.02,\n",
    "    l2_leaf_reg=9,\n",
    "    random_seed=2019,\n",
    "    metric_period=500,\n",
    "    fold_len_multiplier=1.1,\n",
    "    loss_function='MultiClass',\n",
    "    logging_level='Verbose',\n",
    "    task_type=\"GPU\"\n",
    "    )\n",
    "\n",
    "clf_multiclass2.fit(tmp_internet, y_train2, cat_features = category_fea_internet)"
   ]
  },
  {
   "cell_type": "code",
   "execution_count": 19,
   "id": "aca8716e",
   "metadata": {},
   "outputs": [
    {
     "name": "stdout",
     "output_type": "stream",
     "text": [
      "0:\tlearn: 1.7637805\ttotal: 33.5ms\tremaining: 11m 10s\n",
      "500:\tlearn: 1.1041164\ttotal: 16s\tremaining: 10m 24s\n",
      "1000:\tlearn: 1.0383784\ttotal: 31.1s\tremaining: 9m 50s\n",
      "1500:\tlearn: 0.9797992\ttotal: 45.9s\tremaining: 9m 26s\n",
      "2000:\tlearn: 0.9241198\ttotal: 1m\tremaining: 9m 8s\n",
      "2500:\tlearn: 0.8680066\ttotal: 1m 16s\tremaining: 8m 52s\n",
      "3000:\tlearn: 0.8154612\ttotal: 1m 31s\tremaining: 8m 40s\n",
      "3500:\tlearn: 0.7653034\ttotal: 1m 47s\tremaining: 8m 28s\n",
      "4000:\tlearn: 0.7169089\ttotal: 2m 3s\tremaining: 8m 15s\n",
      "4500:\tlearn: 0.6714661\ttotal: 2m 19s\tremaining: 8m 1s\n",
      "5000:\tlearn: 0.6279961\ttotal: 2m 35s\tremaining: 7m 47s\n",
      "5500:\tlearn: 0.5865367\ttotal: 2m 51s\tremaining: 7m 32s\n",
      "6000:\tlearn: 0.5479124\ttotal: 3m 7s\tremaining: 7m 17s\n",
      "6500:\tlearn: 0.5117346\ttotal: 3m 23s\tremaining: 7m 2s\n",
      "7000:\tlearn: 0.4778204\ttotal: 3m 39s\tremaining: 6m 47s\n",
      "7500:\tlearn: 0.4458759\ttotal: 3m 55s\tremaining: 6m 32s\n",
      "8000:\tlearn: 0.4159400\ttotal: 4m 11s\tremaining: 6m 16s\n",
      "8500:\tlearn: 0.3883381\ttotal: 4m 28s\tremaining: 6m 3s\n",
      "9000:\tlearn: 0.3622001\ttotal: 4m 45s\tremaining: 5m 49s\n",
      "9500:\tlearn: 0.3380219\ttotal: 5m 2s\tremaining: 5m 34s\n",
      "10000:\tlearn: 0.3163674\ttotal: 5m 20s\tremaining: 5m 20s\n",
      "10500:\tlearn: 0.2961276\ttotal: 5m 37s\tremaining: 5m 5s\n",
      "11000:\tlearn: 0.2783115\ttotal: 5m 53s\tremaining: 4m 49s\n",
      "11500:\tlearn: 0.2617554\ttotal: 6m 8s\tremaining: 4m 32s\n",
      "12000:\tlearn: 0.2458778\ttotal: 6m 23s\tremaining: 4m 15s\n",
      "12500:\tlearn: 0.2319289\ttotal: 6m 37s\tremaining: 3m 58s\n",
      "13000:\tlearn: 0.2186008\ttotal: 6m 52s\tremaining: 3m 41s\n",
      "13500:\tlearn: 0.2068501\ttotal: 7m 6s\tremaining: 3m 25s\n",
      "14000:\tlearn: 0.1958449\ttotal: 7m 21s\tremaining: 3m 8s\n",
      "14500:\tlearn: 0.1857980\ttotal: 7m 35s\tremaining: 2m 52s\n",
      "15000:\tlearn: 0.1766300\ttotal: 7m 49s\tremaining: 2m 36s\n",
      "15500:\tlearn: 0.1679943\ttotal: 8m 3s\tremaining: 2m 20s\n",
      "16000:\tlearn: 0.1601184\ttotal: 8m 18s\tremaining: 2m 4s\n",
      "16500:\tlearn: 0.1526256\ttotal: 8m 32s\tremaining: 1m 48s\n",
      "17000:\tlearn: 0.1455471\ttotal: 8m 47s\tremaining: 1m 33s\n",
      "17500:\tlearn: 0.1389267\ttotal: 9m 1s\tremaining: 1m 17s\n",
      "18000:\tlearn: 0.1328974\ttotal: 9m 16s\tremaining: 1m 1s\n",
      "18500:\tlearn: 0.1273097\ttotal: 9m 30s\tremaining: 46.3s\n",
      "19000:\tlearn: 0.1218635\ttotal: 9m 45s\tremaining: 30.8s\n",
      "19500:\tlearn: 0.1169194\ttotal: 9m 59s\tremaining: 15.3s\n",
      "19999:\tlearn: 0.1123577\ttotal: 10m 13s\tremaining: 0us\n"
     ]
    },
    {
     "data": {
      "text/plain": [
       "<catboost.core.CatBoostClassifier at 0x22e57c13ac8>"
      ]
     },
     "execution_count": 19,
     "metadata": {},
     "output_type": "execute_result"
    }
   ],
   "source": [
    "clf_multiclass3 = catboost.CatBoostClassifier(\n",
    "    iterations=20000,\n",
    "    od_type='Iter',\n",
    "    od_wait=120,\n",
    "    max_depth=8,\n",
    "    learning_rate=0.02,\n",
    "    l2_leaf_reg=9,\n",
    "    random_seed=2019,\n",
    "    metric_period=500,\n",
    "    fold_len_multiplier=1.1,\n",
    "    loss_function='MultiClass',\n",
    "    logging_level='Verbose',\n",
    "    task_type=\"GPU\"\n",
    "    )\n",
    "\n",
    "clf_multiclass3.fit(tmp_internet, y_train3, cat_features = category_fea_internet)\n"
   ]
  },
  {
   "cell_type": "code",
   "execution_count": 20,
   "id": "fe4ab9f5",
   "metadata": {},
   "outputs": [
    {
     "name": "stdout",
     "output_type": "stream",
     "text": [
      "0:\tlearn: 1.3782322\ttotal: 29.4ms\tremaining: 9m 48s\n",
      "500:\tlearn: 1.0982908\ttotal: 13.1s\tremaining: 8m 31s\n",
      "1000:\tlearn: 1.0360117\ttotal: 26.5s\tremaining: 8m 22s\n",
      "1500:\tlearn: 0.9804488\ttotal: 39.3s\tremaining: 8m 3s\n",
      "2000:\tlearn: 0.9258880\ttotal: 51.5s\tremaining: 7m 42s\n",
      "2500:\tlearn: 0.8770386\ttotal: 1m 3s\tremaining: 7m 25s\n",
      "3000:\tlearn: 0.8300067\ttotal: 1m 15s\tremaining: 7m 8s\n",
      "3500:\tlearn: 0.7850735\ttotal: 1m 27s\tremaining: 6m 51s\n",
      "4000:\tlearn: 0.7419185\ttotal: 1m 39s\tremaining: 6m 37s\n",
      "4500:\tlearn: 0.6988025\ttotal: 1m 51s\tremaining: 6m 25s\n",
      "5000:\tlearn: 0.6586601\ttotal: 2m 4s\tremaining: 6m 12s\n",
      "5500:\tlearn: 0.6198199\ttotal: 2m 17s\tremaining: 6m 1s\n",
      "6000:\tlearn: 0.5852550\ttotal: 2m 30s\tremaining: 5m 51s\n",
      "6500:\tlearn: 0.5533406\ttotal: 2m 43s\tremaining: 5m 39s\n",
      "7000:\tlearn: 0.5227770\ttotal: 2m 55s\tremaining: 5m 26s\n",
      "7500:\tlearn: 0.4936158\ttotal: 3m 7s\tremaining: 5m 13s\n",
      "8000:\tlearn: 0.4669235\ttotal: 3m 20s\tremaining: 5m\n",
      "8500:\tlearn: 0.4414753\ttotal: 3m 33s\tremaining: 4m 48s\n",
      "9000:\tlearn: 0.4176346\ttotal: 3m 46s\tremaining: 4m 37s\n",
      "9500:\tlearn: 0.3955273\ttotal: 3m 58s\tremaining: 4m 23s\n",
      "10000:\tlearn: 0.3742758\ttotal: 4m 10s\tremaining: 4m 10s\n",
      "10500:\tlearn: 0.3541918\ttotal: 4m 22s\tremaining: 3m 57s\n",
      "11000:\tlearn: 0.3353712\ttotal: 4m 35s\tremaining: 3m 45s\n",
      "11500:\tlearn: 0.3185457\ttotal: 4m 46s\tremaining: 3m 32s\n",
      "12000:\tlearn: 0.3029398\ttotal: 4m 59s\tremaining: 3m 19s\n",
      "12500:\tlearn: 0.2880071\ttotal: 5m 12s\tremaining: 3m 7s\n",
      "13000:\tlearn: 0.2738726\ttotal: 5m 26s\tremaining: 2m 55s\n",
      "13500:\tlearn: 0.2608331\ttotal: 5m 39s\tremaining: 2m 43s\n",
      "14000:\tlearn: 0.2485896\ttotal: 5m 52s\tremaining: 2m 31s\n",
      "14500:\tlearn: 0.2373279\ttotal: 6m 4s\tremaining: 2m 18s\n",
      "15000:\tlearn: 0.2267828\ttotal: 6m 16s\tremaining: 2m 5s\n",
      "15500:\tlearn: 0.2163435\ttotal: 6m 29s\tremaining: 1m 53s\n",
      "16000:\tlearn: 0.2068757\ttotal: 6m 43s\tremaining: 1m 40s\n",
      "16500:\tlearn: 0.1978826\ttotal: 6m 56s\tremaining: 1m 28s\n",
      "17000:\tlearn: 0.1896557\ttotal: 7m 10s\tremaining: 1m 15s\n",
      "17500:\tlearn: 0.1819767\ttotal: 7m 23s\tremaining: 1m 3s\n",
      "18000:\tlearn: 0.1746630\ttotal: 7m 36s\tremaining: 50.7s\n",
      "18500:\tlearn: 0.1676685\ttotal: 7m 50s\tremaining: 38.1s\n",
      "19000:\tlearn: 0.1610013\ttotal: 8m 4s\tremaining: 25.5s\n",
      "19500:\tlearn: 0.1548782\ttotal: 8m 16s\tremaining: 12.7s\n",
      "19999:\tlearn: 0.1490575\ttotal: 8m 28s\tremaining: 0us\n"
     ]
    },
    {
     "data": {
      "text/plain": [
       "<catboost.core.CatBoostClassifier at 0x22e57c20d88>"
      ]
     },
     "execution_count": 20,
     "metadata": {},
     "output_type": "execute_result"
    }
   ],
   "source": [
    "clf_multiclass4 = catboost.CatBoostClassifier(\n",
    "    iterations=20000,\n",
    "    od_type='Iter',\n",
    "    od_wait=120,\n",
    "    max_depth=8,\n",
    "    learning_rate=0.02,\n",
    "    l2_leaf_reg=9,\n",
    "    random_seed=2019,\n",
    "    metric_period=500,\n",
    "    fold_len_multiplier=1.1,\n",
    "    loss_function='MultiClass',\n",
    "    logging_level='Verbose',\n",
    "    task_type=\"GPU\"\n",
    "    )\n",
    "\n",
    "clf_multiclass4.fit(tmp_internet, y_train4, cat_features = category_fea_internet)"
   ]
  },
  {
   "cell_type": "code",
   "execution_count": 21,
   "id": "243bd2da",
   "metadata": {},
   "outputs": [
    {
     "name": "stdout",
     "output_type": "stream",
     "text": [
      "0    11103\n",
      "1     3760\n",
      "2      137\n",
      "dtype: int64\n",
      "1    8653\n",
      "0    6347\n",
      "dtype: int64\n",
      "0    14895\n",
      "2       45\n",
      "3       35\n",
      "5       17\n",
      "1        5\n",
      "4        3\n",
      "dtype: int64\n",
      "1    12806\n",
      "0     1131\n",
      "3      966\n",
      "2       97\n",
      "dtype: int64\n"
     ]
    }
   ],
   "source": [
    "y_pred1 = clf_multiclass1.predict(tmp_public)\n",
    "y_pred2 = clf_multiclass2.predict(tmp_public)\n",
    "y_pred3 = clf_multiclass3.predict(tmp_public)\n",
    "y_pred4 = clf_multiclass4.predict(tmp_public)\n",
    "\n",
    "y_pred1=pd.DataFrame(y_pred1)\n",
    "print(y_pred1.value_counts())\n",
    "\n",
    "y_pred2=pd.DataFrame(y_pred2)\n",
    "print(y_pred2.value_counts())\n",
    "\n",
    "y_pred3=pd.DataFrame(y_pred3)\n",
    "print(y_pred3.value_counts())\n",
    "\n",
    "y_pred4=pd.DataFrame(y_pred4)\n",
    "print(y_pred4.value_counts())"
   ]
  },
  {
   "cell_type": "code",
   "execution_count": 22,
   "id": "dfb20c33",
   "metadata": {},
   "outputs": [],
   "source": [
    "new_features = pd.concat([y_pred1, y_pred2, y_pred3, y_pred4], axis=1)\n",
    "new_features.columns=['house_loan_status', 'marriage', 'offsprings', 'work_type']"
   ]
  },
  {
   "cell_type": "code",
   "execution_count": 23,
   "id": "3dd3f297",
   "metadata": {},
   "outputs": [],
   "source": [
    "new_features.to_csv('./train_dataset/new_features.csv', index=0)"
   ]
  },
  {
   "cell_type": "code",
   "execution_count": null,
   "id": "1ac656b9",
   "metadata": {},
   "outputs": [],
   "source": []
  }
 ],
 "metadata": {
  "kernelspec": {
   "display_name": "Python 3 (ipykernel)",
   "language": "python",
   "name": "python3"
  },
  "language_info": {
   "codemirror_mode": {
    "name": "ipython",
    "version": 3
   },
   "file_extension": ".py",
   "mimetype": "text/x-python",
   "name": "python",
   "nbconvert_exporter": "python",
   "pygments_lexer": "ipython3",
   "version": "3.7.10"
  }
 },
 "nbformat": 4,
 "nbformat_minor": 5
}
