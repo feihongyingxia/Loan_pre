{
 "cells": [
  {
   "cell_type": "code",
   "execution_count": 1,
   "id": "4b126c9b",
   "metadata": {},
   "outputs": [],
   "source": [
    "import matplotlib.pyplot as plt\n",
    "import seaborn as sns\n",
    "import gc\n",
    "import pandas as pd\n",
    "import lightgbm as lgb\n",
    "import numpy as np\n",
    "from sklearn.metrics import roc_auc_score, precision_recall_curve, roc_curve, average_precision_score, auc\n",
    "from sklearn.model_selection import KFold\n",
    "from lightgbm import LGBMClassifier\n",
    "import matplotlib.pyplot as plt\n",
    "import seaborn as sns\n",
    "import gc\n",
    "from sklearn.model_selection import StratifiedKFold\n",
    "import category_encoders\n",
    "from catboost import Pool\n",
    "from catboost.utils import get_roc_curve\n",
    "from sklearn.metrics import auc\n"
   ]
  },
  {
   "cell_type": "code",
   "execution_count": 2,
   "id": "6a7d52e6",
   "metadata": {},
   "outputs": [],
   "source": [
    "train_data = pd.read_csv('./train_dataset/train_public.csv')\n",
    "test_public = pd.read_csv('./test_public.csv')\n",
    "train_internet = pd.read_csv('./train_dataset/train_internet.csv', encoding='gb2312')\n",
    "\n",
    "sub=pd.read_csv(\"./submit/test_newcb.csv\")\n",
    "sub=sub.rename(columns={'id': 'loan_id'})\n",
    "sub.loc[sub['isDefault']<0.5,'isDefault'] = 0\n",
    "nw_sub=sub[(sub['isDefault']==0)]\n",
    "nw_test_data=test_public.merge(nw_sub,on='loan_id',how='inner')\n",
    "nw_train_data = pd.concat([train_data,nw_test_data]).reset_index(drop=True)\n",
    "nw_train_data.to_csv(\"./train_dataset/nw_train_public2.csv\",index=0)"
   ]
  },
  {
   "cell_type": "code",
   "execution_count": 3,
   "id": "a089db48",
   "metadata": {},
   "outputs": [],
   "source": [
    "train_data = pd.read_csv('./train_dataset/nw_train_public2.csv')"
   ]
  },
  {
   "cell_type": "code",
   "execution_count": 4,
   "id": "edaf81c6",
   "metadata": {},
   "outputs": [],
   "source": [
    "X_train = train_data.copy()\n",
    "X_test = test_public.copy()\n",
    "X_train = X_train.drop(['isDefault'], axis = 1)\n",
    "X_train.shape\n",
    "X_train['is_train'] = 1\n",
    "X_test['is_train'] = 0\n",
    "\n",
    "X_traintest = X_traintest = pd.concat([X_train, X_test], axis = 0)\n",
    "X_traintest.shape\n",
    "X_internet = train_internet.copy()"
   ]
  },
  {
   "cell_type": "markdown",
   "id": "2b084ce6",
   "metadata": {},
   "source": [
    "### 数据探索 "
   ]
  },
  {
   "cell_type": "code",
   "execution_count": 5,
   "id": "b75e9e8d",
   "metadata": {},
   "outputs": [],
   "source": [
    "unimport_fea = ['employer_type', 'industry', 'region', 'policy_code', 'pub_dero_bankrup', 'f1', 'del_in_18month', 'initial_list_status']\n",
    "for cat in unimport_fea:\n",
    "    X_internet = X_internet.drop(cat, axis=1)"
   ]
  },
  {
   "cell_type": "code",
   "execution_count": 6,
   "id": "4ace2470",
   "metadata": {},
   "outputs": [],
   "source": [
    "unimport_fea = ['employer_type', 'industry', 'region',  'policy_code', 'pub_dero_bankrup', 'f1', 'del_in_18month', 'initial_list_status']\n",
    "for cat in unimport_fea:\n",
    "    X_traintest = X_traintest.drop(cat, axis=1)"
   ]
  },
  {
   "cell_type": "markdown",
   "id": "d0a9a63f",
   "metadata": {},
   "source": [
    "### 特征工程 "
   ]
  },
  {
   "cell_type": "markdown",
   "id": "a573ece8",
   "metadata": {},
   "source": [
    "#### work_year, class "
   ]
  },
  {
   "cell_type": "code",
   "execution_count": 7,
   "id": "a7381b48",
   "metadata": {},
   "outputs": [],
   "source": [
    "work_year_dict = {\n",
    "    '< 1 year': 0,\n",
    "    '1 year': 1,\n",
    "    '2 years': 2,\n",
    "    '3 years': 3,\n",
    "    '4 years': 4,\n",
    "    '5 years': 5,\n",
    "    '6 years': 6,\n",
    "    '7 years': 7,\n",
    "    '8 years': 8,\n",
    "    '9 years': 9,\n",
    "    '10+ years': 10,\n",
    "}\n",
    "\n",
    "\n",
    "X_traintest['work_year'] = X_traintest['work_year'].map(work_year_dict)\n",
    "X_internet['work_year'] = X_internet['work_year'].map(work_year_dict)"
   ]
  },
  {
   "cell_type": "code",
   "execution_count": 8,
   "id": "9a63c580",
   "metadata": {},
   "outputs": [],
   "source": [
    "class_dict = {\n",
    "    'A': 1,\n",
    "    'B': 2,\n",
    "    'C': 3,\n",
    "    'D': 4,\n",
    "    'E': 5,\n",
    "    'F': 6,\n",
    "    'G': 7,\n",
    "}\n",
    "\n",
    "\n",
    "X_traintest['class'] = X_traintest['class'].map(class_dict)\n",
    "X_internet['class'] = X_internet['class'].map(class_dict)"
   ]
  },
  {
   "cell_type": "markdown",
   "id": "7dee8787",
   "metadata": {},
   "source": [
    "#### issue_date, earlies_credit_mon"
   ]
  },
  {
   "cell_type": "code",
   "execution_count": 9,
   "id": "812ee540",
   "metadata": {},
   "outputs": [],
   "source": [
    "X_traintest['issue_date'] = pd.to_datetime(X_traintest['issue_date'])\n",
    "X_internet['issue_date'] = pd.to_datetime(X_internet['issue_date'])\n",
    "\n",
    "X_traintest['issue_date_delta'] = (X_traintest['issue_date'] - X_traintest['issue_date'].min())  / np.timedelta64(1,'D')\n",
    "X_internet['issue_date_delta'] = (X_internet['issue_date'] - X_internet['issue_date'].min())  / np.timedelta64(1,'D')"
   ]
  },
  {
   "cell_type": "code",
   "execution_count": 10,
   "id": "af9253a0",
   "metadata": {},
   "outputs": [],
   "source": [
    "X_traintest['earlies_credit_mon'] = pd.to_datetime(X_traintest['earlies_credit_mon'])\n",
    "X_internet['earlies_credit_mon'] = pd.to_datetime(X_internet['earlies_credit_mon'])\n",
    "\n",
    "X_traintest['earlies_credit_mon_delta'] = (X_traintest['earlies_credit_mon'] - X_traintest['earlies_credit_mon'].min())  / np.timedelta64(1,'D')\n",
    "X_internet['earlies_credit_mon_delta'] = (X_internet['earlies_credit_mon'] - X_internet['earlies_credit_mon'].min())  / np.timedelta64(1,'D')"
   ]
  },
  {
   "cell_type": "code",
   "execution_count": 11,
   "id": "8b83063e",
   "metadata": {},
   "outputs": [],
   "source": [
    "X_traintest['issue_earlies_diff'] = (X_traintest['issue_date'] - X_traintest['earlies_credit_mon'])  / np.timedelta64(1,'D')\n",
    "X_internet['issue_earlies_diff'] = (X_internet['issue_date'] - X_internet['earlies_credit_mon'])  / np.timedelta64(1,'D')"
   ]
  },
  {
   "cell_type": "code",
   "execution_count": 12,
   "id": "a00d554c",
   "metadata": {},
   "outputs": [],
   "source": [
    "col_to_drop = ['issue_date', 'earlies_credit_mon']\n",
    "X_traintest = X_traintest.drop(col_to_drop, axis=1)\n",
    "X_internet = X_internet.drop(col_to_drop, axis=1)"
   ]
  },
  {
   "cell_type": "markdown",
   "id": "05bd02dd",
   "metadata": {},
   "source": [
    "#### employer_type, industry"
   ]
  },
  {
   "cell_type": "markdown",
   "id": "dadf68d5",
   "metadata": {},
   "source": [
    "#### 交叉特征"
   ]
  },
  {
   "cell_type": "code",
   "execution_count": 13,
   "id": "25cbf7d9",
   "metadata": {},
   "outputs": [],
   "source": [
    "X_traintest['pro'] = X_traintest['interest'].mul(X_traintest['year_of_loan'])\n",
    "X_traintest['loan_year'] = X_traintest['total_loan']/X_traintest['year_of_loan']\n",
    "X_traintest['early_ratio'] = X_traintest['early_return_amount']/X_traintest['total_loan']\n",
    "X_traintest['early_times_ratio'] = X_traintest['early_return']/X_traintest['year_of_loan']\n",
    "X_traintest['recircle_ratio'] = X_traintest['recircle_b']/X_traintest['total_loan']\n",
    "X_traintest['recircle_amt'] = X_traintest['recircle_b'].mul(X_traintest['total_loan'])"
   ]
  },
  {
   "cell_type": "code",
   "execution_count": 14,
   "id": "06233894",
   "metadata": {},
   "outputs": [],
   "source": [
    "X_internet['pro'] = X_internet['interest'].mul(X_internet['year_of_loan'])\n",
    "X_internet['loan_year'] = X_internet['total_loan']/X_internet['year_of_loan']\n",
    "X_internet['early_ratio'] = X_internet['early_return_amount']/X_internet['total_loan']\n",
    "X_internet['early_times_ratio'] = X_internet['early_return']/X_internet['year_of_loan']\n",
    "X_internet['recircle_ratio'] = X_internet['recircle_b']/X_internet['total_loan']\n",
    "X_internet['recircle_amt'] = X_internet['recircle_b'].mul(X_internet['total_loan'])"
   ]
  },
  {
   "cell_type": "code",
   "execution_count": 15,
   "id": "98aaed3c",
   "metadata": {},
   "outputs": [],
   "source": [
    "numerical_fea = list(X_traintest.select_dtypes(exclude=['object']).columns) \n",
    "category_fea = list(filter(lambda x: x not in numerical_fea,list(X_traintest.columns)))\n",
    "# print(\"numerical_fea:\",numerical_fea)\n",
    "# print(\"category_fea:\",category_fea)"
   ]
  },
  {
   "cell_type": "markdown",
   "id": "80b4b82c",
   "metadata": {},
   "source": [
    "### 模型 "
   ]
  },
  {
   "cell_type": "code",
   "execution_count": 16,
   "id": "0bbda40c",
   "metadata": {},
   "outputs": [],
   "source": [
    "from sklearn.model_selection import StratifiedKFold, KFold\n",
    "from sklearn.metrics import roc_auc_score\n",
    "import lightgbm as lgb\n",
    "import catboost"
   ]
  },
  {
   "cell_type": "code",
   "execution_count": 17,
   "id": "ab075847",
   "metadata": {},
   "outputs": [],
   "source": [
    "all_fea = X_traintest.columns"
   ]
  },
  {
   "cell_type": "code",
   "execution_count": 18,
   "id": "cf17d497",
   "metadata": {},
   "outputs": [],
   "source": [
    "X_train = X_traintest[X_traintest.is_train == 1][all_fea]\n",
    "y_train = train_data['isDefault']\n",
    "\n",
    "X_test = X_traintest[X_traintest.is_train == 0][all_fea]\n"
   ]
  },
  {
   "cell_type": "code",
   "execution_count": 19,
   "id": "046fff73",
   "metadata": {},
   "outputs": [],
   "source": [
    "X_train[category_fea] = X_train[category_fea].astype(str)\n",
    "X_test[category_fea] = X_test[category_fea].astype(str)\n",
    "\n",
    "X_train[numerical_fea] = X_train[numerical_fea].astype(float)\n",
    "X_test[numerical_fea] = X_test[numerical_fea].astype(float)"
   ]
  },
  {
   "cell_type": "code",
   "execution_count": 20,
   "id": "f0a9e392",
   "metadata": {},
   "outputs": [
    {
     "name": "stdout",
     "output_type": "stream",
     "text": [
      "Learning rate set to 0.032658\n",
      "0:\tlearn: 0.6488125\ttotal: 159ms\tremaining: 2m 38s\n",
      "400:\tlearn: 0.1995525\ttotal: 2.15s\tremaining: 3.22s\n",
      "800:\tlearn: 0.1618644\ttotal: 4.23s\tremaining: 1.05s\n",
      "999:\tlearn: 0.1464660\ttotal: 5.18s\tremaining: 0us\n"
     ]
    },
    {
     "data": {
      "text/plain": [
       "<catboost.core.CatBoostClassifier at 0x1de002a4a88>"
      ]
     },
     "execution_count": 20,
     "metadata": {},
     "output_type": "execute_result"
    }
   ],
   "source": [
    "model = catboost.CatBoostClassifier(cat_features = category_fea, random_state = 2080)\n",
    "model.fit(X_train, y_train, verbose=400)"
   ]
  },
  {
   "cell_type": "code",
   "execution_count": 21,
   "id": "2c9463b3",
   "metadata": {},
   "outputs": [],
   "source": [
    "y_pred = model.predict_proba(X_test)"
   ]
  },
  {
   "cell_type": "markdown",
   "id": "1ffb83a1",
   "metadata": {},
   "source": [
    "### 模型改进"
   ]
  },
  {
   "cell_type": "code",
   "execution_count": 22,
   "id": "bab9285b",
   "metadata": {},
   "outputs": [],
   "source": [
    "feature_importances = model.get_feature_importance(prettified=True,\n",
    "                                                   thread_count=-1,\n",
    "                                                   verbose=False)"
   ]
  },
  {
   "cell_type": "code",
   "execution_count": 23,
   "id": "dbb277b8",
   "metadata": {},
   "outputs": [
    {
     "data": {
      "text/plain": [
       "{'app_type', 'is_train', 'known_dero', 'known_outstanding_loan'}"
      ]
     },
     "execution_count": 23,
     "metadata": {},
     "output_type": "execute_result"
    }
   ],
   "source": [
    "tr_cols = set(X_traintest.columns)\n",
    "same_col = list(tr_cols.intersection(set(X_internet.columns)))\n",
    "\n",
    "tr_cols.difference(set(same_col))"
   ]
  },
  {
   "cell_type": "code",
   "execution_count": 24,
   "id": "8e93fafa",
   "metadata": {},
   "outputs": [],
   "source": [
    "for i in range(feature_importances['Feature Id'].size):\n",
    "    if (feature_importances['Feature Id'][i] in same_col):\n",
    "        if feature_importances['Importances'][i]>1:\n",
    "            X_traintest[feature_importances['Feature Id'][i]+'_cnt'] = category_encoders.count.CountEncoder().fit_transform(X_traintest[feature_importances['Feature Id'][i]])\n",
    "            X_internet[feature_importances['Feature Id'][i]+'_cnt'] = category_encoders.count.CountEncoder().fit_transform(X_internet[feature_importances['Feature Id'][i]])\n"
   ]
  },
  {
   "cell_type": "code",
   "execution_count": 25,
   "id": "db53fce3",
   "metadata": {},
   "outputs": [],
   "source": [
    "all_fea = X_traintest.columns\n",
    "X_train = X_traintest[X_traintest.is_train == 1][all_fea]\n",
    "X_train = pd.concat([X_train, train_data['isDefault']], axis=1)\n",
    "y_train = train_data['isDefault']\n",
    "\n",
    "X_test = X_traintest[X_traintest.is_train == 0][all_fea]\n",
    "\n",
    "X_train = X_train.drop('is_train', axis=1)\n",
    "X_test = X_test.drop('is_train', axis=1)"
   ]
  },
  {
   "cell_type": "code",
   "execution_count": 26,
   "id": "52eba07d",
   "metadata": {},
   "outputs": [],
   "source": [
    "tr_cols = set(X_train.columns)\n",
    "same_col = list(tr_cols.intersection(set(X_internet.columns)))\n",
    "train_inteSame = X_internet[same_col].copy()\n",
    "\n",
    "Inte_add_cos = list(tr_cols.difference(set(same_col)))\n",
    "for col in Inte_add_cos:\n",
    "    train_inteSame[col] = np.nan\n"
   ]
  },
  {
   "cell_type": "code",
   "execution_count": 27,
   "id": "30286ae6",
   "metadata": {},
   "outputs": [],
   "source": [
    "numerical_fea = list(X_train.select_dtypes(exclude=['object']).columns) \n",
    "category_fea = list(filter(lambda x: x not in numerical_fea,list(X_train.columns)))\n",
    "\n",
    "\n",
    "X_train[category_fea] = X_train[category_fea].astype(str)\n",
    "train_inteSame[category_fea] = train_inteSame[category_fea].astype(str)\n",
    "\n",
    "X_train[numerical_fea] = X_train[numerical_fea].astype(float)\n",
    "train_inteSame[numerical_fea] = train_inteSame[numerical_fea].astype(float)"
   ]
  },
  {
   "cell_type": "markdown",
   "id": "71857b8b",
   "metadata": {},
   "source": [
    "# Catboost"
   ]
  },
  {
   "cell_type": "code",
   "execution_count": 30,
   "id": "b2f92803",
   "metadata": {},
   "outputs": [],
   "source": [
    "def train_model(data_, test_, y_, folds_):\n",
    "    oof_preds = np.zeros(data_.shape[0])\n",
    "    sub_preds = np.zeros(test_.shape[0])\n",
    "    feature_importance_df = pd.DataFrame()\n",
    "    feats = [f for f in data_.columns if f not in ['loan_id', 'user_id', 'isDefault'] ]\n",
    "    for n_fold, (trn_idx, val_idx) in enumerate(folds_.split(data_)):\n",
    "        trn_x, trn_y = data_[feats].iloc[trn_idx], y_.iloc[trn_idx]\n",
    "        val_x, val_y = data_[feats].iloc[val_idx], y_.iloc[val_idx]\n",
    "        clf = catboost.CatBoostClassifier(cat_features = category_fea, random_state = 2080)\n",
    "        \n",
    "        clf.fit(trn_x, trn_y, \n",
    "                eval_set= [(trn_x, trn_y), (val_x, val_y)], \n",
    "                verbose=400 #30\n",
    "               )\n",
    "\n",
    "        oof_preds[val_idx] = clf.predict_proba(val_x)[:, 1]\n",
    "        sub_preds += clf.predict_proba(test_[feats])[:, 1] / folds_.n_splits\n",
    "        \n",
    "        fold_importance_df = pd.DataFrame()\n",
    "        fold_importance_df[\"feature\"] = feats\n",
    "        fold_importance_df[\"importance\"] = clf.feature_importances_\n",
    "        fold_importance_df[\"fold\"] = n_fold + 1\n",
    "        feature_importance_df = pd.concat([feature_importance_df, fold_importance_df], axis=0)\n",
    "        \n",
    "        print('Fold %2d AUC : %.6f' % (n_fold + 1, roc_auc_score(val_y, oof_preds[val_idx])))\n",
    "        del clf, trn_x, trn_y, val_x, val_y\n",
    "        gc.collect()\n",
    "        \n",
    "    print('Full AUC score %.6f' % roc_auc_score(y_, oof_preds)) \n",
    "    \n",
    "    test_['isDefault'] = sub_preds\n",
    "\n",
    "    return oof_preds, test_[['loan_id', 'isDefault']], feature_importance_df"
   ]
  },
  {
   "cell_type": "code",
   "execution_count": 31,
   "id": "8b8db6cc",
   "metadata": {},
   "outputs": [
    {
     "name": "stdout",
     "output_type": "stream",
     "text": [
      "Learning rate set to 0.058453\n",
      "0:\tlearn: 0.6154447\ttest: 0.6155165\ttest1: 0.6161288\tbest: 0.6161288 (0)\ttotal: 6.93ms\tremaining: 6.92s\n",
      "400:\tlearn: 0.1567822\ttest: 0.1568077\ttest1: 0.2389506\tbest: 0.2364307 (204)\ttotal: 2.63s\tremaining: 3.92s\n",
      "800:\tlearn: 0.1019328\ttest: 0.1019579\ttest1: 0.2470964\tbest: 0.2364307 (204)\ttotal: 5.25s\tremaining: 1.3s\n",
      "999:\tlearn: 0.0840897\ttest: 0.0841149\ttest1: 0.2517052\tbest: 0.2364307 (204)\ttotal: 6.58s\tremaining: 0us\n",
      "\n",
      "bestTest = 0.2364306873\n",
      "bestIteration = 204\n",
      "\n",
      "Shrink model to first 205 iterations.\n",
      "Fold  1 AUC : 0.886599\n",
      "Learning rate set to 0.058453\n",
      "0:\tlearn: 0.6154409\ttest: 0.6155131\ttest1: 0.6150933\tbest: 0.6150933 (0)\ttotal: 7.44ms\tremaining: 7.43s\n",
      "400:\tlearn: 0.1561644\ttest: 0.1561906\ttest1: 0.2444803\tbest: 0.2385957 (156)\ttotal: 2.8s\tremaining: 4.18s\n",
      "800:\tlearn: 0.1031193\ttest: 0.1031451\ttest1: 0.2576204\tbest: 0.2385957 (156)\ttotal: 5.39s\tremaining: 1.34s\n",
      "999:\tlearn: 0.0856035\ttest: 0.0856285\ttest1: 0.2647247\tbest: 0.2385957 (156)\ttotal: 6.81s\tremaining: 0us\n",
      "\n",
      "bestTest = 0.2385956554\n",
      "bestIteration = 156\n",
      "\n",
      "Shrink model to first 157 iterations.\n",
      "Fold  2 AUC : 0.878652\n",
      "Learning rate set to 0.058453\n",
      "0:\tlearn: 0.6150073\ttest: 0.6150789\ttest1: 0.6154619\tbest: 0.6154619 (0)\ttotal: 22.8ms\tremaining: 22.8s\n",
      "400:\tlearn: 0.1553842\ttest: 0.1554091\ttest1: 0.2521023\tbest: 0.2473237 (208)\ttotal: 2.62s\tremaining: 3.92s\n",
      "800:\tlearn: 0.1026576\ttest: 0.1026828\ttest1: 0.2604068\tbest: 0.2473237 (208)\ttotal: 5.15s\tremaining: 1.28s\n",
      "999:\tlearn: 0.0853785\ttest: 0.0854035\ttest1: 0.2646774\tbest: 0.2473237 (208)\ttotal: 6.47s\tremaining: 0us\n",
      "\n",
      "bestTest = 0.2473237128\n",
      "bestIteration = 208\n",
      "\n",
      "Shrink model to first 209 iterations.\n",
      "Fold  3 AUC : 0.877043\n",
      "Learning rate set to 0.058454\n",
      "0:\tlearn: 0.6117879\ttest: 0.6118594\ttest1: 0.6130596\tbest: 0.6130596 (0)\ttotal: 7.95ms\tremaining: 7.94s\n",
      "400:\tlearn: 0.1550131\ttest: 0.1550368\ttest1: 0.2715963\tbest: 0.2667616 (87)\ttotal: 2.69s\tremaining: 4.02s\n",
      "800:\tlearn: 0.1017627\ttest: 0.1017867\ttest1: 0.2839089\tbest: 0.2667616 (87)\ttotal: 5.36s\tremaining: 1.33s\n",
      "999:\tlearn: 0.0842061\ttest: 0.0842297\ttest1: 0.2909072\tbest: 0.2667616 (87)\ttotal: 6.61s\tremaining: 0us\n",
      "\n",
      "bestTest = 0.2667616243\n",
      "bestIteration = 87\n",
      "\n",
      "Shrink model to first 88 iterations.\n",
      "Fold  4 AUC : 0.847537\n",
      "Learning rate set to 0.058454\n",
      "0:\tlearn: 0.6137931\ttest: 0.6138640\ttest1: 0.6129774\tbest: 0.6129774 (0)\ttotal: 8.44ms\tremaining: 8.44s\n",
      "400:\tlearn: 0.1588151\ttest: 0.1588380\ttest1: 0.2496644\tbest: 0.2415888 (144)\ttotal: 2.63s\tremaining: 3.94s\n",
      "800:\tlearn: 0.1055671\ttest: 0.1055903\ttest1: 0.2600606\tbest: 0.2415888 (144)\ttotal: 5.26s\tremaining: 1.31s\n",
      "999:\tlearn: 0.0870435\ttest: 0.0870675\ttest1: 0.2653282\tbest: 0.2415888 (144)\ttotal: 6.64s\tremaining: 0us\n",
      "\n",
      "bestTest = 0.2415888388\n",
      "bestIteration = 144\n",
      "\n",
      "Shrink model to first 145 iterations.\n",
      "Fold  5 AUC : 0.871228\n",
      "Full AUC score 0.871965\n"
     ]
    }
   ],
   "source": [
    "folds = KFold(n_splits=5, shuffle=True, random_state=546789)\n",
    "oof_preds, IntePre, importances = train_model(X_train, train_inteSame, y_train, folds)"
   ]
  },
  {
   "cell_type": "code",
   "execution_count": 32,
   "id": "18a0f3d8",
   "metadata": {},
   "outputs": [
    {
     "name": "stderr",
     "output_type": "stream",
     "text": [
      "E:\\anaconda3\\envs\\pytorch\\lib\\site-packages\\ipykernel_launcher.py:1: SettingWithCopyWarning: \n",
      "A value is trying to be set on a copy of a slice from a DataFrame.\n",
      "Try using .loc[row_indexer,col_indexer] = value instead\n",
      "\n",
      "See the caveats in the documentation: https://pandas.pydata.org/pandas-docs/stable/user_guide/indexing.html#returning-a-view-versus-a-copy\n",
      "  \"\"\"Entry point for launching an IPython kernel.\n"
     ]
    },
    {
     "data": {
      "text/plain": [
       "0.7329752753787245"
      ]
     },
     "execution_count": 32,
     "metadata": {},
     "output_type": "execute_result"
    }
   ],
   "source": [
    "IntePre['isDef'] = train_internet['is_default']\n",
    "from sklearn.metrics import roc_auc_score\n",
    "roc_auc_score(IntePre['isDef'],IntePre.isDefault)"
   ]
  },
  {
   "cell_type": "code",
   "execution_count": 33,
   "id": "1c9fa9df",
   "metadata": {},
   "outputs": [],
   "source": [
    "InteId = IntePre.loc[IntePre.isDefault<0.02, 'loan_id'].tolist()\n",
    "\n",
    "X_train['dataSourse'] = 1\n",
    "X_test['dataSourse'] = 1\n",
    "train_inteSame['dataSourse'] = 0\n",
    "train_inteSame['isDefault'] = X_internet['is_default']\n",
    "use_te = train_inteSame[train_inteSame.loan_id.isin( InteId )].copy()\n",
    "data = pd.concat([ X_train,X_test,use_te]).reset_index(drop=True)\n"
   ]
  },
  {
   "cell_type": "code",
   "execution_count": 34,
   "id": "65645a23",
   "metadata": {},
   "outputs": [],
   "source": [
    "data[category_fea] = data[category_fea].astype(str)\n",
    "\n",
    "data[numerical_fea] = data[numerical_fea].astype(float)"
   ]
  },
  {
   "cell_type": "code",
   "execution_count": 35,
   "id": "c227aa11",
   "metadata": {},
   "outputs": [
    {
     "name": "stdout",
     "output_type": "stream",
     "text": [
      "Learning rate set to 0.086034\n",
      "0:\tlearn: 0.4326142\ttest: 0.4326310\ttest1: 0.4311381\tbest: 0.4311381 (0)\ttotal: 14.5ms\tremaining: 14.5s\n",
      "400:\tlearn: 0.0281334\ttest: 0.0281398\ttest1: 0.0540453\tbest: 0.0516940 (74)\ttotal: 4.26s\tremaining: 6.36s\n",
      "800:\tlearn: 0.0171809\ttest: 0.0171872\ttest1: 0.0579321\tbest: 0.0516940 (74)\ttotal: 8.44s\tremaining: 2.1s\n",
      "999:\tlearn: 0.0136140\ttest: 0.0136201\ttest1: 0.0594003\tbest: 0.0516940 (74)\ttotal: 10.5s\tremaining: 0us\n",
      "\n",
      "bestTest = 0.05169395486\n",
      "bestIteration = 74\n",
      "\n",
      "Shrink model to first 75 iterations.\n",
      "Fold  1 AUC : 0.974899\n",
      "Learning rate set to 0.086034\n",
      "0:\tlearn: 0.4321620\ttest: 0.4321805\ttest1: 0.4323152\tbest: 0.4323152 (0)\ttotal: 12.7ms\tremaining: 12.7s\n",
      "400:\tlearn: 0.0286567\ttest: 0.0286630\ttest1: 0.0566710\tbest: 0.0543771 (151)\ttotal: 4.09s\tremaining: 6.11s\n",
      "800:\tlearn: 0.0179266\ttest: 0.0179328\ttest1: 0.0610709\tbest: 0.0543771 (151)\ttotal: 8.31s\tremaining: 2.06s\n",
      "999:\tlearn: 0.0143418\ttest: 0.0143479\ttest1: 0.0637328\tbest: 0.0543771 (151)\ttotal: 10.3s\tremaining: 0us\n",
      "\n",
      "bestTest = 0.0543770997\n",
      "bestIteration = 151\n",
      "\n",
      "Shrink model to first 152 iterations.\n",
      "Fold  2 AUC : 0.976202\n",
      "Learning rate set to 0.086034\n",
      "0:\tlearn: 0.4332358\ttest: 0.4332548\ttest1: 0.4334678\tbest: 0.4334678 (0)\ttotal: 14.1ms\tremaining: 14.1s\n",
      "400:\tlearn: 0.0284075\ttest: 0.0284142\ttest1: 0.0524218\tbest: 0.0493766 (65)\ttotal: 4.16s\tremaining: 6.21s\n",
      "800:\tlearn: 0.0176751\ttest: 0.0176817\ttest1: 0.0552951\tbest: 0.0493766 (65)\ttotal: 8.32s\tremaining: 2.07s\n",
      "999:\tlearn: 0.0139308\ttest: 0.0139372\ttest1: 0.0570872\tbest: 0.0493766 (65)\ttotal: 10.4s\tremaining: 0us\n",
      "\n",
      "bestTest = 0.04937658289\n",
      "bestIteration = 65\n",
      "\n",
      "Shrink model to first 66 iterations.\n",
      "Fold  3 AUC : 0.976221\n",
      "Learning rate set to 0.086034\n",
      "0:\tlearn: 0.4323014\ttest: 0.4323201\ttest1: 0.4338008\tbest: 0.4338008 (0)\ttotal: 12.3ms\tremaining: 12.3s\n",
      "400:\tlearn: 0.0290267\ttest: 0.0290333\ttest1: 0.0560774\tbest: 0.0526771 (78)\ttotal: 4.04s\tremaining: 6.03s\n",
      "800:\tlearn: 0.0183355\ttest: 0.0183419\ttest1: 0.0597093\tbest: 0.0526771 (78)\ttotal: 8.19s\tremaining: 2.03s\n",
      "999:\tlearn: 0.0146968\ttest: 0.0147030\ttest1: 0.0615775\tbest: 0.0526771 (78)\ttotal: 10.3s\tremaining: 0us\n",
      "\n",
      "bestTest = 0.05267710381\n",
      "bestIteration = 78\n",
      "\n",
      "Shrink model to first 79 iterations.\n",
      "Fold  4 AUC : 0.974814\n",
      "Learning rate set to 0.086034\n",
      "0:\tlearn: 0.4332383\ttest: 0.4332559\ttest1: 0.4331723\tbest: 0.4331723 (0)\ttotal: 24.9ms\tremaining: 24.9s\n",
      "400:\tlearn: 0.0291120\ttest: 0.0291188\ttest1: 0.0499380\tbest: 0.0485997 (78)\ttotal: 4.14s\tremaining: 6.19s\n",
      "800:\tlearn: 0.0175758\ttest: 0.0175824\ttest1: 0.0524965\tbest: 0.0485997 (78)\ttotal: 8.34s\tremaining: 2.07s\n",
      "999:\tlearn: 0.0140508\ttest: 0.0140572\ttest1: 0.0536361\tbest: 0.0485997 (78)\ttotal: 10.5s\tremaining: 0us\n",
      "\n",
      "bestTest = 0.04859970778\n",
      "bestIteration = 78\n",
      "\n",
      "Shrink model to first 79 iterations.\n",
      "Fold  5 AUC : 0.978934\n",
      "Full AUC score 0.975928\n"
     ]
    },
    {
     "name": "stderr",
     "output_type": "stream",
     "text": [
      "E:\\anaconda3\\envs\\pytorch\\lib\\site-packages\\ipykernel_launcher.py:31: SettingWithCopyWarning: \n",
      "A value is trying to be set on a copy of a slice from a DataFrame.\n",
      "Try using .loc[row_indexer,col_indexer] = value instead\n",
      "\n",
      "See the caveats in the documentation: https://pandas.pydata.org/pandas-docs/stable/user_guide/indexing.html#returning-a-view-versus-a-copy\n"
     ]
    }
   ],
   "source": [
    "train = data[data['isDefault'].notna()]\n",
    "test  = data[data['isDefault'].isna()]\n",
    "\n",
    "\n",
    "\n",
    "\n",
    "y = train['isDefault']\n",
    "folds = KFold(n_splits=5, shuffle=True, random_state=1997)\n",
    "oof_preds, test_preds, importances = train_model(train, test, y, folds)"
   ]
  },
  {
   "cell_type": "markdown",
   "id": "315e5f13",
   "metadata": {},
   "source": [
    "### 输出 "
   ]
  },
  {
   "cell_type": "code",
   "execution_count": 36,
   "id": "809b0e29",
   "metadata": {},
   "outputs": [],
   "source": [
    "test_preds.rename({'loan_id': 'id'}, axis=1)[['id', 'isDefault']].to_csv('./submit/test_new_cb.csv', index=False)"
   ]
  },
  {
   "cell_type": "code",
   "execution_count": 37,
   "id": "0851caaa",
   "metadata": {},
   "outputs": [
    {
     "data": {
      "text/html": [
       "<div>\n",
       "<style scoped>\n",
       "    .dataframe tbody tr th:only-of-type {\n",
       "        vertical-align: middle;\n",
       "    }\n",
       "\n",
       "    .dataframe tbody tr th {\n",
       "        vertical-align: top;\n",
       "    }\n",
       "\n",
       "    .dataframe thead th {\n",
       "        text-align: right;\n",
       "    }\n",
       "</style>\n",
       "<table border=\"1\" class=\"dataframe\">\n",
       "  <thead>\n",
       "    <tr style=\"text-align: right;\">\n",
       "      <th></th>\n",
       "      <th>loan_id</th>\n",
       "      <th>isDefault</th>\n",
       "    </tr>\n",
       "  </thead>\n",
       "  <tbody>\n",
       "    <tr>\n",
       "      <th>14908</th>\n",
       "      <td>1000575.0</td>\n",
       "      <td>0.008986</td>\n",
       "    </tr>\n",
       "    <tr>\n",
       "      <th>14909</th>\n",
       "      <td>1028125.0</td>\n",
       "      <td>0.036979</td>\n",
       "    </tr>\n",
       "    <tr>\n",
       "      <th>14910</th>\n",
       "      <td>1010694.0</td>\n",
       "      <td>0.003642</td>\n",
       "    </tr>\n",
       "    <tr>\n",
       "      <th>14911</th>\n",
       "      <td>1026712.0</td>\n",
       "      <td>0.002939</td>\n",
       "    </tr>\n",
       "    <tr>\n",
       "      <th>14912</th>\n",
       "      <td>1002895.0</td>\n",
       "      <td>0.012328</td>\n",
       "    </tr>\n",
       "    <tr>\n",
       "      <th>...</th>\n",
       "      <td>...</td>\n",
       "      <td>...</td>\n",
       "    </tr>\n",
       "    <tr>\n",
       "      <th>19903</th>\n",
       "      <td>1008856.0</td>\n",
       "      <td>0.270302</td>\n",
       "    </tr>\n",
       "    <tr>\n",
       "      <th>19904</th>\n",
       "      <td>1016651.0</td>\n",
       "      <td>0.006606</td>\n",
       "    </tr>\n",
       "    <tr>\n",
       "      <th>19905</th>\n",
       "      <td>1024140.0</td>\n",
       "      <td>0.002429</td>\n",
       "    </tr>\n",
       "    <tr>\n",
       "      <th>19906</th>\n",
       "      <td>1014316.0</td>\n",
       "      <td>0.009418</td>\n",
       "    </tr>\n",
       "    <tr>\n",
       "      <th>19907</th>\n",
       "      <td>1012946.0</td>\n",
       "      <td>0.002383</td>\n",
       "    </tr>\n",
       "  </tbody>\n",
       "</table>\n",
       "<p>5000 rows × 2 columns</p>\n",
       "</div>"
      ],
      "text/plain": [
       "         loan_id  isDefault\n",
       "14908  1000575.0   0.008986\n",
       "14909  1028125.0   0.036979\n",
       "14910  1010694.0   0.003642\n",
       "14911  1026712.0   0.002939\n",
       "14912  1002895.0   0.012328\n",
       "...          ...        ...\n",
       "19903  1008856.0   0.270302\n",
       "19904  1016651.0   0.006606\n",
       "19905  1024140.0   0.002429\n",
       "19906  1014316.0   0.009418\n",
       "19907  1012946.0   0.002383\n",
       "\n",
       "[5000 rows x 2 columns]"
      ]
     },
     "execution_count": 37,
     "metadata": {},
     "output_type": "execute_result"
    }
   ],
   "source": [
    "test_preds\n"
   ]
  },
  {
   "cell_type": "code",
   "execution_count": null,
   "id": "2e09b422",
   "metadata": {},
   "outputs": [],
   "source": []
  }
 ],
 "metadata": {
  "kernelspec": {
   "display_name": "Python 3 (ipykernel)",
   "language": "python",
   "name": "python3"
  },
  "language_info": {
   "codemirror_mode": {
    "name": "ipython",
    "version": 3
   },
   "file_extension": ".py",
   "mimetype": "text/x-python",
   "name": "python",
   "nbconvert_exporter": "python",
   "pygments_lexer": "ipython3",
   "version": "3.7.10"
  }
 },
 "nbformat": 4,
 "nbformat_minor": 5
}
